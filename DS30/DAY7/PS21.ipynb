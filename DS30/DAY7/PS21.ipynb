{
 "cells": [
  {
   "cell_type": "markdown",
   "metadata": {
    "id": "pa49bUnKyRgF"
   },
   "source": [
    "# Mini-project \\#2 (RNN exercise)"
   ]
  },
  {
   "cell_type": "markdown",
   "metadata": {},
   "source": [
    "## Task: Weather prediction"
   ]
  },
  {
   "cell_type": "markdown",
   "metadata": {
    "id": "GU8C5qm_4vZb"
   },
   "source": [
    "## Loading Jena climate dataset & propreprocessing"
   ]
  },
  {
   "cell_type": "code",
   "execution_count": 1,
   "metadata": {},
   "outputs": [
    {
     "name": "stderr",
     "output_type": "stream",
     "text": [
      "C:\\Users\\chsuh\\AppData\\Local\\Temp\\ipykernel_33720\\391320505.py:8: SettingWithCopyWarning: \n",
      "A value is trying to be set on a copy of a slice from a DataFrame\n",
      "\n",
      "See the caveats in the documentation: https://pandas.pydata.org/pandas-docs/stable/user_guide/indexing.html#returning-a-view-versus-a-copy\n",
      "  wv[wv_missing_idx] = wv_mean\n",
      "C:\\Users\\chsuh\\AppData\\Local\\Temp\\ipykernel_33720\\391320505.py:13: SettingWithCopyWarning: \n",
      "A value is trying to be set on a copy of a slice from a DataFrame\n",
      "\n",
      "See the caveats in the documentation: https://pandas.pydata.org/pandas-docs/stable/user_guide/indexing.html#returning-a-view-versus-a-copy\n",
      "  max_wv[missing_idx] = max_wv_mean\n"
     ]
    }
   ],
   "source": [
    "import pandas as pd\n",
    "data = pd.read_csv('jena_climate_2009_2016.csv')\n",
    "\n",
    "# fill up the missing entries with the mean\n",
    "wv = data['wv (m/s)']\n",
    "wv_missing_idx = (wv == -9999.00)\n",
    "wv_mean = wv[~wv_missing_idx].mean()\n",
    "wv[wv_missing_idx] = wv_mean\n",
    "\n",
    "max_wv = data['max. wv (m/s)']\n",
    "missing_idx = (max_wv == -9999.00)\n",
    "max_wv_mean = max_wv[~missing_idx].mean()\n",
    "max_wv[missing_idx] = max_wv_mean\n",
    "\n",
    "# revmoe 'data time' column \n",
    "data.pop('Date Time')\n",
    "\n",
    "# downsampling\n",
    "data = data[0::6] # m=70,092"
   ]
  },
  {
   "cell_type": "markdown",
   "metadata": {
    "id": "RAQMKUDfWEpW"
   },
   "source": [
    "## Normalization & splitting"
   ]
  },
  {
   "cell_type": "code",
   "execution_count": 2,
   "metadata": {},
   "outputs": [],
   "source": [
    "features = data\n",
    "labels = data[['T (degC)']]\n",
    "\n",
    "# normalization\n",
    "from sklearn.preprocessing import StandardScaler\n",
    "std_scaler = StandardScaler()\n",
    "features = std_scaler.fit_transform(features)\n",
    "\n",
    "# 7:2:1 splitting\n",
    "from sklearn.model_selection import train_test_split\n",
    "X_rest, X_test, y_rest, y_test = train_test_split(features,\n",
    "                                                  labels,\n",
    "                                                  test_size=0.1,\n",
    "                                                  shuffle=False)\n",
    "X_train, X_val, y_train, y_val = train_test_split(X_rest,\n",
    "                                                  y_rest,\n",
    "                                                  test_size=2/9,\n",
    "                                                  shuffle=False)"
   ]
  },
  {
   "cell_type": "markdown",
   "metadata": {},
   "source": [
    "## Time series data generation: Construct $\\{ (x_T^{(i)}, y_T^{(i)}) \\}_{i=1}^{m_T}$"
   ]
  },
  {
   "cell_type": "code",
   "execution_count": 3,
   "metadata": {},
   "outputs": [],
   "source": [
    "T = 24\n",
    "batch_size = 16\n",
    "\n",
    "from tensorflow.keras.preprocessing import timeseries_dataset_from_array\n",
    "# Train batch dataset\n",
    "dataset_train = timeseries_dataset_from_array(X_train[:-T],\n",
    "                                              y_train[T:],\n",
    "                                              sequence_length = T,\n",
    "                                              sequence_stride = 1, \n",
    "                                              batch_size = batch_size,\n",
    "                                              shuffle = True)\n",
    "# validation batch dataset\n",
    "dataset_val = timeseries_dataset_from_array(X_val[:-T],\n",
    "                                            y_val[T:], \n",
    "                                            sequence_length = T,\n",
    "                                            sequence_stride = 1,\n",
    "                                            batch_size=batch_size,\n",
    "                                            shuffle = False)\n",
    "# test batch dataset\n",
    "dataset_test = timeseries_dataset_from_array(X_test[:-T],\n",
    "                                             y_test[T:],\n",
    "                                             sequence_length = T,\n",
    "                                             sequence_stride = 1,\n",
    "                                             batch_size=batch_size,\n",
    "                                             shuffle = False)"
   ]
  },
  {
   "cell_type": "markdown",
   "metadata": {},
   "source": [
    "## DNN model"
   ]
  },
  {
   "cell_type": "code",
   "execution_count": 4,
   "metadata": {},
   "outputs": [],
   "source": [
    "from tensorflow.keras.models import Model\n",
    "from tensorflow.keras.layers import Input,Flatten,Dense\n",
    "from tensorflow.keras.optimizers import Adam\n",
    "from tensorflow.keras.callbacks import EarlyStopping\n",
    "from tensorflow.keras.callbacks import LearningRateScheduler\n",
    "\n"
   ]
  },
  {
   "cell_type": "code",
   "execution_count": 5,
   "metadata": {},
   "outputs": [
    {
     "name": "stdout",
     "output_type": "stream",
     "text": [
      "Model: \"model\"\n",
      "_________________________________________________________________\n",
      " Layer (type)                Output Shape              Param #   \n",
      "=================================================================\n",
      " input_1 (InputLayer)        [(None, 24, 14)]          0         \n",
      "                                                                 \n",
      " flatten (Flatten)           (None, 336)               0         \n",
      "                                                                 \n",
      " dense (Dense)               (None, 32)                10784     \n",
      "                                                                 \n",
      " dense_1 (Dense)             (None, 1)                 33        \n",
      "                                                                 \n",
      "=================================================================\n",
      "Total params: 10,817\n",
      "Trainable params: 10,817\n",
      "Non-trainable params: 0\n",
      "_________________________________________________________________\n"
     ]
    }
   ],
   "source": [
    "# DNN model construction\n",
    "inputs = Input(shape=(T,14))\n",
    "x = Flatten()(inputs)\n",
    "x = Dense(units=32,activation='relu')(x)\n",
    "outputs = Dense(units=1)(x)\n",
    "dnn_model = Model(inputs=inputs,outputs=outputs)\n",
    "dnn_model.summary()"
   ]
  },
  {
   "cell_type": "code",
   "execution_count": 6,
   "metadata": {},
   "outputs": [],
   "source": [
    "# Early stopping & learning rate decay\n",
    "es_callback = EarlyStopping(monitor='val_loss',patience=10)\n",
    "def scheduler(epoch,lr):\n",
    "    if epoch in [10,20,30]: lr = 0.1*lr\n",
    "    return lr\n",
    "lrs_callback = LearningRateScheduler(scheduler)"
   ]
  },
  {
   "cell_type": "code",
   "execution_count": 7,
   "metadata": {},
   "outputs": [],
   "source": [
    "# Optimizer\n",
    "opt = Adam(learning_rate=0.001,\n",
    "          beta_1=0.9,\n",
    "          beta_2=0.999)"
   ]
  },
  {
   "cell_type": "code",
   "execution_count": 8,
   "metadata": {},
   "outputs": [],
   "source": [
    "# Compile\n",
    "from tensorflow.keras.metrics import RootMeanSquaredError\n",
    "dnn_model.compile(loss='mean_squared_error',\n",
    "                 metrics=RootMeanSquaredError(),\n",
    "                 optimizer=opt)"
   ]
  },
  {
   "cell_type": "code",
   "execution_count": 9,
   "metadata": {},
   "outputs": [
    {
     "name": "stdout",
     "output_type": "stream",
     "text": [
      "Epoch 1/30\n",
      "3064/3064 [==============================] - 16s 4ms/step - loss: 4.0462 - root_mean_squared_error: 2.0115 - val_loss: 0.9511 - val_root_mean_squared_error: 0.9752 - lr: 0.0010\n",
      "Epoch 2/30\n",
      "3064/3064 [==============================] - 14s 5ms/step - loss: 0.8718 - root_mean_squared_error: 0.9337 - val_loss: 0.6878 - val_root_mean_squared_error: 0.8294 - lr: 0.0010\n",
      "Epoch 3/30\n",
      "3064/3064 [==============================] - 13s 4ms/step - loss: 0.7640 - root_mean_squared_error: 0.8740 - val_loss: 0.6770 - val_root_mean_squared_error: 0.8228 - lr: 0.0010\n",
      "Epoch 4/30\n",
      "3064/3064 [==============================] - 13s 4ms/step - loss: 0.7125 - root_mean_squared_error: 0.8441 - val_loss: 0.7528 - val_root_mean_squared_error: 0.8676 - lr: 0.0010\n",
      "Epoch 5/30\n",
      "3064/3064 [==============================] - 14s 4ms/step - loss: 0.6894 - root_mean_squared_error: 0.8303 - val_loss: 0.6323 - val_root_mean_squared_error: 0.7952 - lr: 0.0010\n",
      "Epoch 6/30\n",
      "3064/3064 [==============================] - 13s 4ms/step - loss: 0.6596 - root_mean_squared_error: 0.8122 - val_loss: 0.6292 - val_root_mean_squared_error: 0.7932 - lr: 0.0010\n",
      "Epoch 7/30\n",
      "3064/3064 [==============================] - 14s 4ms/step - loss: 0.6408 - root_mean_squared_error: 0.8005 - val_loss: 0.5819 - val_root_mean_squared_error: 0.7628 - lr: 0.0010\n",
      "Epoch 8/30\n",
      "3064/3064 [==============================] - 13s 4ms/step - loss: 0.6311 - root_mean_squared_error: 0.7944 - val_loss: 0.5787 - val_root_mean_squared_error: 0.7607 - lr: 0.0010\n",
      "Epoch 9/30\n",
      "3064/3064 [==============================] - 12s 4ms/step - loss: 0.6204 - root_mean_squared_error: 0.7877 - val_loss: 0.5522 - val_root_mean_squared_error: 0.7431 - lr: 0.0010\n",
      "Epoch 10/30\n",
      "3064/3064 [==============================] - 14s 4ms/step - loss: 0.5998 - root_mean_squared_error: 0.7745 - val_loss: 0.6124 - val_root_mean_squared_error: 0.7826 - lr: 0.0010\n",
      "Epoch 11/30\n",
      "3064/3064 [==============================] - 15s 5ms/step - loss: 0.5054 - root_mean_squared_error: 0.7109 - val_loss: 0.5235 - val_root_mean_squared_error: 0.7235 - lr: 1.0000e-04\n",
      "Epoch 12/30\n",
      "3064/3064 [==============================] - 15s 5ms/step - loss: 0.4998 - root_mean_squared_error: 0.7069 - val_loss: 0.5214 - val_root_mean_squared_error: 0.7221 - lr: 1.0000e-04\n",
      "Epoch 13/30\n",
      "3064/3064 [==============================] - 14s 5ms/step - loss: 0.4980 - root_mean_squared_error: 0.7057 - val_loss: 0.5211 - val_root_mean_squared_error: 0.7219 - lr: 1.0000e-04\n",
      "Epoch 14/30\n",
      "3064/3064 [==============================] - 11s 4ms/step - loss: 0.4963 - root_mean_squared_error: 0.7045 - val_loss: 0.5212 - val_root_mean_squared_error: 0.7219 - lr: 1.0000e-04\n",
      "Epoch 15/30\n",
      "3064/3064 [==============================] - 12s 4ms/step - loss: 0.4947 - root_mean_squared_error: 0.7033 - val_loss: 0.5221 - val_root_mean_squared_error: 0.7226 - lr: 1.0000e-04\n",
      "Epoch 16/30\n",
      "3064/3064 [==============================] - 14s 5ms/step - loss: 0.4939 - root_mean_squared_error: 0.7028 - val_loss: 0.5209 - val_root_mean_squared_error: 0.7217 - lr: 1.0000e-04\n",
      "Epoch 17/30\n",
      "3064/3064 [==============================] - 13s 4ms/step - loss: 0.4932 - root_mean_squared_error: 0.7023 - val_loss: 0.5204 - val_root_mean_squared_error: 0.7214 - lr: 1.0000e-04\n",
      "Epoch 18/30\n",
      "3064/3064 [==============================] - 12s 4ms/step - loss: 0.4920 - root_mean_squared_error: 0.7014 - val_loss: 0.5191 - val_root_mean_squared_error: 0.7205 - lr: 1.0000e-04\n",
      "Epoch 19/30\n",
      "3064/3064 [==============================] - 14s 5ms/step - loss: 0.4912 - root_mean_squared_error: 0.7008 - val_loss: 0.5173 - val_root_mean_squared_error: 0.7193 - lr: 1.0000e-04\n",
      "Epoch 20/30\n",
      "3064/3064 [==============================] - 13s 4ms/step - loss: 0.4909 - root_mean_squared_error: 0.7006 - val_loss: 0.5163 - val_root_mean_squared_error: 0.7186 - lr: 1.0000e-04\n",
      "Epoch 21/30\n",
      "3064/3064 [==============================] - 15s 5ms/step - loss: 0.4798 - root_mean_squared_error: 0.6927 - val_loss: 0.5106 - val_root_mean_squared_error: 0.7145 - lr: 1.0000e-05\n",
      "Epoch 22/30\n",
      "3064/3064 [==============================] - 13s 4ms/step - loss: 0.4790 - root_mean_squared_error: 0.6921 - val_loss: 0.5104 - val_root_mean_squared_error: 0.7144 - lr: 1.0000e-05\n",
      "Epoch 23/30\n",
      "3064/3064 [==============================] - 13s 4ms/step - loss: 0.4787 - root_mean_squared_error: 0.6919 - val_loss: 0.5103 - val_root_mean_squared_error: 0.7143 - lr: 1.0000e-05\n",
      "Epoch 24/30\n",
      "3064/3064 [==============================] - 14s 5ms/step - loss: 0.4786 - root_mean_squared_error: 0.6918 - val_loss: 0.5102 - val_root_mean_squared_error: 0.7143 - lr: 1.0000e-05\n",
      "Epoch 25/30\n",
      "3064/3064 [==============================] - 13s 4ms/step - loss: 0.4785 - root_mean_squared_error: 0.6917 - val_loss: 0.5101 - val_root_mean_squared_error: 0.7142 - lr: 1.0000e-05\n",
      "Epoch 26/30\n",
      "3064/3064 [==============================] - 14s 4ms/step - loss: 0.4784 - root_mean_squared_error: 0.6916 - val_loss: 0.5099 - val_root_mean_squared_error: 0.7141 - lr: 1.0000e-05\n",
      "Epoch 27/30\n",
      "3064/3064 [==============================] - 14s 5ms/step - loss: 0.4782 - root_mean_squared_error: 0.6915 - val_loss: 0.5098 - val_root_mean_squared_error: 0.7140 - lr: 1.0000e-05\n",
      "Epoch 28/30\n",
      "3064/3064 [==============================] - 13s 4ms/step - loss: 0.4781 - root_mean_squared_error: 0.6915 - val_loss: 0.5098 - val_root_mean_squared_error: 0.7140 - lr: 1.0000e-05\n",
      "Epoch 29/30\n",
      "3064/3064 [==============================] - 14s 5ms/step - loss: 0.4780 - root_mean_squared_error: 0.6914 - val_loss: 0.5098 - val_root_mean_squared_error: 0.7140 - lr: 1.0000e-05\n",
      "Epoch 30/30\n",
      "3064/3064 [==============================] - 14s 5ms/step - loss: 0.4779 - root_mean_squared_error: 0.6913 - val_loss: 0.5097 - val_root_mean_squared_error: 0.7139 - lr: 1.0000e-05\n"
     ]
    }
   ],
   "source": [
    "# Training\n",
    "hist= dnn_model.fit(dataset_train,\n",
    "                    epochs=30,\n",
    "                    validation_data=dataset_val,\n",
    "                    callbacks=[es_callback,lrs_callback])"
   ]
  },
  {
   "cell_type": "code",
   "execution_count": 10,
   "metadata": {},
   "outputs": [
    {
     "name": "stdout",
     "output_type": "stream",
     "text": [
      "436/436 [==============================] - 2s 4ms/step - loss: 0.4932 - root_mean_squared_error: 0.7023\n",
      "T (degC)    0.089477\n",
      "dtype: float64\n"
     ]
    }
   ],
   "source": [
    "# Evaluate normalized RMSE\n",
    "eval_rmse = dnn_model.evaluate(dataset_test)[1]\n",
    "eval_nrmse = eval_rmse/y_test.std()\n",
    "print(eval_nrmse)"
   ]
  },
  {
   "cell_type": "markdown",
   "metadata": {},
   "source": [
    "## LSTM model"
   ]
  },
  {
   "cell_type": "code",
   "execution_count": 11,
   "metadata": {},
   "outputs": [],
   "source": [
    "from tensorflow.keras.models import Model\n",
    "from tensorflow.keras.layers import Input, Flatten, Dense,LSTM\n",
    "from tensorflow.keras.optimizers import Adam\n",
    "from tensorflow.keras.callbacks import EarlyStopping\n",
    "from tensorflow.keras.callbacks import LearningRateScheduler"
   ]
  },
  {
   "cell_type": "code",
   "execution_count": 12,
   "metadata": {},
   "outputs": [
    {
     "name": "stdout",
     "output_type": "stream",
     "text": [
      "Model: \"model_1\"\n",
      "_________________________________________________________________\n",
      " Layer (type)                Output Shape              Param #   \n",
      "=================================================================\n",
      " input_2 (InputLayer)        [(None, 24, 14)]          0         \n",
      "                                                                 \n",
      " lstm (LSTM)                 (None, 24, 32)            6016      \n",
      "                                                                 \n",
      " lstm_1 (LSTM)               (None, 32)                8320      \n",
      "                                                                 \n",
      " dense_2 (Dense)             (None, 1)                 33        \n",
      "                                                                 \n",
      "=================================================================\n",
      "Total params: 14,369\n",
      "Trainable params: 14,369\n",
      "Non-trainable params: 0\n",
      "_________________________________________________________________\n"
     ]
    }
   ],
   "source": [
    "# LSTM model construction\n",
    "inputs = Input(shape=(T,14))\n",
    "x = LSTM(units=32,return_sequences=True)(inputs)\n",
    "x = LSTM(units=32)(x)\n",
    "outputs=Dense(units=1)(x)\n",
    "rnn_model = Model(inputs=inputs, outputs=outputs)\n",
    "rnn_model.summary()"
   ]
  },
  {
   "cell_type": "code",
   "execution_count": 13,
   "metadata": {},
   "outputs": [],
   "source": [
    "# Early stopping & learning rate decay\n",
    "es_callback = EarlyStopping(monitor='val_loss',patience=10)\n",
    "def scheduler(epoch,lr):\n",
    "    if epoch in [10,20,30]: lr = 0.1*lr\n",
    "    return lr\n",
    "lrs_callback = LearningRateScheduler(scheduler)"
   ]
  },
  {
   "cell_type": "code",
   "execution_count": 14,
   "metadata": {},
   "outputs": [],
   "source": [
    "# Optimizer\n",
    "opt = Adam(learning_rate=0.001,\n",
    "          beta_1=0.9,\n",
    "          beta_2=0.999)"
   ]
  },
  {
   "cell_type": "code",
   "execution_count": 15,
   "metadata": {},
   "outputs": [],
   "source": [
    "# Compile\n",
    "from tensorflow.keras.metrics import RootMeanSquaredError\n",
    "rnn_model.compile(loss='mean_squared_error',\n",
    "                 metrics=RootMeanSquaredError(),\n",
    "                 optimizer=opt)"
   ]
  },
  {
   "cell_type": "code",
   "execution_count": 16,
   "metadata": {},
   "outputs": [
    {
     "name": "stdout",
     "output_type": "stream",
     "text": [
      "Epoch 1/30\n",
      "3064/3064 [==============================] - 40s 11ms/step - loss: 7.4458 - root_mean_squared_error: 2.7287 - val_loss: 0.7951 - val_root_mean_squared_error: 0.8917 - lr: 0.0010\n",
      "Epoch 2/30\n",
      "3064/3064 [==============================] - 31s 10ms/step - loss: 0.6251 - root_mean_squared_error: 0.7906 - val_loss: 0.5424 - val_root_mean_squared_error: 0.7365 - lr: 0.0010\n",
      "Epoch 3/30\n",
      "3064/3064 [==============================] - 31s 10ms/step - loss: 0.5638 - root_mean_squared_error: 0.7509 - val_loss: 0.5172 - val_root_mean_squared_error: 0.7191 - lr: 0.0010\n",
      "Epoch 4/30\n",
      "3064/3064 [==============================] - 34s 11ms/step - loss: 0.5471 - root_mean_squared_error: 0.7397 - val_loss: 0.5013 - val_root_mean_squared_error: 0.7080 - lr: 0.0010\n",
      "Epoch 5/30\n",
      "3064/3064 [==============================] - 31s 10ms/step - loss: 0.5363 - root_mean_squared_error: 0.7323 - val_loss: 0.5083 - val_root_mean_squared_error: 0.7130 - lr: 0.0010\n",
      "Epoch 6/30\n",
      "3064/3064 [==============================] - 33s 11ms/step - loss: 0.5289 - root_mean_squared_error: 0.7273 - val_loss: 0.5260 - val_root_mean_squared_error: 0.7253 - lr: 0.0010\n",
      "Epoch 7/30\n",
      "3064/3064 [==============================] - 33s 11ms/step - loss: 0.5193 - root_mean_squared_error: 0.7206 - val_loss: 0.4923 - val_root_mean_squared_error: 0.7016 - lr: 0.0010\n",
      "Epoch 8/30\n",
      "3064/3064 [==============================] - 34s 11ms/step - loss: 0.5124 - root_mean_squared_error: 0.7158 - val_loss: 0.4806 - val_root_mean_squared_error: 0.6932 - lr: 0.0010\n",
      "Epoch 9/30\n",
      "3064/3064 [==============================] - 33s 11ms/step - loss: 0.5062 - root_mean_squared_error: 0.7114 - val_loss: 0.4914 - val_root_mean_squared_error: 0.7010 - lr: 0.0010\n",
      "Epoch 10/30\n",
      "3064/3064 [==============================] - 32s 11ms/step - loss: 0.5001 - root_mean_squared_error: 0.7071 - val_loss: 0.5031 - val_root_mean_squared_error: 0.7093 - lr: 0.0010\n",
      "Epoch 11/30\n",
      "3064/3064 [==============================] - 34s 11ms/step - loss: 0.4567 - root_mean_squared_error: 0.6758 - val_loss: 0.4541 - val_root_mean_squared_error: 0.6739 - lr: 1.0000e-04\n",
      "Epoch 12/30\n",
      "3064/3064 [==============================] - 33s 11ms/step - loss: 0.4514 - root_mean_squared_error: 0.6719 - val_loss: 0.4521 - val_root_mean_squared_error: 0.6724 - lr: 1.0000e-04\n",
      "Epoch 13/30\n",
      "3064/3064 [==============================] - 32s 11ms/step - loss: 0.4491 - root_mean_squared_error: 0.6701 - val_loss: 0.4512 - val_root_mean_squared_error: 0.6717 - lr: 1.0000e-04\n",
      "Epoch 14/30\n",
      "3064/3064 [==============================] - 30s 10ms/step - loss: 0.4478 - root_mean_squared_error: 0.6692 - val_loss: 0.4524 - val_root_mean_squared_error: 0.6726 - lr: 1.0000e-04\n",
      "Epoch 15/30\n",
      "3064/3064 [==============================] - 32s 11ms/step - loss: 0.4464 - root_mean_squared_error: 0.6682 - val_loss: 0.4510 - val_root_mean_squared_error: 0.6716 - lr: 1.0000e-04\n",
      "Epoch 16/30\n",
      "3064/3064 [==============================] - 31s 10ms/step - loss: 0.4453 - root_mean_squared_error: 0.6673 - val_loss: 0.4512 - val_root_mean_squared_error: 0.6717 - lr: 1.0000e-04\n",
      "Epoch 17/30\n",
      "3064/3064 [==============================] - 32s 10ms/step - loss: 0.4443 - root_mean_squared_error: 0.6666 - val_loss: 0.4510 - val_root_mean_squared_error: 0.6715 - lr: 1.0000e-04\n",
      "Epoch 18/30\n",
      "3064/3064 [==============================] - 31s 10ms/step - loss: 0.4437 - root_mean_squared_error: 0.6661 - val_loss: 0.4511 - val_root_mean_squared_error: 0.6716 - lr: 1.0000e-04\n",
      "Epoch 19/30\n",
      "3064/3064 [==============================] - 31s 10ms/step - loss: 0.4426 - root_mean_squared_error: 0.6653 - val_loss: 0.4508 - val_root_mean_squared_error: 0.6714 - lr: 1.0000e-04\n",
      "Epoch 20/30\n",
      "3064/3064 [==============================] - 32s 10ms/step - loss: 0.4417 - root_mean_squared_error: 0.6646 - val_loss: 0.4503 - val_root_mean_squared_error: 0.6711 - lr: 1.0000e-04\n",
      "Epoch 21/30\n",
      "3064/3064 [==============================] - 32s 10ms/step - loss: 0.4364 - root_mean_squared_error: 0.6606 - val_loss: 0.4491 - val_root_mean_squared_error: 0.6702 - lr: 1.0000e-05\n",
      "Epoch 22/30\n",
      "3064/3064 [==============================] - 32s 10ms/step - loss: 0.4358 - root_mean_squared_error: 0.6601 - val_loss: 0.4492 - val_root_mean_squared_error: 0.6702 - lr: 1.0000e-05\n",
      "Epoch 23/30\n",
      "3064/3064 [==============================] - 32s 10ms/step - loss: 0.4356 - root_mean_squared_error: 0.6600 - val_loss: 0.4493 - val_root_mean_squared_error: 0.6703 - lr: 1.0000e-05\n",
      "Epoch 24/30\n",
      "3064/3064 [==============================] - 32s 10ms/step - loss: 0.4354 - root_mean_squared_error: 0.6599 - val_loss: 0.4493 - val_root_mean_squared_error: 0.6703 - lr: 1.0000e-05\n",
      "Epoch 25/30\n",
      "3064/3064 [==============================] - 32s 10ms/step - loss: 0.4353 - root_mean_squared_error: 0.6598 - val_loss: 0.4494 - val_root_mean_squared_error: 0.6704 - lr: 1.0000e-05\n",
      "Epoch 26/30\n",
      "3064/3064 [==============================] - 32s 10ms/step - loss: 0.4352 - root_mean_squared_error: 0.6597 - val_loss: 0.4494 - val_root_mean_squared_error: 0.6704 - lr: 1.0000e-05\n",
      "Epoch 27/30\n",
      "3064/3064 [==============================] - 31s 10ms/step - loss: 0.4351 - root_mean_squared_error: 0.6596 - val_loss: 0.4494 - val_root_mean_squared_error: 0.6704 - lr: 1.0000e-05\n",
      "Epoch 28/30\n",
      "3064/3064 [==============================] - 33s 11ms/step - loss: 0.4349 - root_mean_squared_error: 0.6595 - val_loss: 0.4495 - val_root_mean_squared_error: 0.6704 - lr: 1.0000e-05\n",
      "Epoch 29/30\n",
      "3064/3064 [==============================] - 32s 10ms/step - loss: 0.4349 - root_mean_squared_error: 0.6594 - val_loss: 0.4495 - val_root_mean_squared_error: 0.6704 - lr: 1.0000e-05\n",
      "Epoch 30/30\n",
      "3064/3064 [==============================] - 32s 10ms/step - loss: 0.4348 - root_mean_squared_error: 0.6594 - val_loss: 0.4495 - val_root_mean_squared_error: 0.6705 - lr: 1.0000e-05\n"
     ]
    }
   ],
   "source": [
    "# Training\n",
    "history = rnn_model.fit(dataset_train,\n",
    "                    epochs=30,\n",
    "                    validation_data=dataset_val,\n",
    "                    callbacks=[es_callback,lrs_callback])"
   ]
  },
  {
   "cell_type": "code",
   "execution_count": 17,
   "metadata": {},
   "outputs": [
    {
     "name": "stdout",
     "output_type": "stream",
     "text": [
      "436/436 [==============================] - 3s 6ms/step - loss: 0.4399 - root_mean_squared_error: 0.6633\n",
      "T (degC)    0.084508\n",
      "dtype: float64\n"
     ]
    }
   ],
   "source": [
    "# Evaluate normalized RMSE\n",
    "eval_rmse = rnn_model.evaluate(dataset_test)[1]\n",
    "eval_nrmse = eval_rmse/y_test.std()\n",
    "print(eval_nrmse)"
   ]
  },
  {
   "cell_type": "code",
   "execution_count": 18,
   "metadata": {
    "colab": {
     "base_uri": "https://localhost:8080/",
     "height": 229
    },
    "id": "vJriJM4cfLV2",
    "outputId": "c9552277-c8ee-4b73-8cee-23031ac460e1"
   },
   "outputs": [
    {
     "name": "stdout",
     "output_type": "stream",
     "text": [
      "436/436 [==============================] - 3s 5ms/step\n"
     ]
    },
    {
     "data": {
      "text/plain": [
       "<matplotlib.legend.Legend at 0x2176e043c10>"
      ]
     },
     "execution_count": 18,
     "metadata": {},
     "output_type": "execute_result"
    },
    {
     "data": {
      "image/png": "[encoded data removed]",
      "text/plain": [
       "<Figure size 1500x450 with 1 Axes>"
      ]
     },
     "metadata": {
      "needs_background": "light"
     },
     "output_type": "display_data"
    }
   ],
   "source": [
    "import matplotlib.pyplot as plt\n",
    "\n",
    "plt.figure(figsize=(10,3), dpi=150)\n",
    "plt.plot(y_test[T:100+T].values)\n",
    "estimated = rnn_model.predict(dataset_test)\n",
    "plt.plot(estimated[:100])\n",
    "plt.legend(['Ground truth', 'Estimate'])"
   ]
  },
  {
   "cell_type": "code",
   "execution_count": null,
   "metadata": {},
   "outputs": [],
   "source": []
  }
 ],
 "metadata": {
  "accelerator": "GPU",
  "colab": {
   "collapsed_sections": [],
   "name": "GP2.ipynb",
   "provenance": []
  },
  "kernelspec": {
   "display_name": "Python 3 (ipykernel)",
   "language": "python",
   "name": "python3"
  },
  "language_info": {
   "codemirror_mode": {
    "name": "ipython",
    "version": 3
   },
   "file_extension": ".py",
   "mimetype": "text/x-python",
   "name": "python",
   "nbconvert_exporter": "python",
   "pygments_lexer": "ipython3",
   "version": "3.9.12"
  }
 },
 "nbformat": 4,
 "nbformat_minor": 1
}
