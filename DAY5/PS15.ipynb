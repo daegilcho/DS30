{
 "cells": [
  {
   "cell_type": "markdown",
   "metadata": {
    "id": "vOND1JOfZ6sF"
   },
   "source": [
    "## Random forests"
   ]
  },
  {
   "cell_type": "markdown",
   "metadata": {},
   "source": [
    "## Iris plants classification"
   ]
  },
  {
   "cell_type": "code",
   "execution_count": 1,
   "metadata": {
    "id": "15Y3peJ1Z1Tu"
   },
   "outputs": [],
   "source": [
    "from sklearn.datasets import load_iris\n",
    "iris = load_iris()\n",
    "X = iris.data\n",
    "y = iris.target"
   ]
  },
  {
   "cell_type": "code",
   "execution_count": 2,
   "metadata": {
    "id": "p1JuzsWxZ_9Q"
   },
   "outputs": [],
   "source": [
    "from sklearn.model_selection import train_test_split\n",
    "from sklearn.ensemble import RandomForestClassifier\n",
    "#from sklearn.metrics import accuracy_score"
   ]
  },
  {
   "cell_type": "code",
   "execution_count": 3,
   "metadata": {
    "colab": {
     "base_uri": "https://localhost:8080/"
    },
    "id": "7hIYEF5PaAhW",
    "outputId": "896d1123-a93a-47a9-8671-64536b7852b9"
   },
   "outputs": [
    {
     "name": "stdout",
     "output_type": "stream",
     "text": [
      "1.0\n"
     ]
    }
   ],
   "source": [
    "X_train,X_test,y_train,y_test = train_test_split(X,y,test_size=0.2)\n",
    "\n",
    "rnd_clf = RandomForestClassifier(n_estimators=500, max_leaf_nodes=16, n_jobs=-1) \n",
    "# n_jobs=-1 : use all available CPU's\n",
    "rnd_clf.fit(X_train, y_train)\n",
    "\n",
    "y_pred = rnd_clf.predict(X_test)\n",
    "print(rnd_clf.score(X_test,y_test))\n",
    "\n",
    "#print(accuracy_score(y_pred, y_test))\n"
   ]
  },
  {
   "cell_type": "code",
   "execution_count": 4,
   "metadata": {
    "colab": {
     "base_uri": "https://localhost:8080/",
     "height": 513
    },
    "id": "FL6WEcPQaEaO",
    "outputId": "d5e96c1c-2f3b-4086-b772-f08011a05221",
    "scrolled": true
   },
   "outputs": [
    {
     "name": "stdout",
     "output_type": "stream",
     "text": [
      "sepal length (cm) 0.10074071092176758\n",
      "sepal width (cm) 0.02672566441996894\n",
      "petal length (cm) 0.42188032178871643\n",
      "petal width (cm) 0.4506533028695471\n"
     ]
    }
   ],
   "source": [
    "for name, score in zip(iris.feature_names, rnd_clf.feature_importances_):\n",
    "    print(name, score)"
   ]
  },
  {
   "cell_type": "code",
   "execution_count": 5,
   "metadata": {},
   "outputs": [
    {
     "data": {
      "text/plain": [
       "<BarContainer object of 4 artists>"
      ]
     },
     "execution_count": 5,
     "metadata": {},
     "output_type": "execute_result"
    },
    {
     "data": {
      "image/png": "[encoded data removed]",
      "text/plain": [
       "<Figure size 750x450 with 1 Axes>"
      ]
     },
     "metadata": {
      "needs_background": "light"
     },
     "output_type": "display_data"
    }
   ],
   "source": [
    "import matplotlib.pyplot as plt\n",
    "import numpy as np\n",
    "\n",
    "\n",
    "sorted_idx = rnd_clf.feature_importances_.argsort()\n",
    "plt.figure(figsize=(5,3), dpi=150)\n",
    "plt.barh(np.asarray(iris.feature_names)[sorted_idx],\n",
    "         rnd_clf.feature_importances_[sorted_idx])\n",
    "\n",
    "\n",
    "#sorted_idx = rnd_clf.feature_importances_.argsort()[::-1]\n",
    "#plt.barh(np.asarray(iris.feature_names)[sorted_idx][::-1],\n",
    "#         rnd_clf.feature_importances_[sorted_idx][::-1])"
   ]
  },
  {
   "cell_type": "markdown",
   "metadata": {},
   "source": [
    "## California Housing Price prediction"
   ]
  },
  {
   "cell_type": "code",
   "execution_count": 6,
   "metadata": {},
   "outputs": [],
   "source": [
    "from sklearn.datasets import fetch_california_housing\n",
    "cali_prices = fetch_california_housing()\n",
    "X_reg = cali_prices.data\n",
    "y_reg = cali_prices.target"
   ]
  },
  {
   "cell_type": "code",
   "execution_count": 7,
   "metadata": {},
   "outputs": [],
   "source": [
    "from sklearn.model_selection import train_test_split\n",
    "from sklearn.ensemble import RandomForestRegressor\n",
    "from sklearn.metrics import mean_squared_error"
   ]
  },
  {
   "cell_type": "code",
   "execution_count": 8,
   "metadata": {},
   "outputs": [
    {
     "name": "stdout",
     "output_type": "stream",
     "text": [
      "0.03422380007789255\n",
      "0.22678656935711008\n"
     ]
    }
   ],
   "source": [
    "X_train,X_test,y_train,y_test = train_test_split(X_reg,y_reg,test_size = 0.01)\n",
    "for_reg = RandomForestRegressor()\n",
    "for_reg.fit(X_train, y_train)\n",
    "y_pred_train = for_reg.predict(X_train)\n",
    "y_pred_test = for_reg.predict(X_test)\n",
    "print(mean_squared_error(y_pred_train, y_train))\n",
    "print(mean_squared_error(y_pred_test, y_test))"
   ]
  },
  {
   "cell_type": "markdown",
   "metadata": {},
   "source": [
    "## MNIST classification"
   ]
  },
  {
   "cell_type": "code",
   "execution_count": 9,
   "metadata": {
    "colab": {
     "base_uri": "https://localhost:8080/"
    },
    "id": "WwRsCTaVaLjd",
    "outputId": "53066fd0-2b71-4c96-816b-842b4e70aa10"
   },
   "outputs": [],
   "source": [
    "from keras.datasets import mnist\n",
    "from sklearn.model_selection import train_test_split\n",
    "\n",
    "(X_train, y_train), (X_test, y_test) = mnist.load_data()\n",
    "X_train, X_test = X_train / 255., X_test / 255.\n",
    "\n",
    "X_train = X_train.reshape(-1, 28*28)\n",
    "X_test =  X_test.reshape(-1, 28*28)\n",
    "\n",
    "#X_train = X_train.reshape(X_train.shape[0], -1)\n",
    "#X_test =  X_test.reshape(X_test.shape[0], -1)\n"
   ]
  },
  {
   "cell_type": "code",
   "execution_count": 10,
   "metadata": {
    "colab": {
     "base_uri": "https://localhost:8080/"
    },
    "id": "am9VwbxbemNV",
    "outputId": "6a216ff6-20bf-44de-f022-7173039b3521"
   },
   "outputs": [
    {
     "name": "stdout",
     "output_type": "stream",
     "text": [
      "0.8323\n"
     ]
    }
   ],
   "source": [
    "from sklearn.ensemble import RandomForestClassifier\n",
    "#from sklearn.metrics import accuracy_score\n",
    "\n",
    "rnd_clf = RandomForestClassifier(n_estimators=500,\n",
    "                                 max_leaf_nodes=16,\n",
    "                                 n_jobs=-1)\n",
    "rnd_clf.fit(X_train, y_train)\n",
    "y_pred = rnd_clf.predict(X_test)\n",
    "print(rnd_clf.score(X_test,y_test))\n",
    "#print(accuracy_score(y_pred,y_test))"
   ]
  },
  {
   "cell_type": "code",
   "execution_count": 11,
   "metadata": {
    "colab": {
     "base_uri": "https://localhost:8080/",
     "height": 434
    },
    "id": "q6RalkHSeoVu",
    "outputId": "0cad7738-a721-4924-cc23-f74ec9e9c325"
   },
   "outputs": [
    {
     "data": {
      "image/png": "[encoded data removed]",
      "text/plain": [
       "<Figure size 432x288 with 2 Axes>"
      ]
     },
     "metadata": {
      "needs_background": "light"
     },
     "output_type": "display_data"
    }
   ],
   "source": [
    "import matplotlib.pyplot as plt\n",
    "\n",
    "feature_importances = rnd_clf.feature_importances_\n",
    "feature_importances = feature_importances.reshape(28, 28)\n",
    "plt.imshow(feature_importances, cmap='hot')\n",
    "plt.colorbar(label='importance')\n",
    "plt.show()"
   ]
  },
  {
   "cell_type": "markdown",
   "metadata": {
    "id": "3VoP1IcJe8_w"
   },
   "source": [
    "## Hyperparameter search: `GridSearchCV`"
   ]
  },
  {
   "cell_type": "code",
   "execution_count": 12,
   "metadata": {
    "id": "pk1-IH0ye7LV"
   },
   "outputs": [],
   "source": [
    "from sklearn.datasets import load_iris\n",
    "from sklearn.model_selection import train_test_split\n",
    "\n",
    "Iris = load_iris()\n",
    "X = Iris.data\n",
    "y = Iris.target\n",
    "X_train,X_test,y_train,y_test = train_test_split(X,y,test_size=0.2)"
   ]
  },
  {
   "cell_type": "code",
   "execution_count": 13,
   "metadata": {},
   "outputs": [],
   "source": [
    "from sklearn.model_selection import GridSearchCV"
   ]
  },
  {
   "cell_type": "code",
   "execution_count": 14,
   "metadata": {
    "colab": {
     "base_uri": "https://localhost:8080/"
    },
    "id": "ArMuhOwVfByr",
    "outputId": "8b0a4907-8835-41fe-9ac3-8e0932c8299b"
   },
   "outputs": [
    {
     "data": {
      "text/plain": [
       "GridSearchCV(cv=5, estimator=RandomForestClassifier(max_depth=2),\n",
       "             param_grid={'max_features': [0.25, 0.5, 0.75, 1],\n",
       "                         'n_estimators': [3, 10, 100, 500]},\n",
       "             scoring='accuracy')"
      ]
     },
     "execution_count": 14,
     "metadata": {},
     "output_type": "execute_result"
    }
   ],
   "source": [
    "param_grid = {'n_estimators': [3,10,100,500], \n",
    "              'max_features': [0.25, 0.5, 0.75, 1]}\n",
    "              \n",
    "forest_clf = RandomForestClassifier(max_depth=2)\n",
    "grid_search = GridSearchCV(forest_clf,param_grid,cv=5,scoring='accuracy')\n",
    "grid_search.fit(X_train, y_train)"
   ]
  },
  {
   "cell_type": "code",
   "execution_count": 15,
   "metadata": {
    "colab": {
     "base_uri": "https://localhost:8080/"
    },
    "id": "44bEPEw5fKJY",
    "outputId": "ce9ae111-435e-4391-e1fd-e55764794bb5"
   },
   "outputs": [
    {
     "name": "stdout",
     "output_type": "stream",
     "text": [
      "{'max_features': 0.25, 'n_estimators': 500}\n"
     ]
    }
   ],
   "source": [
    "print(grid_search.best_params_)"
   ]
  },
  {
   "cell_type": "code",
   "execution_count": 16,
   "metadata": {
    "colab": {
     "base_uri": "https://localhost:8080/"
    },
    "id": "qEJeiUJigC3D",
    "outputId": "90778822-e8f0-42e2-d1e7-11f64a600e50"
   },
   "outputs": [
    {
     "name": "stdout",
     "output_type": "stream",
     "text": [
      "RandomForestClassifier(max_depth=2, max_features=0.25, n_estimators=500)\n"
     ]
    }
   ],
   "source": [
    "print(grid_search.best_estimator_)"
   ]
  },
  {
   "cell_type": "code",
   "execution_count": 17,
   "metadata": {
    "colab": {
     "base_uri": "https://localhost:8080/"
    },
    "id": "3teHsqZpgPxL",
    "outputId": "14a9cc62-5d40-46d1-8bd8-47f4e245e22b"
   },
   "outputs": [
    {
     "name": "stdout",
     "output_type": "stream",
     "text": [
      "0.95\n"
     ]
    }
   ],
   "source": [
    "print(grid_search.best_score_)"
   ]
  },
  {
   "cell_type": "code",
   "execution_count": 18,
   "metadata": {
    "id": "NJiaqiJKg2wP"
   },
   "outputs": [
    {
     "name": "stdout",
     "output_type": "stream",
     "text": [
      "[0.22335564 0.16594239 0.30572782 0.30497415]\n"
     ]
    }
   ],
   "source": [
    "feature_importances = grid_search.best_estimator_.feature_importances_\n",
    "print(feature_importances)"
   ]
  },
  {
   "cell_type": "code",
   "execution_count": 19,
   "metadata": {
    "colab": {
     "base_uri": "https://localhost:8080/"
    },
    "id": "Gf9YKIM3g4Hp",
    "outputId": "8c7b3b96-fe5f-4e5d-b65c-0849c4e0f381"
   },
   "outputs": [
    {
     "name": "stdout",
     "output_type": "stream",
     "text": [
      "0.9666666666666667\n"
     ]
    }
   ],
   "source": [
    "from sklearn.metrics import accuracy_score\n",
    "\n",
    "y_pred = grid_search.best_estimator_.predict(X_test)\n",
    "print(accuracy_score(y_pred, y_test))"
   ]
  },
  {
   "cell_type": "code",
   "execution_count": 20,
   "metadata": {},
   "outputs": [
    {
     "name": "stdout",
     "output_type": "stream",
     "text": [
      "0.9666666666666667\n"
     ]
    }
   ],
   "source": [
    "print(grid_search.best_estimator_.score(X_test,y_test))"
   ]
  },
  {
   "cell_type": "markdown",
   "metadata": {
    "id": "75gvOuffg8Ts"
   },
   "source": [
    "## Hyperparameter search: `RandomizedSearchCV`"
   ]
  },
  {
   "cell_type": "code",
   "execution_count": 21,
   "metadata": {
    "id": "WM2m_qemg-t-"
   },
   "outputs": [],
   "source": [
    "from sklearn.datasets import load_iris\n",
    "from sklearn.model_selection import train_test_split\n",
    "Iris = load_iris()\n",
    "X = Iris.data\n",
    "y = Iris.target\n",
    "X_train, X_test, y_train, y_test = train_test_split(X, y, test_size=0.2)"
   ]
  },
  {
   "cell_type": "code",
   "execution_count": 22,
   "metadata": {
    "id": "ojwljG6ohBhf"
   },
   "outputs": [],
   "source": [
    "from sklearn.model_selection import RandomizedSearchCV"
   ]
  },
  {
   "cell_type": "code",
   "execution_count": 23,
   "metadata": {
    "colab": {
     "base_uri": "https://localhost:8080/"
    },
    "id": "stDIV5GChDCq",
    "outputId": "992794fd-a7bc-4e82-b7f0-dc2de3c59661"
   },
   "outputs": [
    {
     "data": {
      "text/plain": [
       "RandomizedSearchCV(cv=4, estimator=RandomForestClassifier(max_depth=2),\n",
       "                   n_iter=50,\n",
       "                   param_distributions={'max_features': range(1, 5),\n",
       "                                        'n_estimators': range(0, 500)},\n",
       "                   scoring='accuracy')"
      ]
     },
     "execution_count": 23,
     "metadata": {},
     "output_type": "execute_result"
    }
   ],
   "source": [
    "param_distributions = {'n_estimators': range(500), \n",
    "                       'max_features': range(1, 5)}\n",
    "\n",
    "forest_clf = RandomForestClassifier(max_depth=2)\n",
    "\n",
    "randomized_search = RandomizedSearchCV(forest_clf,\n",
    "                                       param_distributions,\n",
    "                                       cv=4, n_iter = 50,\n",
    "                                       scoring='accuracy')\n",
    "\n",
    "randomized_search.fit(X_train, y_train)"
   ]
  },
  {
   "cell_type": "code",
   "execution_count": 24,
   "metadata": {
    "colab": {
     "base_uri": "https://localhost:8080/"
    },
    "id": "aWT2AenHhDYP",
    "outputId": "12b87f2a-7bf6-4aae-f192-0100b332fdd2"
   },
   "outputs": [
    {
     "name": "stdout",
     "output_type": "stream",
     "text": [
      "{'n_estimators': 237, 'max_features': 1}\n"
     ]
    }
   ],
   "source": [
    "print(randomized_search.best_params_)"
   ]
  },
  {
   "cell_type": "code",
   "execution_count": 25,
   "metadata": {
    "colab": {
     "base_uri": "https://localhost:8080/"
    },
    "id": "HB4u2xMHhE0b",
    "outputId": "02234c04-eb69-450a-97ec-5fdf6bccdb82"
   },
   "outputs": [
    {
     "name": "stdout",
     "output_type": "stream",
     "text": [
      "RandomForestClassifier(max_depth=2, max_features=1, n_estimators=237)\n"
     ]
    }
   ],
   "source": [
    "print(randomized_search.best_estimator_)"
   ]
  },
  {
   "cell_type": "code",
   "execution_count": 26,
   "metadata": {
    "colab": {
     "base_uri": "https://localhost:8080/"
    },
    "id": "2ugslRqXhF-E",
    "outputId": "d2f258cf-adda-4a76-f9ea-7e64426348c3"
   },
   "outputs": [
    {
     "name": "stdout",
     "output_type": "stream",
     "text": [
      "0.95\n"
     ]
    }
   ],
   "source": [
    "print(randomized_search.best_score_)"
   ]
  },
  {
   "cell_type": "code",
   "execution_count": 27,
   "metadata": {
    "colab": {
     "base_uri": "https://localhost:8080/"
    },
    "id": "zRxSWxXjhHZq",
    "outputId": "14987daa-e8bb-4df8-cc50-e92cd0fd8127"
   },
   "outputs": [
    {
     "name": "stdout",
     "output_type": "stream",
     "text": [
      "[0.20715973 0.15183533 0.32529741 0.31570753]\n"
     ]
    }
   ],
   "source": [
    "feature_importances = randomized_search.best_estimator_.feature_importances_\n",
    "print(feature_importances)"
   ]
  },
  {
   "cell_type": "code",
   "execution_count": 28,
   "metadata": {
    "colab": {
     "base_uri": "https://localhost:8080/"
    },
    "id": "CKJmEIDphI9p",
    "outputId": "1166cf53-1f0e-4a81-df58-08e8cc6ca663"
   },
   "outputs": [
    {
     "name": "stdout",
     "output_type": "stream",
     "text": [
      "1.0\n"
     ]
    }
   ],
   "source": [
    "y_pred = randomized_search.best_estimator_.predict(X_test)\n",
    "\n",
    "print(accuracy_score(y_pred, y_test))"
   ]
  },
  {
   "cell_type": "code",
   "execution_count": 29,
   "metadata": {},
   "outputs": [
    {
     "name": "stdout",
     "output_type": "stream",
     "text": [
      "1.0\n"
     ]
    }
   ],
   "source": [
    "print(randomized_search.best_estimator_.score(X_test,y_test))"
   ]
  },
  {
   "cell_type": "code",
   "execution_count": null,
   "metadata": {},
   "outputs": [],
   "source": []
  }
 ],
 "metadata": {
  "colab": {
   "collapsed_sections": [],
   "name": "Untitled0.ipynb",
   "provenance": []
  },
  "kernelspec": {
   "display_name": "Python 3 (ipykernel)",
   "language": "python",
   "name": "python3"
  },
  "language_info": {
   "codemirror_mode": {
    "name": "ipython",
    "version": 3
   },
   "file_extension": ".py",
   "mimetype": "text/x-python",
   "name": "python",
   "nbconvert_exporter": "python",
   "pygments_lexer": "ipython3",
   "version": "3.9.7"
  }
 },
 "nbformat": 4,
 "nbformat_minor": 1
}
