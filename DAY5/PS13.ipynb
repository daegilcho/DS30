{
 "cells": [
  {
   "cell_type": "markdown",
   "metadata": {
    "id": "IrvVW1nRQkBt"
   },
   "source": [
    "# Decision tree classifier"
   ]
  },
  {
   "cell_type": "markdown",
   "metadata": {},
   "source": [
    "## Load Iris dataset"
   ]
  },
  {
   "cell_type": "code",
   "execution_count": 1,
   "metadata": {
    "id": "vTIQGK9EQi61"
   },
   "outputs": [],
   "source": [
    "from sklearn.datasets import load_iris"
   ]
  },
  {
   "cell_type": "code",
   "execution_count": 2,
   "metadata": {
    "id": "ROjRoe5mQtGg"
   },
   "outputs": [
    {
     "name": "stdout",
     "output_type": "stream",
     "text": [
      "(150, 4)\n",
      "(150,)\n"
     ]
    }
   ],
   "source": [
    "iris = load_iris()\n",
    "X = iris.data\n",
    "y = iris.target\n",
    "\n",
    "print(X.shape)\n",
    "print(y.shape)"
   ]
  },
  {
   "cell_type": "code",
   "execution_count": 3,
   "metadata": {},
   "outputs": [
    {
     "name": "stdout",
     "output_type": "stream",
     "text": [
      "sepal width (cm)\n"
     ]
    }
   ],
   "source": [
    "aa = iris.feature_names\n",
    "\n",
    "print(aa[1])"
   ]
  },
  {
   "cell_type": "code",
   "execution_count": 4,
   "metadata": {},
   "outputs": [
    {
     "name": "stdout",
     "output_type": "stream",
     "text": [
      "sepal length (cm), sepal width (cm), petal length (cm), petal width (cm)\n"
     ]
    }
   ],
   "source": [
    "aa = iris.feature_names\n",
    "\n",
    "string_a = ', '.join(aa)\n",
    "print(string_a)\n",
    "#print(iris.DESCR)\n",
    "#print(iris.filename)\n",
    "#print(iris)"
   ]
  },
  {
   "cell_type": "code",
   "execution_count": 5,
   "metadata": {
    "colab": {
     "base_uri": "https://localhost:8080/"
    },
    "id": "FAlWxO6ZQ2G7",
    "outputId": "d468c83d-7ee9-4e10-801d-6c8353b1b377"
   },
   "outputs": [
    {
     "name": "stdout",
     "output_type": "stream",
     "text": [
      "['sepal length (cm)', 'sepal width (cm)', 'petal length (cm)', 'petal width (cm)']\n"
     ]
    }
   ],
   "source": [
    "print(iris.feature_names)"
   ]
  },
  {
   "cell_type": "code",
   "execution_count": 6,
   "metadata": {
    "id": "4fLfCDyqQ4e9"
   },
   "outputs": [],
   "source": [
    "from sklearn.model_selection import train_test_split\n",
    "from sklearn.tree import DecisionTreeClassifier"
   ]
  },
  {
   "cell_type": "code",
   "execution_count": 7,
   "metadata": {},
   "outputs": [],
   "source": [
    "# train-test data split\n",
    "X_train, X_test, y_train, y_test = train_test_split(X, y, test_size=0.2)"
   ]
  },
  {
   "cell_type": "code",
   "execution_count": 8,
   "metadata": {
    "colab": {
     "base_uri": "https://localhost:8080/"
    },
    "id": "O3hD4zLOQ6eh",
    "outputId": "9f9e38e2-83f2-4d8f-eb6d-3480db1044a7"
   },
   "outputs": [
    {
     "data": {
      "text/plain": [
       "DecisionTreeClassifier(max_depth=2)"
      ]
     },
     "execution_count": 8,
     "metadata": {},
     "output_type": "execute_result"
    }
   ],
   "source": [
    "tree_clf = DecisionTreeClassifier(max_depth=2)\n",
    "\n",
    "# training\n",
    "tree_clf.fit(X_train, y_train)"
   ]
  },
  {
   "cell_type": "code",
   "execution_count": 9,
   "metadata": {},
   "outputs": [
    {
     "name": "stdout",
     "output_type": "stream",
     "text": [
      "0.9333333333333333\n"
     ]
    }
   ],
   "source": [
    "# evaluation\n",
    "test_performance = tree_clf.score(X_test, y_test)\n",
    "print(test_performance)"
   ]
  },
  {
   "cell_type": "markdown",
   "metadata": {},
   "source": [
    "### Decision tree visualization"
   ]
  },
  {
   "cell_type": "code",
   "execution_count": 10,
   "metadata": {
    "id": "dlB490_oRKyr"
   },
   "outputs": [],
   "source": [
    "from sklearn.tree import plot_tree"
   ]
  },
  {
   "cell_type": "code",
   "execution_count": 11,
   "metadata": {
    "colab": {
     "base_uri": "https://localhost:8080/",
     "height": 333
    },
    "id": "E84TlJ8URRbE",
    "outputId": "4d56ba0a-e3ba-4775-d43c-3d801b847312"
   },
   "outputs": [
    {
     "data": {
      "text/plain": [
       "[Text(133.92000000000002, 181.2, 'X[3] <= 0.8\\ngini = 0.666\\nsamples = 120\\nvalue = [41, 42, 37]'),\n",
       " Text(66.96000000000001, 108.72, 'gini = 0.0\\nsamples = 41\\nvalue = [41, 0, 0]'),\n",
       " Text(200.88000000000002, 108.72, 'X[3] <= 1.75\\ngini = 0.498\\nsamples = 79\\nvalue = [0, 42, 37]'),\n",
       " Text(133.92000000000002, 36.23999999999998, 'gini = 0.127\\nsamples = 44\\nvalue = [0, 41, 3]'),\n",
       " Text(267.84000000000003, 36.23999999999998, 'gini = 0.056\\nsamples = 35\\nvalue = [0, 1, 34]')]"
      ]
     },
     "execution_count": 11,
     "metadata": {},
     "output_type": "execute_result"
    },
    {
     "data": {
      "image/png": "[encoded data removed]",
      "text/plain": [
       "<Figure size 432x288 with 1 Axes>"
      ]
     },
     "metadata": {
      "needs_background": "light"
     },
     "output_type": "display_data"
    }
   ],
   "source": [
    "plot_tree(tree_clf)"
   ]
  },
  {
   "cell_type": "markdown",
   "metadata": {},
   "source": [
    "### Feature importance"
   ]
  },
  {
   "cell_type": "code",
   "execution_count": 12,
   "metadata": {
    "colab": {
     "base_uri": "https://localhost:8080/"
    },
    "id": "3vuzB1exRTCL",
    "outputId": "a39e2a60-6c12-4ad3-8a95-97967d137610"
   },
   "outputs": [
    {
     "name": "stdout",
     "output_type": "stream",
     "text": [
      "<class 'zip'>\n"
     ]
    }
   ],
   "source": [
    "aa = tree_clf.feature_importances_\n",
    "bb = zip(iris.feature_names, tree_clf.feature_importances_)\n",
    "print(type(bb))"
   ]
  },
  {
   "cell_type": "code",
   "execution_count": 13,
   "metadata": {
    "colab": {
     "base_uri": "https://localhost:8080/"
    },
    "id": "PZRE-3BAR0Rf",
    "outputId": "22dc0fd3-4990-4302-ffb1-bb7fc4d7b344"
   },
   "outputs": [
    {
     "name": "stdout",
     "output_type": "stream",
     "text": [
      "sepal length (cm) :  0.0\n",
      "sepal width (cm) :  0.0\n",
      "petal length (cm) :  0.0\n",
      "petal width (cm) :  1.0\n",
      "{'sepal length (cm)': 0.0, 'sepal width (cm)': 0.0, 'petal length (cm)': 0.0, 'petal width (cm)': 1.0}\n"
     ]
    }
   ],
   "source": [
    "for name, score in zip(iris.feature_names, tree_clf.feature_importances_):\n",
    "    print(name, ': ', score)\n",
    "    \n",
    "print(dict(zip(iris.feature_names, tree_clf.feature_importances_)))"
   ]
  },
  {
   "cell_type": "code",
   "execution_count": 14,
   "metadata": {},
   "outputs": [
    {
     "name": "stdout",
     "output_type": "stream",
     "text": [
      "[0 1 2 3]\n",
      "['sepal length (cm)' 'sepal width (cm)' 'petal length (cm)'\n",
      " 'petal width (cm)']\n"
     ]
    }
   ],
   "source": [
    "import numpy as np\n",
    "\n",
    "# increasing order\n",
    "sorted_idx = tree_clf.feature_importances_.argsort()\n",
    "\n",
    "print(sorted_idx)\n",
    "\n",
    "#print(iris.feature_names[sorted_idx]) # what's wrong?\n",
    "print(np.asarray(iris.feature_names)[sorted_idx])"
   ]
  },
  {
   "cell_type": "code",
   "execution_count": 15,
   "metadata": {},
   "outputs": [
    {
     "name": "stdout",
     "output_type": "stream",
     "text": [
      "['sepal length (cm)', 'sepal width (cm)', 'petal length (cm)', 'petal width (cm)']\n"
     ]
    }
   ],
   "source": [
    "print(iris.feature_names)"
   ]
  },
  {
   "cell_type": "code",
   "execution_count": 16,
   "metadata": {
    "colab": {
     "base_uri": "https://localhost:8080/",
     "height": 445
    },
    "id": "9eQE_LjCSAkv",
    "outputId": "f6caa630-0fbb-4a31-a245-a395536d6b8a"
   },
   "outputs": [
    {
     "data": {
      "text/plain": [
       "<BarContainer object of 4 artists>"
      ]
     },
     "execution_count": 16,
     "metadata": {},
     "output_type": "execute_result"
    },
    {
     "data": {
      "image/png": "[encoded data removed]",
      "text/plain": [
       "<Figure size 432x288 with 1 Axes>"
      ]
     },
     "metadata": {
      "needs_background": "light"
     },
     "output_type": "display_data"
    }
   ],
   "source": [
    "import matplotlib.pyplot as plt\n",
    "\n",
    "plt.barh(np.asarray(iris.feature_names)[sorted_idx],\n",
    "         tree_clf.feature_importances_[sorted_idx])"
   ]
  },
  {
   "cell_type": "markdown",
   "metadata": {
    "id": "VV4QMLZyTHfV"
   },
   "source": [
    "## Decision Boundary"
   ]
  },
  {
   "cell_type": "code",
   "execution_count": 17,
   "metadata": {
    "scrolled": true
   },
   "outputs": [
    {
     "data": {
      "image/png": "[encoded data removed]",
      "text/plain": [
       "<Figure size 600x600 with 1 Axes>"
      ]
     },
     "metadata": {
      "needs_background": "light"
     },
     "output_type": "display_data"
    }
   ],
   "source": [
    "import matplotlib.pyplot as plt\n",
    "\n",
    "X_y_0 = X_train[y_train==0] # setosa\n",
    "X_y_1 = X_train[y_train==1] # versicolor\n",
    "X_y_2 = X_train[y_train==2] # virginica\n",
    "\n",
    "plt.figure(figsize=(4, 4), dpi=150)\n",
    "\n",
    "plt.scatter(X_y_0[:, 2], X_y_0[:, 3], \n",
    "            c='red',label='setosa',marker='s')\n",
    "plt.scatter(X_y_1[:, 2], X_y_1[:, 3], \n",
    "            c='blue',label='versicolor',marker='o')\n",
    "plt.scatter(X_y_2[:, 2], X_y_2[:, 3], \n",
    "            c='green', label='virginica',marker='^')\n",
    "plt.xlabel(iris.feature_names[2])\n",
    "plt.ylabel(iris.feature_names[3])\n",
    "plt.legend()\n",
    "plt.show()"
   ]
  },
  {
   "cell_type": "code",
   "execution_count": 18,
   "metadata": {},
   "outputs": [
    {
     "name": "stdout",
     "output_type": "stream",
     "text": [
      "[[1 4]\n",
      " [2 5]\n",
      " [3 6]]\n"
     ]
    }
   ],
   "source": [
    "aa = np.array([1, 2, 3])\n",
    "bb = np.array([4, 5, 6])\n",
    "\n",
    "cc = np.c_[aa.reshape(-1,1), bb.reshape(-1,1)]\n",
    "print(cc)"
   ]
  },
  {
   "cell_type": "code",
   "execution_count": 19,
   "metadata": {},
   "outputs": [
    {
     "name": "stdout",
     "output_type": "stream",
     "text": [
      "[[0.8  0.8  0.8  ... 0.8  0.8  0.8 ]\n",
      " [0.85 0.85 0.85 ... 0.85 0.85 0.85]\n",
      " [0.9  0.9  0.9  ... 0.9  0.9  0.9 ]\n",
      " ...\n",
      " [7.   7.   7.   ... 7.   7.   7.  ]\n",
      " [7.05 7.05 7.05 ... 7.05 7.05 7.05]\n",
      " [7.1  7.1  7.1  ... 7.1  7.1  7.1 ]]\n",
      "[[-0.1  -0.05  0.   ...  2.55  2.6   2.65]\n",
      " [-0.1  -0.05  0.   ...  2.55  2.6   2.65]\n",
      " [-0.1  -0.05  0.   ...  2.55  2.6   2.65]\n",
      " ...\n",
      " [-0.1  -0.05  0.   ...  2.55  2.6   2.65]\n",
      " [-0.1  -0.05  0.   ...  2.55  2.6   2.65]\n",
      " [-0.1  -0.05  0.   ...  2.55  2.6   2.65]]\n"
     ]
    }
   ],
   "source": [
    "zz_min, zz_max = X_train[:, 2].min() - 0.2, X_train[:, 2].max() + 0.2\n",
    "ww_min, ww_max = X_train[:, 3].min() - 0.2, X_train[:, 3].max() + 0.2\n",
    "\n",
    "\n",
    "zz = np.arange(zz_min, zz_max, 0.05)\n",
    "ww = np.arange(ww_min, ww_max, 0.05)\n",
    "\n",
    "zz, ww = np.meshgrid(zz, ww, indexing='ij')\n",
    "\n",
    "print(zz)\n",
    "print(ww)"
   ]
  },
  {
   "cell_type": "code",
   "execution_count": 20,
   "metadata": {},
   "outputs": [
    {
     "data": {
      "image/png": "[encoded data removed]",
      "text/plain": [
       "<Figure size 600x600 with 1 Axes>"
      ]
     },
     "metadata": {
      "needs_background": "light"
     },
     "output_type": "display_data"
    }
   ],
   "source": [
    "from matplotlib.colors import LinearSegmentedColormap\n",
    "import numpy as np\n",
    "\n",
    "plt.figure(figsize=(4, 4), dpi=150)\n",
    "plt.scatter(X_y_0[:, 2], X_y_0[:, 3], \n",
    "            c='red',label='setosa',marker='s')\n",
    "plt.scatter(X_y_1[:, 2], X_y_1[:, 3], \n",
    "            c='blue',label='versicolor',marker='o')\n",
    "plt.scatter(X_y_2[:, 2], X_y_2[:, 3], \n",
    "            c='green', label='virginica',marker='^')\n",
    "plt.xlabel(iris.feature_names[2])\n",
    "plt.ylabel(iris.feature_names[3]) \n",
    "plt.legend()\n",
    "\n",
    "# Draw a decision boundary \n",
    "colors = [(1, 0, 0), (0, 0, 1), (0, 1, 0)]\n",
    "\n",
    "zz_min, zz_max = X_train[:, 2].min() - 0.2, X_train[:, 2].max() + 0.2\n",
    "ww_min, ww_max = X_train[:, 3].min() - 0.2, X_train[:, 3].max() + 0.2\n",
    "\n",
    "# xx: sepal length, yy: sepal width, ww: petal width, zz: petal length\n",
    "zz, ww = np.meshgrid(np.arange(zz_min, zz_max, 0.05),\n",
    "                     np.arange(ww_min, ww_max, 0.05),indexing='ij')\n",
    "xx = np.zeros_like(zz)\n",
    "yy = np.zeros_like(zz)\n",
    "\n",
    "Z = tree_clf.predict(np.c_[xx.reshape(-1, 1),\n",
    "                           yy.reshape(-1, 1),\n",
    "                           zz.reshape(-1, 1),\n",
    "                           ww.reshape(-1, 1)])\n",
    "\n",
    "Z = Z.reshape(zz.shape)\n",
    "\n",
    "plt.contourf(zz, ww, Z, \n",
    "             cmap=LinearSegmentedColormap.from_list('rgb', colors), \n",
    "             alpha=0.3)\n",
    "plt.show()"
   ]
  },
  {
   "cell_type": "code",
   "execution_count": null,
   "metadata": {},
   "outputs": [],
   "source": []
  },
  {
   "cell_type": "code",
   "execution_count": null,
   "metadata": {},
   "outputs": [],
   "source": []
  },
  {
   "cell_type": "code",
   "execution_count": null,
   "metadata": {},
   "outputs": [],
   "source": []
  }
 ],
 "metadata": {
  "colab": {
   "collapsed_sections": [],
   "name": "Untitled0.ipynb",
   "provenance": []
  },
  "kernelspec": {
   "display_name": "Python 3 (ipykernel)",
   "language": "python",
   "name": "python3"
  },
  "language_info": {
   "codemirror_mode": {
    "name": "ipython",
    "version": 3
   },
   "file_extension": ".py",
   "mimetype": "text/x-python",
   "name": "python",
   "nbconvert_exporter": "python",
   "pygments_lexer": "ipython3",
   "version": "3.9.7"
  }
 },
 "nbformat": 4,
 "nbformat_minor": 1
}
