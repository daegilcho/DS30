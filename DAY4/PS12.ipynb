{
 "cells": [
  {
   "cell_type": "markdown",
   "metadata": {},
   "source": [
    "## Recurrent Neural Networks"
   ]
  },
  {
   "cell_type": "code",
   "execution_count": 1,
   "metadata": {
    "id": "yE2kHBO72Zjf"
   },
   "outputs": [],
   "source": [
    "import tensorflow as tf\n",
    "from tensorflow.keras.datasets import imdb\n",
    "import numpy as np"
   ]
  },
  {
   "cell_type": "markdown",
   "metadata": {},
   "source": [
    "## Loading IMDB"
   ]
  },
  {
   "cell_type": "code",
   "execution_count": 2,
   "metadata": {
    "colab": {
     "base_uri": "https://localhost:8080/"
    },
    "id": "g2w0AIUd3b6h",
    "outputId": "f7f8349c-bfd5-499e-cf6a-016e571fae21"
   },
   "outputs": [],
   "source": [
    "from tensorflow.keras.datasets import imdb\n",
    "\n",
    "(X_train,y_train), (X_test,y_test) = imdb.load_data(num_words=10000)"
   ]
  },
  {
   "cell_type": "code",
   "execution_count": 3,
   "metadata": {},
   "outputs": [],
   "source": [
    "# Get IMDB dictionary\n",
    "word_idx_dict = imdb.get_word_index()\n",
    "\n",
    "#print(word_idx_dict.keys())\n",
    "#print(word_idx_dict.values())"
   ]
  },
  {
   "cell_type": "markdown",
   "metadata": {},
   "source": [
    "## Data preprocessing: Padding"
   ]
  },
  {
   "cell_type": "code",
   "execution_count": 4,
   "metadata": {
    "id": "JTPhdp1HJnMJ"
   },
   "outputs": [],
   "source": [
    "from tensorflow.keras.preprocessing.sequence import pad_sequences"
   ]
  },
  {
   "cell_type": "code",
   "execution_count": 5,
   "metadata": {},
   "outputs": [
    {
     "name": "stdout",
     "output_type": "stream",
     "text": [
      "218\n"
     ]
    }
   ],
   "source": [
    "print(len(X_train[0]))"
   ]
  },
  {
   "cell_type": "code",
   "execution_count": 6,
   "metadata": {
    "colab": {
     "base_uri": "https://localhost:8080/"
    },
    "id": "OYSZEHxUMxAt",
    "outputId": "ea5fb24a-cd98-4580-80a2-f7c6ba0aacb6"
   },
   "outputs": [],
   "source": [
    "max_len = 256\n",
    "X_train_pad = pad_sequences(X_train,value=0, padding='post', maxlen=max_len)"
   ]
  },
  {
   "cell_type": "code",
   "execution_count": 7,
   "metadata": {},
   "outputs": [
    {
     "name": "stdout",
     "output_type": "stream",
     "text": [
      "(25000, 256)\n",
      "256\n",
      "(256,)\n",
      "[   1   14   22   16   43  530  973 1622 1385   65  458 4468   66 3941\n",
      "    4  173   36  256    5   25  100   43  838  112   50  670    2    9\n",
      "   35  480  284    5  150    4  172  112  167    2  336  385   39    4\n",
      "  172 4536 1111   17  546   38   13  447    4  192   50   16    6  147\n",
      " 2025   19   14   22    4 1920 4613  469    4   22   71   87   12   16\n",
      "   43  530   38   76   15   13 1247    4   22   17  515   17   12   16\n",
      "  626   18    2    5   62  386   12    8  316    8  106    5    4 2223\n",
      " 5244   16  480   66 3785   33    4  130   12   16   38  619    5   25\n",
      "  124   51   36  135   48   25 1415   33    6   22   12  215   28   77\n",
      "   52    5   14  407   16   82    2    8    4  107  117 5952   15  256\n",
      "    4    2    7 3766    5  723   36   71   43  530  476   26  400  317\n",
      "   46    7    4    2 1029   13  104   88    4  381   15  297   98   32\n",
      " 2071   56   26  141    6  194 7486   18    4  226   22   21  134  476\n",
      "   26  480    5  144   30 5535   18   51   36   28  224   92   25  104\n",
      "    4  226   65   16   38 1334   88   12   16  283    5   16 4472  113\n",
      "  103   32   15   16 5345   19  178   32    0    0    0    0    0    0\n",
      "    0    0    0    0    0    0    0    0    0    0    0    0    0    0\n",
      "    0    0    0    0    0    0    0    0    0    0    0    0    0    0\n",
      "    0    0    0    0]\n"
     ]
    }
   ],
   "source": [
    "print(X_train_pad.shape)\n",
    "print(len(X_train_pad[0]))\n",
    "print(X_train_pad[0].shape)\n",
    "print(X_train_pad[0])"
   ]
  },
  {
   "cell_type": "code",
   "execution_count": 8,
   "metadata": {},
   "outputs": [],
   "source": [
    "#word_idx_dict_new['<PAD>']=0\n",
    "#word_idx_dict_new"
   ]
  },
  {
   "cell_type": "code",
   "execution_count": 9,
   "metadata": {
    "scrolled": false
   },
   "outputs": [],
   "source": [
    "#print(decode_review(X_train_pad[0]))"
   ]
  },
  {
   "cell_type": "code",
   "execution_count": 10,
   "metadata": {
    "id": "_oEovRlgNhGK"
   },
   "outputs": [],
   "source": [
    "X_test_pad = pad_sequences(X_test, value=0, padding='post',maxlen=max_len)"
   ]
  },
  {
   "cell_type": "code",
   "execution_count": 11,
   "metadata": {
    "colab": {
     "base_uri": "https://localhost:8080/"
    },
    "id": "wlE4PNNKM_p8",
    "outputId": "e1eb0f17-37f8-4e8b-d655-3ee1a95e3d85"
   },
   "outputs": [
    {
     "name": "stdout",
     "output_type": "stream",
     "text": [
      "(25000, 256)\n",
      "(25000, 256)\n"
     ]
    }
   ],
   "source": [
    "print(X_train_pad.shape)\n",
    "print(X_test_pad.shape)"
   ]
  },
  {
   "cell_type": "markdown",
   "metadata": {},
   "source": [
    "## Simple RNN"
   ]
  },
  {
   "cell_type": "code",
   "execution_count": 12,
   "metadata": {},
   "outputs": [],
   "source": [
    "from tensorflow.keras.models import Sequential\n",
    "from tensorflow.keras.layers import Dense\n",
    "from tensorflow.keras.layers import Embedding\n",
    "from tensorflow.keras.layers import SimpleRNN\n",
    "\n",
    "basic_rnn = Sequential()\n",
    "basic_rnn.add(Embedding(input_dim=10000, output_dim=100, input_length=256))\n",
    "basic_rnn.add(SimpleRNN(128))\n",
    "basic_rnn.add(Dense(1,activation='sigmoid'))"
   ]
  },
  {
   "cell_type": "code",
   "execution_count": 13,
   "metadata": {},
   "outputs": [],
   "source": [
    "# validation dataset\n",
    "X_train_pad, X_val_pad = X_train_pad[:20000], X_train_pad[20000:]\n",
    "y_train, y_val = y_train[:20000], y_train[20000:]"
   ]
  },
  {
   "cell_type": "code",
   "execution_count": 14,
   "metadata": {
    "colab": {
     "base_uri": "https://localhost:8080/"
    },
    "id": "KuY6IsmwZ0Jj",
    "outputId": "ca5c70c2-4e81-41cc-9149-51295243db6f"
   },
   "outputs": [
    {
     "name": "stdout",
     "output_type": "stream",
     "text": [
      "Epoch 1/10\n",
      "625/625 [==============================] - 22s 34ms/step - loss: 0.6984 - acc: 0.5051\n",
      "Epoch 2/10\n",
      "625/625 [==============================] - 23s 37ms/step - loss: 0.6914 - acc: 0.5195\n",
      "Epoch 3/10\n",
      "625/625 [==============================] - 24s 38ms/step - loss: 0.6639 - acc: 0.5630\n",
      "Epoch 4/10\n",
      "625/625 [==============================] - 23s 36ms/step - loss: 0.6274 - acc: 0.5871\n",
      "Epoch 5/10\n",
      "625/625 [==============================] - 25s 39ms/step - loss: 0.5983 - acc: 0.5998\n",
      "Epoch 6/10\n",
      "625/625 [==============================] - 26s 41ms/step - loss: 0.5829 - acc: 0.6165\n",
      "Epoch 7/10\n",
      "625/625 [==============================] - 23s 37ms/step - loss: 0.5652 - acc: 0.6240\n",
      "Epoch 8/10\n",
      "625/625 [==============================] - 23s 37ms/step - loss: 0.5470 - acc: 0.6338\n",
      "Epoch 9/10\n",
      "625/625 [==============================] - 23s 37ms/step - loss: 0.5346 - acc: 0.6427\n",
      "Epoch 10/10\n",
      "625/625 [==============================] - 25s 40ms/step - loss: 0.5246 - acc: 0.6435\n"
     ]
    }
   ],
   "source": [
    "basic_rnn.compile(optimizer='adam',loss='binary_crossentropy',metrics='acc')\n",
    "#history_basic_rnn = basic_rnn.fit(X_train_pad,y_train,\n",
    "#                                  validation_data=(X_val_pad,y_val),\n",
    "#                                  epochs=10)\n",
    "history_basic_rnn = basic_rnn.fit(X_train_pad,y_train, epochs=10)"
   ]
  },
  {
   "cell_type": "code",
   "execution_count": 15,
   "metadata": {
    "colab": {
     "base_uri": "https://localhost:8080/"
    },
    "id": "GfuPHfSkc8B5",
    "outputId": "fba9a419-9160-4318-980c-b788618b7726"
   },
   "outputs": [
    {
     "name": "stdout",
     "output_type": "stream",
     "text": [
      "782/782 [==============================] - 9s 11ms/step - loss: 0.8756 - acc: 0.5161\n",
      "[0.8756240606307983, 0.5161200165748596]\n"
     ]
    }
   ],
   "source": [
    "test_performance = basic_rnn.evaluate(X_test_pad,y_test)\n",
    "print(test_performance)"
   ]
  },
  {
   "cell_type": "markdown",
   "metadata": {},
   "source": [
    "## LSTM"
   ]
  },
  {
   "cell_type": "code",
   "execution_count": 16,
   "metadata": {
    "colab": {
     "base_uri": "https://localhost:8080/"
    },
    "id": "U7JlCEwreNEJ",
    "outputId": "f0058f6e-ddec-493d-d613-155e7dff0d97"
   },
   "outputs": [
    {
     "name": "stdout",
     "output_type": "stream",
     "text": [
      "Model: \"sequential_1\"\n",
      "_________________________________________________________________\n",
      " Layer (type)                Output Shape              Param #   \n",
      "=================================================================\n",
      " embedding_1 (Embedding)     (None, 256, 100)          1000000   \n",
      "                                                                 \n",
      " lstm (LSTM)                 (None, 128)               117248    \n",
      "                                                                 \n",
      " dense_1 (Dense)             (None, 1)                 129       \n",
      "                                                                 \n",
      "=================================================================\n",
      "Total params: 1,117,377\n",
      "Trainable params: 1,117,377\n",
      "Non-trainable params: 0\n",
      "_________________________________________________________________\n"
     ]
    }
   ],
   "source": [
    "from tensorflow.keras.models import Sequential\n",
    "from tensorflow.keras.layers import Dense\n",
    "from tensorflow.keras.layers import Embedding\n",
    "from tensorflow.keras.layers import LSTM\n",
    "\n",
    "LSTM_model = Sequential()\n",
    "LSTM_model.add(Embedding(input_dim=10000,output_dim=100,input_length=256))\n",
    "LSTM_model.add(LSTM(128))\n",
    "LSTM_model.add(Dense(1,activation='sigmoid'))\n",
    "LSTM_model.summary()"
   ]
  },
  {
   "cell_type": "code",
   "execution_count": 17,
   "metadata": {
    "colab": {
     "base_uri": "https://localhost:8080/"
    },
    "id": "AnS5_EM1gcHY",
    "outputId": "04834abe-eda3-4461-8e8a-5ece05ee5a91",
    "scrolled": true
   },
   "outputs": [
    {
     "name": "stdout",
     "output_type": "stream",
     "text": [
      "Epoch 1/10\n",
      "625/625 [==============================] - 84s 133ms/step - loss: 0.6661 - acc: 0.5615\n",
      "Epoch 2/10\n",
      "625/625 [==============================] - 83s 132ms/step - loss: 0.5594 - acc: 0.7276\n",
      "Epoch 3/10\n",
      "625/625 [==============================] - 85s 137ms/step - loss: 0.6000 - acc: 0.6407\n",
      "Epoch 4/10\n",
      "625/625 [==============================] - 90s 144ms/step - loss: 0.5381 - acc: 0.7254\n",
      "Epoch 5/10\n",
      "625/625 [==============================] - 89s 142ms/step - loss: 0.5199 - acc: 0.7412\n",
      "Epoch 6/10\n",
      "625/625 [==============================] - 89s 143ms/step - loss: 0.4531 - acc: 0.7965\n",
      "Epoch 7/10\n",
      "625/625 [==============================] - 92s 147ms/step - loss: 0.2558 - acc: 0.8994\n",
      "Epoch 8/10\n",
      "625/625 [==============================] - 90s 144ms/step - loss: 0.1950 - acc: 0.9297\n",
      "Epoch 9/10\n",
      "625/625 [==============================] - 93s 149ms/step - loss: 0.1215 - acc: 0.9614\n",
      "Epoch 10/10\n",
      "625/625 [==============================] - 89s 142ms/step - loss: 0.0822 - acc: 0.9775\n"
     ]
    },
    {
     "data": {
      "text/plain": [
       "<keras.callbacks.History at 0x14915a5ef70>"
      ]
     },
     "execution_count": 17,
     "metadata": {},
     "output_type": "execute_result"
    }
   ],
   "source": [
    "LSTM_model.compile(optimizer='adam', \n",
    "                   loss='binary_crossentropy',\n",
    "                   metrics='acc')\n",
    "\n",
    "LSTM_model.fit(X_train_pad,y_train, epochs=10)"
   ]
  },
  {
   "cell_type": "code",
   "execution_count": 18,
   "metadata": {
    "colab": {
     "base_uri": "https://localhost:8080/"
    },
    "id": "AUD74d7pi47N",
    "outputId": "c37d90ad-5a09-4598-f55a-3bdcbfa740d1"
   },
   "outputs": [
    {
     "name": "stdout",
     "output_type": "stream",
     "text": [
      "782/782 [==============================] - 34s 43ms/step - loss: 0.4254 - acc: 0.8653\n",
      "[0.42544546723365784, 0.8652799725532532]\n"
     ]
    }
   ],
   "source": [
    "#test_performance = LSTM_model.evaluate(X_test_pad,y_test)[1]\n",
    "test_performance = LSTM_model.evaluate(X_test_pad,y_test)\n",
    "print(test_performance)"
   ]
  },
  {
   "cell_type": "code",
   "execution_count": null,
   "metadata": {},
   "outputs": [],
   "source": []
  }
 ],
 "metadata": {
  "accelerator": "GPU",
  "colab": {
   "collapsed_sections": [],
   "name": "DM30_day5.ipynb",
   "provenance": []
  },
  "kernelspec": {
   "display_name": "Python 3 (ipykernel)",
   "language": "python",
   "name": "python3"
  },
  "language_info": {
   "codemirror_mode": {
    "name": "ipython",
    "version": 3
   },
   "file_extension": ".py",
   "mimetype": "text/x-python",
   "name": "python",
   "nbconvert_exporter": "python",
   "pygments_lexer": "ipython3",
   "version": "3.9.7"
  }
 },
 "nbformat": 4,
 "nbformat_minor": 1
}
