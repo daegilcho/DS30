{
 "cells": [
  {
   "cell_type": "markdown",
   "metadata": {},
   "source": [
    "# Car test-time prediction"
   ]
  },
  {
   "cell_type": "markdown",
   "metadata": {
    "id": "tpXfx7c-ouIX"
   },
   "source": [
    "## Loading MB dataset"
   ]
  },
  {
   "cell_type": "code",
   "execution_count": 41,
   "metadata": {
    "executionInfo": {
     "elapsed": 323,
     "status": "ok",
     "timestamp": 1645490179329,
     "user": {
      "displayName": "Soobin Um",
      "photoUrl": "https://lh3.googleusercontent.com/a/default-user=s64",
      "userId": "02908022989113228894"
     },
     "user_tz": -540
    },
    "id": "9lW74qlRcELP"
   },
   "outputs": [],
   "source": [
    "import pandas as pd\n",
    "data = pd.read_csv('mercedes_test.csv')"
   ]
  },
  {
   "cell_type": "markdown",
   "metadata": {},
   "source": [
    "## Data pre-processing"
   ]
  },
  {
   "cell_type": "code",
   "execution_count": 42,
   "metadata": {},
   "outputs": [
    {
     "name": "stdout",
     "output_type": "stream",
     "text": [
      "(3788, 563)\n",
      "(421, 563)\n",
      "(3788,)\n",
      "(421,)\n"
     ]
    }
   ],
   "source": [
    "# Choose categorical data columns\n",
    "cf = data.select_dtypes(include=['object']).columns\n",
    "# To change it into \"categorical\" data type\n",
    "data[cf]=data[cf].astype('category')\n",
    "# One hot encoding\n",
    "data = pd.get_dummies(data)\n",
    "# Obtain X from data (excluding 'ID' and 'y')\n",
    "X_df = data.drop(['ID','y'],axis=1)\n",
    "# Obtain y from data\n",
    "y_df = data['y']\n",
    "\n",
    "# Convert y_df into binary labels\n",
    "import numpy as np\n",
    "TF_vector= (y_df<np.median(y_df))\n",
    "y_df=TF_vector.astype(float)\n",
    "\n",
    "# Conver data frame into numpy array\n",
    "X,y = X_df.values, y_df.values\n",
    "\n",
    "# Split into train and test datasets\n",
    "from sklearn.model_selection import train_test_split\n",
    "X_train,X_test,y_train,y_test=train_test_split(X,y,test_size=0.1,stratify=y)\n",
    "print(X_train.shape)\n",
    "print(X_test.shape)\n",
    "print(y_train.shape)\n",
    "print(y_test.shape)"
   ]
  },
  {
   "cell_type": "markdown",
   "metadata": {
    "id": "UfHhV_m95JKx"
   },
   "source": [
    "## Use of TensorBoard for visualization"
   ]
  },
  {
   "cell_type": "code",
   "execution_count": 43,
   "metadata": {
    "executionInfo": {
     "elapsed": 341,
     "status": "ok",
     "timestamp": 1645490600185,
     "user": {
      "displayName": "Soobin Um",
      "photoUrl": "https://lh3.googleusercontent.com/a/default-user=s64",
      "userId": "02908022989113228894"
     },
     "user_tz": -540
    },
    "id": "S7VbjU91GMbZ"
   },
   "outputs": [
    {
     "name": "stdout",
     "output_type": "stream",
     "text": [
      "The tensorboard extension is already loaded. To reload it, use:\n",
      "  %reload_ext tensorboard\n"
     ]
    }
   ],
   "source": [
    "# Load the TensorBoard notebook extension\n",
    "%load_ext tensorboard"
   ]
  },
  {
   "cell_type": "code",
   "execution_count": 44,
   "metadata": {
    "executionInfo": {
     "elapsed": 1577,
     "status": "ok",
     "timestamp": 1645490603117,
     "user": {
      "displayName": "Soobin Um",
      "photoUrl": "https://lh3.googleusercontent.com/a/default-user=s64",
      "userId": "02908022989113228894"
     },
     "user_tz": -540
    },
    "id": "HOM9zoKw5Uwm"
   },
   "outputs": [],
   "source": [
    "from tensorflow.keras.models import Sequential \n",
    "from tensorflow.keras.layers import Dense \n",
    "from tensorflow.keras.regularizers import l2\n",
    "from tensorflow.keras.optimizers import Adam\n",
    "from tensorflow.keras.callbacks import EarlyStopping\n",
    "from tensorflow.keras.callbacks import LearningRateScheduler\n",
    "\n",
    "import os\n",
    "from tensorflow.keras.callbacks import TensorBoard"
   ]
  },
  {
   "cell_type": "code",
   "execution_count": 45,
   "metadata": {
    "executionInfo": {
     "elapsed": 2,
     "status": "ok",
     "timestamp": 1645490604217,
     "user": {
      "displayName": "Soobin Um",
      "photoUrl": "https://lh3.googleusercontent.com/a/default-user=s64",
      "userId": "02908022989113228894"
     },
     "user_tz": -540
    },
    "id": "FkKN9E7kfQu2"
   },
   "outputs": [],
   "source": [
    "# Construction of an DNN model\n",
    "def create_model(n_layer=2,lambda_=0):\n",
    "    model = Sequential()\n",
    "    for i in range(n_layer-1):\n",
    "        model.add(Dense(10, activation='relu',\n",
    "                    kernel_regularizer=l2(lambda_), bias_regularizer=l2(lambda_)))\n",
    "    \n",
    "    model.add(Dense(1, activation='sigmoid',\n",
    "              kernel_regularizer=l2(lambda_), bias_regularizer=l2(lambda_)))\n",
    "    return model"
   ]
  },
  {
   "cell_type": "markdown",
   "metadata": {
    "id": "bYKJRfR49PyO"
   },
   "source": [
    "## [1] 2-layer DNN, w/o regularization"
   ]
  },
  {
   "cell_type": "code",
   "execution_count": 46,
   "metadata": {
    "id": "w9pX6feTqLnm"
   },
   "outputs": [],
   "source": [
    "model = create_model(n_layer=2,lambda_=0)\n",
    "opt = Adam(learning_rate=1e-3)\n",
    "model.compile(optimizer=opt,\n",
    "              loss='binary_crossentropy',\n",
    "              metrics=['acc'])"
   ]
  },
  {
   "cell_type": "code",
   "execution_count": 47,
   "metadata": {},
   "outputs": [
    {
     "name": "stdout",
     "output_type": "stream",
     "text": [
      "14/14 [==============================] - 0s 844us/step - loss: 0.3294 - acc: 0.8836\n"
     ]
    },
    {
     "data": {
      "text/plain": [
       "[0.32937920093536377, 0.8836104273796082]"
      ]
     },
     "execution_count": 47,
     "metadata": {},
     "output_type": "execute_result"
    }
   ],
   "source": [
    "# generate a path directory where logs info will be saved\n",
    "logdir = os.path.join('logs','[1]no_regularization')\n",
    "#file_name = 'no_regularization'\n",
    "tb_callback = TensorBoard(logdir)\n",
    "#tb_callback = TensorBoard(log_dir=\"logs\\\\{}\".format(file_name))\n",
    "es_callback = EarlyStopping(monitor='val_acc',patience=20)\n",
    "hist = model.fit(X_train, y_train, \n",
    "                validation_split=1/9, epochs=100, \n",
    "                verbose=0,callbacks=[tb_callback, es_callback])\n",
    "model.evaluate(X_test, y_test)"
   ]
  },
  {
   "cell_type": "code",
   "execution_count": 48,
   "metadata": {
    "scrolled": true
   },
   "outputs": [
    {
     "data": {
      "text/plain": [
       "Reusing TensorBoard on port 6006 (pid 7064), started 7:12:32 ago. (Use '!kill 7064' to kill it.)"
      ]
     },
     "metadata": {},
     "output_type": "display_data"
    },
    {
     "data": {
      "text/html": [
       "\n",
       "      <iframe id=\"tensorboard-frame-a3c7d45588642d24\" width=\"100%\" height=\"800\" frameborder=\"0\">\n",
       "      </iframe>\n",
       "      <script>\n",
       "        (function() {\n",
       "          const frame = document.getElementById(\"tensorboard-frame-a3c7d45588642d24\");\n",
       "          const url = new URL(\"/\", window.location);\n",
       "          const port = 6006;\n",
       "          if (port) {\n",
       "            url.port = port;\n",
       "          }\n",
       "          frame.src = url;\n",
       "        })();\n",
       "      </script>\n",
       "    "
      ],
      "text/plain": [
       "<IPython.core.display.HTML object>"
      ]
     },
     "metadata": {},
     "output_type": "display_data"
    }
   ],
   "source": [
    "%tensorboard --logdir=logs/"
   ]
  },
  {
   "cell_type": "markdown",
   "metadata": {},
   "source": [
    "## [2] Number of layers (w/o regularization) "
   ]
  },
  {
   "cell_type": "code",
   "execution_count": null,
   "metadata": {},
   "outputs": [],
   "source": [
    "n_layer_list = [1,2,3,4,5]\n",
    "\n",
    "for n_layer in n_layer_list:\n",
    "    model = create_model(n_layer=n_layer,lambda_=0)\n",
    "    opt = Adam(learning_rate=1e-3)\n",
    "    model.compile(optimizer=opt,\n",
    "                  loss='binary_crossentropy',\n",
    "                  metrics=['acc'])\n",
    "    logdir = os.path.join('logs','[2]n_layer_wo_regularization','{}_layer'.format(n_layer))\n",
    "    tb_callback = TensorBoard(logdir)\n",
    "    es_callback = EarlyStopping(monitor='val_acc', patience=20)\n",
    "    hist = model.fit(X_train, y_train, \n",
    "                  validation_split=1/9, epochs = 100, \n",
    "                  verbose=0,callbacks=[tb_callback, es_callback])\n",
    "    model.evaluate(X_test, y_test)"
   ]
  },
  {
   "cell_type": "code",
   "execution_count": null,
   "metadata": {
    "scrolled": false
   },
   "outputs": [],
   "source": [
    "%tensorboard --logdir=logs/[2]n_layer_wo_regularization"
   ]
  },
  {
   "cell_type": "markdown",
   "metadata": {},
   "source": [
    "## [3] With regularization (2-layer DNN) "
   ]
  },
  {
   "cell_type": "code",
   "execution_count": null,
   "metadata": {},
   "outputs": [],
   "source": [
    "lambda_list = [1e-3, 1e-2, 1e-1, 1, 10]\n",
    "for lambda_ in lambda_list:\n",
    "    model = create_model(n_layer=2, lambda_=lambda_)\n",
    "    opt = Adam(learning_rate=1e-3)\n",
    "    model.compile(optimizer=opt,\n",
    "                  loss='binary_crossentropy',\n",
    "                  metrics=['acc'])\n",
    "    logdir = os.path.join('logs','[3]2_layer_w_regularization','lambda_{}'.format(lambda_))\n",
    "    tb_callback = TensorBoard(logdir)\n",
    "    es_callback = EarlyStopping(monitor='val_acc',patience=20)\n",
    "    hist = model.fit(X_train, y_train, \n",
    "                  validation_split=1/9, epochs = 100, \n",
    "                  verbose=0, callbacks=[tb_callback, es_callback] )\n",
    "    model.evaluate(X_test, y_test)"
   ]
  },
  {
   "cell_type": "code",
   "execution_count": null,
   "metadata": {
    "scrolled": false
   },
   "outputs": [],
   "source": [
    "%tensorboard --logdir=logs/[3]2_layer_w_regularization"
   ]
  },
  {
   "cell_type": "markdown",
   "metadata": {},
   "source": [
    "## [4] Learning rate (2-layer DNN)"
   ]
  },
  {
   "cell_type": "code",
   "execution_count": null,
   "metadata": {},
   "outputs": [],
   "source": [
    "lr_list = [1e-1, 1e-2, 1e-3, 1e-4]\n",
    "\n",
    "for lr in lr_list:\n",
    "    model = create_model(n_layer=2, lambda_=0)\n",
    "    opt = Adam(learning_rate=lr)\n",
    "    model.compile(optimizer=opt,\n",
    "                  loss='binary_crossentropy',\n",
    "                  metrics=['acc'])\n",
    "    logdir = os.path.join('logs','[4]2_layer_lr','lr_{}'.format(lr))\n",
    "    tb_callback = TensorBoard(logdir)\n",
    "    es_callback = EarlyStopping(monitor='val_acc',patience=20)\n",
    "    hist = model.fit(X_train, y_train, \n",
    "                  validation_split=1/9, epochs = 100, \n",
    "                  verbose=0,callbacks=[tb_callback,es_callback])\n",
    "    model.evaluate(X_test, y_test)"
   ]
  },
  {
   "cell_type": "code",
   "execution_count": null,
   "metadata": {},
   "outputs": [],
   "source": [
    "%tensorboard --logdir=logs/[4]2_layer_lr"
   ]
  },
  {
   "cell_type": "markdown",
   "metadata": {},
   "source": [
    "## [5] Effect of learning rate decay"
   ]
  },
  {
   "cell_type": "code",
   "execution_count": null,
   "metadata": {},
   "outputs": [],
   "source": [
    "# w/o learning rate decay\n",
    "model = create_model(n_layer=2, lambda_=0)\n",
    "opt = Adam(learning_rate=1e-3)\n",
    "model.compile(optimizer=opt,\n",
    "              loss='binary_crossentropy',\n",
    "              metrics=['acc'])\n",
    "logdir = os.path.join('logs','[5]lr_decay','none')\n",
    "tb_callback = TensorBoard(logdir)\n",
    "es_callback = EarlyStopping(monitor='val_acc',patience=20)\n",
    "hist = model.fit(X_train, y_train, \n",
    "                validation_split=1/9, epochs = 100, \n",
    "                verbose=0, callbacks=[tb_callback, es_callback] )\n",
    "model.evaluate(X_test,y_test)"
   ]
  },
  {
   "cell_type": "code",
   "execution_count": null,
   "metadata": {},
   "outputs": [],
   "source": [
    "# w/ learning rate decay\n",
    "model = create_model(n_layer=2, lambda_=0)\n",
    "opt = Adam(learning_rate=1e-3)\n",
    "model.compile(optimizer=opt,\n",
    "              loss='binary_crossentropy',\n",
    "              metrics=['acc'])\n",
    "logdir = os.path.join('logs','[5]lr_decay','step_decay')\n",
    "tb_callback = TensorBoard(logdir)\n",
    "es_callback = EarlyStopping(monitor='val_acc',patience=20)\n",
    "def scheduler(epoch, lr):\n",
    "    if epoch in [30, 60, 90]:\n",
    "        lr = lr*0.1\n",
    "    return lr\n",
    "lrs_callback = LearningRateScheduler(scheduler)\n",
    "hist = model.fit(X_train, y_train, \n",
    "                validation_split=1/9, epochs = 100, \n",
    "                verbose=0, callbacks=[tb_callback,es_callback,lrs_callback] )\n",
    "model.evaluate(X_test, y_test)"
   ]
  },
  {
   "cell_type": "code",
   "execution_count": null,
   "metadata": {},
   "outputs": [],
   "source": [
    "%tensorboard --logdir=logs/[5]lr_decay"
   ]
  }
 ],
 "metadata": {
  "accelerator": "GPU",
  "colab": {
   "collapsed_sections": [],
   "name": "CP.ipynb",
   "provenance": []
  },
  "kernelspec": {
   "display_name": "Python 3 (ipykernel)",
   "language": "python",
   "name": "python3"
  },
  "language_info": {
   "codemirror_mode": {
    "name": "ipython",
    "version": 3
   },
   "file_extension": ".py",
   "mimetype": "text/x-python",
   "name": "python",
   "nbconvert_exporter": "python",
   "pygments_lexer": "ipython3",
   "version": "3.9.7"
  }
 },
 "nbformat": 4,
 "nbformat_minor": 1
}
