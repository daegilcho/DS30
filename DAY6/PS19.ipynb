{
 "cells": [
  {
   "cell_type": "markdown",
   "metadata": {},
   "source": [
    "# Car test-time prediction"
   ]
  },
  {
   "cell_type": "markdown",
   "metadata": {
    "id": "tpXfx7c-ouIX"
   },
   "source": [
    "## Loading MB dataset"
   ]
  },
  {
   "cell_type": "code",
   "execution_count": 1,
   "metadata": {
    "executionInfo": {
     "elapsed": 323,
     "status": "ok",
     "timestamp": 1645490179329,
     "user": {
      "displayName": "Soobin Um",
      "photoUrl": "https://lh3.googleusercontent.com/a/default-user=s64",
      "userId": "02908022989113228894"
     },
     "user_tz": -540
    },
    "id": "9lW74qlRcELP"
   },
   "outputs": [],
   "source": [
    "import pandas as pd\n",
    "data = pd.read_csv('mercedes_test.csv')"
   ]
  },
  {
   "cell_type": "markdown",
   "metadata": {},
   "source": [
    "## Data pre-processing"
   ]
  },
  {
   "cell_type": "code",
   "execution_count": 2,
   "metadata": {},
   "outputs": [
    {
     "name": "stdout",
     "output_type": "stream",
     "text": [
      "(3788, 563)\n",
      "(421, 563)\n",
      "(3788,)\n",
      "(421,)\n"
     ]
    }
   ],
   "source": [
    "# Choose categorical data columns\n",
    "cf = data.select_dtypes(include=['object']).columns\n",
    "# To change it into \"categorical\" data type\n",
    "data[cf]=data[cf].astype('category')\n",
    "# One hot encoding\n",
    "data = pd.get_dummies(data)\n",
    "# Obtain X from data (excluding 'ID' and 'y')\n",
    "X_df = data.drop(['ID','y'],axis=1)\n",
    "# Obtain y from data\n",
    "y_df = data['y']\n",
    "\n",
    "# Convert y_df into binary labels\n",
    "import numpy as np\n",
    "TF_vector= (y_df<np.median(y_df))\n",
    "y_df=TF_vector.astype(float)\n",
    "\n",
    "# Conver data frame into numpy array\n",
    "X,y = X_df.values, y_df.values\n",
    "\n",
    "# Split into train and test datasets\n",
    "from sklearn.model_selection import train_test_split\n",
    "X_train,X_test,y_train,y_test=train_test_split(X,y,test_size=0.1,stratify=y)\n",
    "print(X_train.shape)\n",
    "print(X_test.shape)\n",
    "print(y_train.shape)\n",
    "print(y_test.shape)"
   ]
  },
  {
   "cell_type": "markdown",
   "metadata": {
    "id": "oAlylE_ouMEQ"
   },
   "source": [
    "## DNN: Hyparameter search via cross validation"
   ]
  },
  {
   "cell_type": "code",
   "execution_count": 3,
   "metadata": {
    "executionInfo": {
     "elapsed": 1577,
     "status": "ok",
     "timestamp": 1645490603117,
     "user": {
      "displayName": "Soobin Um",
      "photoUrl": "https://lh3.googleusercontent.com/a/default-user=s64",
      "userId": "02908022989113228894"
     },
     "user_tz": -540
    },
    "id": "HOM9zoKw5Uwm"
   },
   "outputs": [],
   "source": [
    "from tensorflow.keras.models import Sequential \n",
    "from tensorflow.keras.layers import Dense, Dropout \n",
    "from tensorflow.keras.regularizers import l2\n",
    "from tensorflow.keras.optimizers import Adam"
   ]
  },
  {
   "cell_type": "code",
   "execution_count": 4,
   "metadata": {
    "id": "-R4FtZfGuOfU"
   },
   "outputs": [],
   "source": [
    "from sklearn.model_selection import RandomizedSearchCV\n",
    "from tensorflow.keras.wrappers.scikit_learn import KerasClassifier \n",
    "# Enables the use of Scikit-learn APIs for Keras models"
   ]
  },
  {
   "cell_type": "code",
   "execution_count": 5,
   "metadata": {
    "id": "uLgdD3RW3uh5"
   },
   "outputs": [],
   "source": [
    "def build_model(n_layer=2,lambda_=0,lr=1e-3):\n",
    "    model = Sequential()\n",
    "    for i in range(n_layer-1):\n",
    "        model.add(Dense(20,activation='relu',\n",
    "                  kernel_regularizer=l2(lambda_),bias_regularizer=l2(lambda_)))\n",
    "  \n",
    "    model.add(Dense(1, activation='sigmoid',\n",
    "                  kernel_regularizer=l2(lambda_),bias_regularizer=l2(lambda_)))\n",
    "    optimizer = Adam(learning_rate=lr)\n",
    "    model.compile(optimizer=optimizer,\n",
    "                  loss='binary_crossentropy',\n",
    "                  metrics=['acc'])\n",
    "    return model "
   ]
  },
  {
   "cell_type": "code",
   "execution_count": 6,
   "metadata": {
    "id": "A5ZnuKJyFYvn"
   },
   "outputs": [
    {
     "name": "stderr",
     "output_type": "stream",
     "text": [
      "C:\\Users\\chsuh\\AppData\\Local\\Temp\\ipykernel_23148\\933115641.py:2: DeprecationWarning: KerasClassifier is deprecated, use Sci-Keras (https://github.com/adriangb/scikeras) instead. See https://www.adriangb.com/scikeras/stable/migration.html for help migrating.\n",
      "  model = KerasClassifier(build_model)\n"
     ]
    }
   ],
   "source": [
    "# return a scikit-learn-like Keras model\n",
    "model = KerasClassifier(build_model) \n",
    "n_layer = [2,5,10]\n",
    "lambda_ = [1e-3,1e-2,1e-1,1,10] \n",
    "grid = {'n_layer':n_layer,'lambda_':lambda_}\n",
    "#grid = dict(n_layer=n_layer,lambda_=lambda_)\n",
    "cv = RandomizedSearchCV(model,grid,n_iter=15,cv=5)"
   ]
  },
  {
   "cell_type": "code",
   "execution_count": 7,
   "metadata": {
    "id": "JrksfmmqFts5"
   },
   "outputs": [
    {
     "name": "stdout",
     "output_type": "stream",
     "text": [
      "24/24 [==============================] - 0s 2ms/step - loss: 0.3276 - acc: 0.8945\n",
      "24/24 [==============================] - 0s 1ms/step - loss: 0.3550 - acc: 0.8813\n",
      "24/24 [==============================] - 0s 2ms/step - loss: 0.3557 - acc: 0.8747\n",
      "24/24 [==============================] - 0s 2ms/step - loss: 0.3722 - acc: 0.8679\n",
      "24/24 [==============================] - 0s 2ms/step - loss: 0.3755 - acc: 0.8692\n",
      "24/24 [==============================] - 0s 2ms/step - loss: 0.3356 - acc: 0.8958\n",
      "24/24 [==============================] - 0s 2ms/step - loss: 0.3749 - acc: 0.8747\n",
      "24/24 [==============================] - 0s 2ms/step - loss: 0.3916 - acc: 0.8575\n",
      "24/24 [==============================] - 0s 2ms/step - loss: 0.3758 - acc: 0.8732\n",
      "24/24 [==============================] - 0s 2ms/step - loss: 0.4266 - acc: 0.8520\n",
      "24/24 [==============================] - 0s 2ms/step - loss: 0.3536 - acc: 0.8760\n",
      "24/24 [==============================] - 0s 2ms/step - loss: 0.3759 - acc: 0.8694\n",
      "24/24 [==============================] - 0s 2ms/step - loss: 0.4117 - acc: 0.8694\n",
      "24/24 [==============================] - 0s 2ms/step - loss: 0.3816 - acc: 0.8679\n",
      "24/24 [==============================] - 0s 3ms/step - loss: 0.4376 - acc: 0.8428\n",
      "24/24 [==============================] - 0s 2ms/step - loss: 0.3708 - acc: 0.8971\n",
      "24/24 [==============================] - 0s 2ms/step - loss: 0.3915 - acc: 0.8813\n",
      "24/24 [==============================] - 0s 2ms/step - loss: 0.4009 - acc: 0.8773\n",
      "24/24 [==============================] - 0s 2ms/step - loss: 0.4130 - acc: 0.8745\n",
      "24/24 [==============================] - 0s 2ms/step - loss: 0.4143 - acc: 0.8692\n",
      "24/24 [==============================] - 0s 2ms/step - loss: 0.4294 - acc: 0.8945\n",
      "24/24 [==============================] - 0s 2ms/step - loss: 0.4545 - acc: 0.8799\n",
      "24/24 [==============================] - 0s 2ms/step - loss: 0.4617 - acc: 0.8773\n",
      "24/24 [==============================] - 0s 2ms/step - loss: 0.4575 - acc: 0.8745\n",
      "24/24 [==============================] - 0s 2ms/step - loss: 0.5045 - acc: 0.8481\n",
      "24/24 [==============================] - 0s 2ms/step - loss: 0.5030 - acc: 0.8971\n",
      "24/24 [==============================] - 0s 3ms/step - loss: 0.6944 - acc: 0.4644\n",
      "24/24 [==============================] - 0s 2ms/step - loss: 0.5214 - acc: 0.8720\n",
      "24/24 [==============================] - 0s 2ms/step - loss: 0.5661 - acc: 0.8758\n",
      "24/24 [==============================] - 0s 2ms/step - loss: 0.5312 - acc: 0.8666\n",
      "24/24 [==============================] - 0s 2ms/step - loss: 0.6119 - acc: 0.8839\n",
      "24/24 [==============================] - 0s 2ms/step - loss: 0.6198 - acc: 0.8720\n",
      "24/24 [==============================] - 0s 2ms/step - loss: 0.6214 - acc: 0.8734\n",
      "24/24 [==============================] - 0s 2ms/step - loss: 0.6262 - acc: 0.8758\n",
      "24/24 [==============================] - 0s 2ms/step - loss: 0.6255 - acc: 0.8560\n",
      "24/24 [==============================] - 0s 2ms/step - loss: 0.6936 - acc: 0.4763\n",
      "24/24 [==============================] - 0s 2ms/step - loss: 0.6939 - acc: 0.4644\n",
      "24/24 [==============================] - 0s 2ms/step - loss: 0.6935 - acc: 0.4815\n",
      "24/24 [==============================] - 0s 2ms/step - loss: 0.6943 - acc: 0.4571\n",
      "24/24 [==============================] - 0s 2ms/step - loss: 0.6933 - acc: 0.4967\n",
      "24/24 [==============================] - 0s 3ms/step - loss: 0.6937 - acc: 0.4763\n",
      "24/24 [==============================] - 0s 2ms/step - loss: 0.6939 - acc: 0.4644\n",
      "24/24 [==============================] - 0s 3ms/step - loss: 0.6936 - acc: 0.4815\n",
      "24/24 [==============================] - 0s 3ms/step - loss: 0.6946 - acc: 0.4571\n",
      "24/24 [==============================] - 0s 3ms/step - loss: 0.6934 - acc: 0.4967\n",
      "24/24 [==============================] - 0s 2ms/step - loss: 0.6933 - acc: 0.4763\n",
      "24/24 [==============================] - 0s 2ms/step - loss: 0.6958 - acc: 0.4644\n",
      "24/24 [==============================] - 0s 2ms/step - loss: 0.6939 - acc: 0.4815\n",
      "24/24 [==============================] - 0s 2ms/step - loss: 0.6936 - acc: 0.4571\n",
      "24/24 [==============================] - 0s 2ms/step - loss: 0.6946 - acc: 0.5033\n",
      "24/24 [==============================] - 0s 2ms/step - loss: 0.6954 - acc: 0.4763\n",
      "24/24 [==============================] - 0s 2ms/step - loss: 0.6942 - acc: 0.4644\n",
      "24/24 [==============================] - 0s 2ms/step - loss: 0.6954 - acc: 0.4815\n",
      "24/24 [==============================] - 0s 2ms/step - loss: 0.6957 - acc: 0.4571\n",
      "24/24 [==============================] - 0s 2ms/step - loss: 0.6953 - acc: 0.4967\n",
      "24/24 [==============================] - 0s 2ms/step - loss: 0.6961 - acc: 0.4763\n",
      "24/24 [==============================] - 0s 2ms/step - loss: 0.6952 - acc: 0.4644\n",
      "24/24 [==============================] - 0s 3ms/step - loss: 0.6950 - acc: 0.4815\n",
      "24/24 [==============================] - 0s 2ms/step - loss: 0.6958 - acc: 0.4571\n",
      "24/24 [==============================] - 0s 3ms/step - loss: 0.6949 - acc: 0.5033\n",
      "24/24 [==============================] - 0s 2ms/step - loss: 0.7083 - acc: 0.4763\n",
      "24/24 [==============================] - 0s 2ms/step - loss: 0.7026 - acc: 0.4644\n",
      "24/24 [==============================] - 0s 2ms/step - loss: 0.6944 - acc: 0.4815\n",
      "24/24 [==============================] - 0s 2ms/step - loss: 0.6951 - acc: 0.5429\n",
      "24/24 [==============================] - 0s 2ms/step - loss: 0.7064 - acc: 0.4967\n",
      "24/24 [==============================] - 0s 2ms/step - loss: 0.7072 - acc: 0.4763\n",
      "24/24 [==============================] - 0s 2ms/step - loss: 0.7018 - acc: 0.5356\n",
      "24/24 [==============================] - 0s 2ms/step - loss: 0.7096 - acc: 0.4815\n",
      "24/24 [==============================] - 0s 2ms/step - loss: 0.7118 - acc: 0.4571\n",
      "24/24 [==============================] - 0s 2ms/step - loss: 0.7038 - acc: 0.4967\n",
      "24/24 [==============================] - 0s 3ms/step - loss: 0.7237 - acc: 0.4763\n",
      "24/24 [==============================] - 0s 3ms/step - loss: 0.7104 - acc: 0.4644\n",
      "24/24 [==============================] - 0s 2ms/step - loss: 0.7160 - acc: 0.5185\n",
      "24/24 [==============================] - 0s 3ms/step - loss: 0.7173 - acc: 0.5429\n",
      "24/24 [==============================] - 0s 3ms/step - loss: 0.7128 - acc: 0.5033\n"
     ]
    },
    {
     "data": {
      "text/plain": [
       "RandomizedSearchCV(cv=5,\n",
       "                   estimator=<keras.wrappers.scikit_learn.KerasClassifier object at 0x000002570053BA30>,\n",
       "                   n_iter=15,\n",
       "                   param_distributions={'lambda_': [0.001, 0.01, 0.1, 1, 10],\n",
       "                                        'n_layer': [2, 5, 10]})"
      ]
     },
     "execution_count": 7,
     "metadata": {},
     "output_type": "execute_result"
    }
   ],
   "source": [
    "cv.fit(X_train,y_train,epochs=10,verbose=0)"
   ]
  },
  {
   "cell_type": "code",
   "execution_count": 20,
   "metadata": {
    "id": "t8M8wJq-u7Ls"
   },
   "outputs": [
    {
     "data": {
      "text/plain": [
       "{'mean_fit_time': array([0.92690701, 1.26939411, 1.62701445, 0.99394994, 1.23856187,\n",
       "        1.62207046, 0.93899837, 1.18809657, 1.53056607, 0.97977591,\n",
       "        1.18282275, 1.54517779, 0.98006988, 1.41293292, 1.56782312]),\n",
       " 'std_fit_time': array([0.03289318, 0.07189314, 0.09928691, 0.07646787, 0.06153695,\n",
       "        0.06841646, 0.01440546, 0.07872124, 0.02847128, 0.0260221 ,\n",
       "        0.01594512, 0.07968916, 0.07618274, 0.20161439, 0.03207019]),\n",
       " 'mean_score_time': array([0.11459241, 0.14710979, 0.19308376, 0.1104126 , 0.14343796,\n",
       "        0.19170918, 0.11299796, 0.14011912, 0.24366808, 0.11489229,\n",
       "        0.17347822, 0.17830563, 0.11238298, 0.18486242, 0.22163424]),\n",
       " 'std_score_time': array([0.00530147, 0.0074842 , 0.00823786, 0.00353421, 0.00380523,\n",
       "        0.00739789, 0.0030169 , 0.01190786, 0.07656981, 0.00263164,\n",
       "        0.06815025, 0.00298402, 0.00291887, 0.05490424, 0.05793637]),\n",
       " 'param_n_layer': masked_array(data=[2, 5, 10, 2, 5, 10, 2, 5, 10, 2, 5, 10, 2, 5, 10],\n",
       "              mask=[False, False, False, False, False, False, False, False,\n",
       "                    False, False, False, False, False, False, False],\n",
       "        fill_value='?',\n",
       "             dtype=object),\n",
       " 'param_lambda_': masked_array(data=[0.001, 0.001, 0.001, 0.01, 0.01, 0.01, 0.1, 0.1, 0.1,\n",
       "                    1, 1, 1, 10, 10, 10],\n",
       "              mask=[False, False, False, False, False, False, False, False,\n",
       "                    False, False, False, False, False, False, False],\n",
       "        fill_value='?',\n",
       "             dtype=object),\n",
       " 'params': [{'n_layer': 2, 'lambda_': 0.001},\n",
       "  {'n_layer': 5, 'lambda_': 0.001},\n",
       "  {'n_layer': 10, 'lambda_': 0.001},\n",
       "  {'n_layer': 2, 'lambda_': 0.01},\n",
       "  {'n_layer': 5, 'lambda_': 0.01},\n",
       "  {'n_layer': 10, 'lambda_': 0.01},\n",
       "  {'n_layer': 2, 'lambda_': 0.1},\n",
       "  {'n_layer': 5, 'lambda_': 0.1},\n",
       "  {'n_layer': 10, 'lambda_': 0.1},\n",
       "  {'n_layer': 2, 'lambda_': 1},\n",
       "  {'n_layer': 5, 'lambda_': 1},\n",
       "  {'n_layer': 10, 'lambda_': 1},\n",
       "  {'n_layer': 2, 'lambda_': 10},\n",
       "  {'n_layer': 5, 'lambda_': 10},\n",
       "  {'n_layer': 10, 'lambda_': 10}],\n",
       " 'split0_test_score': array([0.87203169, 0.87994725, 0.84828496, 0.8878628 , 0.88126647,\n",
       "        0.88126647, 0.87730873, 0.4934037 , 0.4934037 , 0.4934037 ,\n",
       "        0.50659633, 0.4934037 , 0.4934037 , 0.50659633, 0.4934037 ]),\n",
       " 'split1_test_score': array([0.87730873, 0.86939311, 0.87730873, 0.87203169, 0.85883904,\n",
       "        0.85224277, 0.87862796, 0.49076518, 0.49076518, 0.49076518,\n",
       "        0.50923485, 0.49076518, 0.49076518, 0.49076518, 0.49076518]),\n",
       " 'split2_test_score': array([0.87203169, 0.86807388, 0.84960425, 0.87598944, 0.87730873,\n",
       "        0.86675459, 0.82849604, 0.4828496 , 0.4828496 , 0.4828496 ,\n",
       "        0.5171504 , 0.5171504 , 0.4828496 , 0.4828496 , 0.5171504 ]),\n",
       " 'split3_test_score': array([0.87450463, 0.8678996 , 0.86261559, 0.87582564, 0.87450463,\n",
       "        0.86922061, 0.85336858, 0.49009246, 0.49009246, 0.50990754,\n",
       "        0.50990754, 0.50990754, 0.49009246, 0.49009246, 0.49009246]),\n",
       " 'split4_test_score': array([0.8771466 , 0.8771466 , 0.86525762, 0.88243067, 0.87978864,\n",
       "        0.49009246, 0.83223248, 0.49009246, 0.49009246, 0.49009246,\n",
       "        0.49009246, 0.49009246, 0.50990754, 0.50990754, 0.49009246]),\n",
       " 'mean_test_score': array([0.87460467, 0.87249209, 0.86061423, 0.87882805, 0.8743415 ,\n",
       "        0.79191538, 0.85400676, 0.48944068, 0.48944068, 0.4934037 ,\n",
       "        0.50659631, 0.50026386, 0.4934037 , 0.49604222, 0.49630084]),\n",
       " 'std_test_score': array([0.00232481, 0.00504894, 0.01074712, 0.00561904, 0.00808436,\n",
       "        0.15119332, 0.02132842, 0.00351431, 0.00351431, 0.00896317,\n",
       "        0.00896317, 0.01112565, 0.00896317, 0.01040123, 0.01049599]),\n",
       " 'rank_test_score': array([ 2,  4,  5,  1,  3,  7,  6, 14, 14, 12,  8,  9, 12, 11, 10])}"
      ]
     },
     "execution_count": 20,
     "metadata": {},
     "output_type": "execute_result"
    }
   ],
   "source": [
    "cv.cv_results_ # logs results"
   ]
  },
  {
   "cell_type": "markdown",
   "metadata": {
    "id": "jtkz-d_bvJPA"
   },
   "source": [
    "## Store logs into csv file"
   ]
  },
  {
   "cell_type": "code",
   "execution_count": 21,
   "metadata": {
    "id": "2jJjoprtvJPD"
   },
   "outputs": [],
   "source": [
    "# Store logs into csv file\n",
    "import pandas as pd \n",
    "df_DNN=pd.DataFrame.from_dict(cv.cv_results_,orient='columns')\n",
    "# Select columns to be stored\n",
    "columns = ['params','mean_test_score','std_test_score','rank_test_score']\n",
    "df_DNN = df_DNN[columns]\n",
    "df_DNN.to_csv(\"logs_DNN.csv\")"
   ]
  },
  {
   "cell_type": "markdown",
   "metadata": {
    "id": "jlA1KkyDvyjU"
   },
   "source": [
    "## Save the best model"
   ]
  },
  {
   "cell_type": "code",
   "execution_count": 22,
   "metadata": {
    "id": "55VeFUfivyjX"
   },
   "outputs": [
    {
     "name": "stdout",
     "output_type": "stream",
     "text": [
      "INFO:tensorflow:Assets written to: best_model_DNN\\assets\n"
     ]
    }
   ],
   "source": [
    "best_model_DNN=cv.best_estimator_\n",
    "best_model_DNN.model.save('best_model_DNN')"
   ]
  },
  {
   "cell_type": "markdown",
   "metadata": {
    "id": "4sAlfrWDvy5b"
   },
   "source": [
    "## Load the best model"
   ]
  },
  {
   "cell_type": "code",
   "execution_count": 23,
   "metadata": {
    "id": "WkjLiFAYvy5b"
   },
   "outputs": [
    {
     "name": "stdout",
     "output_type": "stream",
     "text": [
      "14/14 [==============================] - 0s 844us/step - loss: 0.3685 - acc: 0.9002\n"
     ]
    },
    {
     "data": {
      "text/plain": [
       "[0.3684735596179962, 0.900237500667572]"
      ]
     },
     "execution_count": 23,
     "metadata": {},
     "output_type": "execute_result"
    }
   ],
   "source": [
    "from tensorflow.keras.models import load_model\n",
    "loaded_model = load_model('best_model_DNN')\n",
    "loaded_model.evaluate(X_test, y_test)"
   ]
  },
  {
   "cell_type": "code",
   "execution_count": null,
   "metadata": {},
   "outputs": [],
   "source": []
  }
 ],
 "metadata": {
  "accelerator": "GPU",
  "colab": {
   "collapsed_sections": [],
   "name": "CP.ipynb",
   "provenance": []
  },
  "kernelspec": {
   "display_name": "Python 3 (ipykernel)",
   "language": "python",
   "name": "python3"
  },
  "language_info": {
   "codemirror_mode": {
    "name": "ipython",
    "version": 3
   },
   "file_extension": ".py",
   "mimetype": "text/x-python",
   "name": "python",
   "nbconvert_exporter": "python",
   "pygments_lexer": "ipython3",
   "version": "3.9.12"
  }
 },
 "nbformat": 4,
 "nbformat_minor": 1
}
