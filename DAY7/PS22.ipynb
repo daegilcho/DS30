{
 "cells": [
  {
   "cell_type": "markdown",
   "metadata": {
    "id": "pa49bUnKyRgF"
   },
   "source": [
    "# Mini-project \\#2 (RNN exercise)"
   ]
  },
  {
   "cell_type": "markdown",
   "metadata": {},
   "source": [
    "## Task: Weather prediction"
   ]
  },
  {
   "cell_type": "markdown",
   "metadata": {
    "id": "GU8C5qm_4vZb"
   },
   "source": [
    "## Loading Jena climate dataset & propreprocessing"
   ]
  },
  {
   "cell_type": "code",
   "execution_count": 1,
   "metadata": {},
   "outputs": [
    {
     "name": "stderr",
     "output_type": "stream",
     "text": [
      "C:\\Users\\chsuh\\AppData\\Local\\Temp/ipykernel_26228/391320505.py:8: SettingWithCopyWarning: \n",
      "A value is trying to be set on a copy of a slice from a DataFrame\n",
      "\n",
      "See the caveats in the documentation: https://pandas.pydata.org/pandas-docs/stable/user_guide/indexing.html#returning-a-view-versus-a-copy\n",
      "  wv[wv_missing_idx] = wv_mean\n",
      "C:\\Users\\chsuh\\AppData\\Local\\Temp/ipykernel_26228/391320505.py:13: SettingWithCopyWarning: \n",
      "A value is trying to be set on a copy of a slice from a DataFrame\n",
      "\n",
      "See the caveats in the documentation: https://pandas.pydata.org/pandas-docs/stable/user_guide/indexing.html#returning-a-view-versus-a-copy\n",
      "  max_wv[missing_idx] = max_wv_mean\n"
     ]
    }
   ],
   "source": [
    "import pandas as pd\n",
    "data = pd.read_csv('jena_climate_2009_2016.csv')\n",
    "\n",
    "# fill up the missing entries with the mean\n",
    "wv = data['wv (m/s)']\n",
    "wv_missing_idx = (wv == -9999.00)\n",
    "wv_mean = wv[~wv_missing_idx].mean()\n",
    "wv[wv_missing_idx] = wv_mean\n",
    "\n",
    "max_wv = data['max. wv (m/s)']\n",
    "missing_idx = (max_wv == -9999.00)\n",
    "max_wv_mean = max_wv[~missing_idx].mean()\n",
    "max_wv[missing_idx] = max_wv_mean\n",
    "\n",
    "# revmoe 'data time' column \n",
    "data.pop('Date Time')\n",
    "\n",
    "# downsampling\n",
    "data = data[0::6] # m=70,092"
   ]
  },
  {
   "cell_type": "markdown",
   "metadata": {
    "id": "RAQMKUDfWEpW"
   },
   "source": [
    "## Normalization & splitting"
   ]
  },
  {
   "cell_type": "code",
   "execution_count": 2,
   "metadata": {},
   "outputs": [],
   "source": [
    "features = data\n",
    "labels = data[['T (degC)']]\n",
    "\n",
    "# normalization\n",
    "from sklearn.preprocessing import StandardScaler\n",
    "std_scaler = StandardScaler()\n",
    "features = std_scaler.fit_transform(features)\n",
    "\n",
    "# 7:2:1 splitting\n",
    "from sklearn.model_selection import train_test_split\n",
    "X_rest, X_test, y_rest, y_test = train_test_split(features,\n",
    "                                                  labels,\n",
    "                                                  test_size=0.1,\n",
    "                                                  shuffle=False)\n",
    "X_train, X_val, y_train, y_val = train_test_split(X_rest,\n",
    "                                                  y_rest,\n",
    "                                                  test_size=2/9,\n",
    "                                                  shuffle=False)"
   ]
  },
  {
   "cell_type": "markdown",
   "metadata": {},
   "source": [
    "## Time series data generation: Construct $\\{ (x_T^{(i)}, y_T^{(i)}) \\}_{i=1}^{m_T}$"
   ]
  },
  {
   "cell_type": "code",
   "execution_count": 3,
   "metadata": {},
   "outputs": [],
   "source": [
    "T = 24\n",
    "batch_size = 16\n",
    "\n",
    "from tensorflow.keras.preprocessing import timeseries_dataset_from_array\n",
    "# Train batch dataset\n",
    "dataset_train = timeseries_dataset_from_array(X_train[:-T],\n",
    "                                              y_train[T:],\n",
    "                                              sequence_length = T,\n",
    "                                              sequence_stride = 1, \n",
    "                                              batch_size = batch_size,\n",
    "                                              shuffle = True)\n",
    "# validation batch dataset\n",
    "dataset_val = timeseries_dataset_from_array(X_val[:-T],\n",
    "                                            y_val[T:], \n",
    "                                            sequence_length = T,\n",
    "                                            sequence_stride = 1,\n",
    "                                            batch_size=batch_size,\n",
    "                                            shuffle = False)\n",
    "# test batch dataset\n",
    "dataset_test = timeseries_dataset_from_array(X_test[:-T],\n",
    "                                             y_test[T:],\n",
    "                                             sequence_length = T,\n",
    "                                             sequence_stride = 1,\n",
    "                                             batch_size=batch_size,\n",
    "                                             shuffle = False)"
   ]
  },
  {
   "cell_type": "markdown",
   "metadata": {},
   "source": [
    "## DNN model"
   ]
  },
  {
   "cell_type": "code",
   "execution_count": 4,
   "metadata": {},
   "outputs": [],
   "source": [
    "from tensorflow.keras.models import Model\n",
    "from tensorflow.keras.layers import Input,Flatten,Dense\n",
    "from tensorflow.keras.optimizers import Adam\n",
    "from tensorflow.keras.callbacks import EarlyStopping\n",
    "from tensorflow.keras.callbacks import LearningRateScheduler\n",
    "\n"
   ]
  },
  {
   "cell_type": "code",
   "execution_count": 5,
   "metadata": {},
   "outputs": [
    {
     "name": "stdout",
     "output_type": "stream",
     "text": [
      "Model: \"model\"\n",
      "_________________________________________________________________\n",
      " Layer (type)                Output Shape              Param #   \n",
      "=================================================================\n",
      " input_1 (InputLayer)        [(None, 24, 14)]          0         \n",
      "                                                                 \n",
      " flatten (Flatten)           (None, 336)               0         \n",
      "                                                                 \n",
      " dense (Dense)               (None, 32)                10784     \n",
      "                                                                 \n",
      " dense_1 (Dense)             (None, 1)                 33        \n",
      "                                                                 \n",
      "=================================================================\n",
      "Total params: 10,817\n",
      "Trainable params: 10,817\n",
      "Non-trainable params: 0\n",
      "_________________________________________________________________\n"
     ]
    }
   ],
   "source": [
    "# DNN model construction\n",
    "inputs = Input(shape=(T,14))\n",
    "x = Flatten()(inputs)\n",
    "x = Dense(units=32,activation='relu')(x)\n",
    "outputs = Dense(units=1)(x)\n",
    "dnn_model = Model(inputs=inputs,outputs=outputs)\n",
    "dnn_model.summary()"
   ]
  },
  {
   "cell_type": "code",
   "execution_count": 6,
   "metadata": {},
   "outputs": [],
   "source": [
    "# Early stopping & learning rate decay\n",
    "es_callback = EarlyStopping(monitor='val_loss',patience=10)\n",
    "def scheduler(epoch,lr):\n",
    "    if epoch in [10,20,30]: lr = 0.1*lr\n",
    "    return lr\n",
    "lrs_callback = LearningRateScheduler(scheduler)"
   ]
  },
  {
   "cell_type": "code",
   "execution_count": 7,
   "metadata": {},
   "outputs": [],
   "source": [
    "# Optimizer\n",
    "opt = Adam(learning_rate=0.001,\n",
    "          beta_1=0.9,\n",
    "          beta_2=0.999)"
   ]
  },
  {
   "cell_type": "code",
   "execution_count": 8,
   "metadata": {},
   "outputs": [],
   "source": [
    "# Compile\n",
    "from tensorflow.keras.metrics import RootMeanSquaredError\n",
    "dnn_model.compile(loss='mean_squared_error',\n",
    "                 metrics=RootMeanSquaredError(),\n",
    "                 optimizer=opt)"
   ]
  },
  {
   "cell_type": "code",
   "execution_count": 9,
   "metadata": {},
   "outputs": [
    {
     "name": "stdout",
     "output_type": "stream",
     "text": [
      "Epoch 1/30\n",
      "3064/3064 [==============================] - 4s 1ms/step - loss: 3.3024 - root_mean_squared_error: 1.8173 - val_loss: 0.8463 - val_root_mean_squared_error: 0.9199 - lr: 0.0010\n",
      "Epoch 2/30\n",
      "3064/3064 [==============================] - 3s 969us/step - loss: 0.8423 - root_mean_squared_error: 0.9178 - val_loss: 0.9996 - val_root_mean_squared_error: 0.9998 - lr: 0.0010\n",
      "Epoch 3/30\n",
      "3064/3064 [==============================] - 3s 1ms/step - loss: 0.7486 - root_mean_squared_error: 0.8652 - val_loss: 0.7881 - val_root_mean_squared_error: 0.8877 - lr: 0.0010\n",
      "Epoch 4/30\n",
      "3064/3064 [==============================] - 3s 1ms/step - loss: 0.6975 - root_mean_squared_error: 0.8351 - val_loss: 0.9303 - val_root_mean_squared_error: 0.9645 - lr: 0.0010\n",
      "Epoch 5/30\n",
      "3064/3064 [==============================] - 3s 985us/step - loss: 0.6728 - root_mean_squared_error: 0.8202 - val_loss: 0.7017 - val_root_mean_squared_error: 0.8377 - lr: 0.0010\n",
      "Epoch 6/30\n",
      "3064/3064 [==============================] - 3s 977us/step - loss: 0.6568 - root_mean_squared_error: 0.8104 - val_loss: 0.7023 - val_root_mean_squared_error: 0.8380 - lr: 0.0010\n",
      "Epoch 7/30\n",
      "3064/3064 [==============================] - 3s 887us/step - loss: 0.6391 - root_mean_squared_error: 0.7994 - val_loss: 0.6233 - val_root_mean_squared_error: 0.7895 - lr: 0.0010\n",
      "Epoch 8/30\n",
      "3064/3064 [==============================] - 3s 866us/step - loss: 0.6341 - root_mean_squared_error: 0.7963 - val_loss: 0.9105 - val_root_mean_squared_error: 0.9542 - lr: 0.0010\n",
      "Epoch 9/30\n",
      "3064/3064 [==============================] - 3s 890us/step - loss: 0.6128 - root_mean_squared_error: 0.7828 - val_loss: 0.5835 - val_root_mean_squared_error: 0.7639 - lr: 0.0010\n",
      "Epoch 10/30\n",
      "3064/3064 [==============================] - 3s 993us/step - loss: 0.6014 - root_mean_squared_error: 0.7755 - val_loss: 0.6084 - val_root_mean_squared_error: 0.7800 - lr: 0.0010\n",
      "Epoch 11/30\n",
      "3064/3064 [==============================] - 3s 875us/step - loss: 0.5073 - root_mean_squared_error: 0.7122 - val_loss: 0.5240 - val_root_mean_squared_error: 0.7238 - lr: 1.0000e-04\n",
      "Epoch 12/30\n",
      "3064/3064 [==============================] - 3s 889us/step - loss: 0.5010 - root_mean_squared_error: 0.7078 - val_loss: 0.5214 - val_root_mean_squared_error: 0.7220 - lr: 1.0000e-04\n",
      "Epoch 13/30\n",
      "3064/3064 [==============================] - 3s 914us/step - loss: 0.4986 - root_mean_squared_error: 0.7061 - val_loss: 0.5198 - val_root_mean_squared_error: 0.7210 - lr: 1.0000e-04\n",
      "Epoch 14/30\n",
      "3064/3064 [==============================] - 3s 870us/step - loss: 0.4970 - root_mean_squared_error: 0.7050 - val_loss: 0.5233 - val_root_mean_squared_error: 0.7234 - lr: 1.0000e-04\n",
      "Epoch 15/30\n",
      "3064/3064 [==============================] - 3s 874us/step - loss: 0.4950 - root_mean_squared_error: 0.7036 - val_loss: 0.5193 - val_root_mean_squared_error: 0.7206 - lr: 1.0000e-04\n",
      "Epoch 16/30\n",
      "3064/3064 [==============================] - 3s 898us/step - loss: 0.4936 - root_mean_squared_error: 0.7026 - val_loss: 0.5301 - val_root_mean_squared_error: 0.7281 - lr: 1.0000e-04\n",
      "Epoch 17/30\n",
      "3064/3064 [==============================] - 3s 842us/step - loss: 0.4931 - root_mean_squared_error: 0.7022 - val_loss: 0.5179 - val_root_mean_squared_error: 0.7197 - lr: 1.0000e-04\n",
      "Epoch 18/30\n",
      "3064/3064 [==============================] - 3s 839us/step - loss: 0.4921 - root_mean_squared_error: 0.7015 - val_loss: 0.5177 - val_root_mean_squared_error: 0.7195 - lr: 1.0000e-04\n",
      "Epoch 19/30\n",
      "3064/3064 [==============================] - 3s 843us/step - loss: 0.4909 - root_mean_squared_error: 0.7007 - val_loss: 0.5202 - val_root_mean_squared_error: 0.7213 - lr: 1.0000e-04\n",
      "Epoch 20/30\n",
      "3064/3064 [==============================] - 3s 851us/step - loss: 0.4896 - root_mean_squared_error: 0.6997 - val_loss: 0.5184 - val_root_mean_squared_error: 0.7200 - lr: 1.0000e-04\n",
      "Epoch 21/30\n",
      "3064/3064 [==============================] - 3s 864us/step - loss: 0.4794 - root_mean_squared_error: 0.6924 - val_loss: 0.5119 - val_root_mean_squared_error: 0.7154 - lr: 1.0000e-05\n",
      "Epoch 22/30\n",
      "3064/3064 [==============================] - 3s 851us/step - loss: 0.4780 - root_mean_squared_error: 0.6914 - val_loss: 0.5122 - val_root_mean_squared_error: 0.7157 - lr: 1.0000e-05\n",
      "Epoch 23/30\n",
      "3064/3064 [==============================] - 3s 856us/step - loss: 0.4778 - root_mean_squared_error: 0.6912 - val_loss: 0.5118 - val_root_mean_squared_error: 0.7154 - lr: 1.0000e-05\n",
      "Epoch 24/30\n",
      "3064/3064 [==============================] - 3s 858us/step - loss: 0.4776 - root_mean_squared_error: 0.6911 - val_loss: 0.5118 - val_root_mean_squared_error: 0.7154 - lr: 1.0000e-05\n",
      "Epoch 25/30\n",
      "3064/3064 [==============================] - 3s 853us/step - loss: 0.4774 - root_mean_squared_error: 0.6910 - val_loss: 0.5115 - val_root_mean_squared_error: 0.7152 - lr: 1.0000e-05\n",
      "Epoch 26/30\n",
      "3064/3064 [==============================] - 3s 850us/step - loss: 0.4774 - root_mean_squared_error: 0.6909 - val_loss: 0.5117 - val_root_mean_squared_error: 0.7153 - lr: 1.0000e-05\n",
      "Epoch 27/30\n",
      "3064/3064 [==============================] - 3s 852us/step - loss: 0.4772 - root_mean_squared_error: 0.6908 - val_loss: 0.5114 - val_root_mean_squared_error: 0.7151 - lr: 1.0000e-05\n",
      "Epoch 28/30\n",
      "3064/3064 [==============================] - 3s 855us/step - loss: 0.4770 - root_mean_squared_error: 0.6907 - val_loss: 0.5116 - val_root_mean_squared_error: 0.7153 - lr: 1.0000e-05\n",
      "Epoch 29/30\n",
      "3064/3064 [==============================] - 3s 841us/step - loss: 0.4769 - root_mean_squared_error: 0.6906 - val_loss: 0.5111 - val_root_mean_squared_error: 0.7149 - lr: 1.0000e-05\n",
      "Epoch 30/30\n",
      "3064/3064 [==============================] - 3s 869us/step - loss: 0.4768 - root_mean_squared_error: 0.6905 - val_loss: 0.5115 - val_root_mean_squared_error: 0.7152 - lr: 1.0000e-05\n"
     ]
    }
   ],
   "source": [
    "# Training\n",
    "hist= dnn_model.fit(dataset_train,\n",
    "                    epochs=30,\n",
    "                    validation_data=dataset_val,\n",
    "                    callbacks=[es_callback,lrs_callback])"
   ]
  },
  {
   "cell_type": "code",
   "execution_count": 10,
   "metadata": {},
   "outputs": [
    {
     "name": "stdout",
     "output_type": "stream",
     "text": [
      "436/436 [==============================] - 1s 2ms/step - loss: 0.5025 - root_mean_squared_error: 0.7089\n",
      "T (degC)    0.090321\n",
      "dtype: float64\n"
     ]
    }
   ],
   "source": [
    "# Evaluate normalized RMSE\n",
    "eval_rmse = dnn_model.evaluate(dataset_test)[1]\n",
    "eval_nrmse = eval_rmse/y_test.std()\n",
    "print(eval_nrmse)"
   ]
  },
  {
   "cell_type": "markdown",
   "metadata": {},
   "source": [
    "## LSTM model"
   ]
  },
  {
   "cell_type": "code",
   "execution_count": 11,
   "metadata": {},
   "outputs": [],
   "source": [
    "from tensorflow.keras.models import Model\n",
    "from tensorflow.keras.layers import Input, Flatten, Dense,LSTM\n",
    "from tensorflow.keras.optimizers import Adam\n",
    "from tensorflow.keras.callbacks import EarlyStopping\n",
    "from tensorflow.keras.callbacks import LearningRateScheduler"
   ]
  },
  {
   "cell_type": "code",
   "execution_count": 12,
   "metadata": {},
   "outputs": [
    {
     "name": "stdout",
     "output_type": "stream",
     "text": [
      "Model: \"model_1\"\n",
      "_________________________________________________________________\n",
      " Layer (type)                Output Shape              Param #   \n",
      "=================================================================\n",
      " input_2 (InputLayer)        [(None, 24, 14)]          0         \n",
      "                                                                 \n",
      " lstm (LSTM)                 (None, 24, 32)            6016      \n",
      "                                                                 \n",
      " lstm_1 (LSTM)               (None, 32)                8320      \n",
      "                                                                 \n",
      " dense_2 (Dense)             (None, 1)                 33        \n",
      "                                                                 \n",
      "=================================================================\n",
      "Total params: 14,369\n",
      "Trainable params: 14,369\n",
      "Non-trainable params: 0\n",
      "_________________________________________________________________\n"
     ]
    }
   ],
   "source": [
    "# LSTM model construction\n",
    "inputs = Input(shape=(T,14))\n",
    "x = LSTM(units=32,return_sequences=True)(inputs)\n",
    "x = LSTM(units=32)(x)\n",
    "outputs=Dense(units=1)(x)\n",
    "rnn_model = Model(inputs=inputs, outputs=outputs)\n",
    "rnn_model.summary()"
   ]
  },
  {
   "cell_type": "code",
   "execution_count": 13,
   "metadata": {},
   "outputs": [],
   "source": [
    "# Early stopping & learning rate decay\n",
    "es_callback = EarlyStopping(monitor='val_loss',patience=10)\n",
    "def scheduler(epoch,lr):\n",
    "    if epoch in [10,20,30]: lr = 0.1*lr\n",
    "    return lr\n",
    "lrs_callback = LearningRateScheduler(scheduler)"
   ]
  },
  {
   "cell_type": "code",
   "execution_count": 14,
   "metadata": {},
   "outputs": [],
   "source": [
    "# Optimizer\n",
    "opt = Adam(learning_rate=0.001,\n",
    "          beta_1=0.9,\n",
    "          beta_2=0.999)"
   ]
  },
  {
   "cell_type": "code",
   "execution_count": 15,
   "metadata": {},
   "outputs": [],
   "source": [
    "# Compile\n",
    "from tensorflow.keras.metrics import RootMeanSquaredError\n",
    "rnn_model.compile(loss='mean_squared_error',\n",
    "                 metrics=RootMeanSquaredError(),\n",
    "                 optimizer=opt)"
   ]
  },
  {
   "cell_type": "code",
   "execution_count": 16,
   "metadata": {},
   "outputs": [
    {
     "name": "stdout",
     "output_type": "stream",
     "text": [
      "Epoch 1/30\n",
      "3064/3064 [==============================] - 24s 7ms/step - loss: 6.6823 - root_mean_squared_error: 2.5850 - val_loss: 0.7572 - val_root_mean_squared_error: 0.8702 - lr: 0.0010\n",
      "Epoch 2/30\n",
      "3064/3064 [==============================] - 23s 8ms/step - loss: 0.6300 - root_mean_squared_error: 0.7937 - val_loss: 0.6232 - val_root_mean_squared_error: 0.7894 - lr: 0.0010\n",
      "Epoch 3/30\n",
      "3064/3064 [==============================] - 22s 7ms/step - loss: 0.5689 - root_mean_squared_error: 0.7543 - val_loss: 0.5895 - val_root_mean_squared_error: 0.7678 - lr: 0.0010\n",
      "Epoch 4/30\n",
      "3064/3064 [==============================] - 23s 7ms/step - loss: 0.5463 - root_mean_squared_error: 0.7391 - val_loss: 0.5241 - val_root_mean_squared_error: 0.7240 - lr: 0.0010\n",
      "Epoch 5/30\n",
      "3064/3064 [==============================] - 25s 8ms/step - loss: 0.5346 - root_mean_squared_error: 0.7312 - val_loss: 0.5481 - val_root_mean_squared_error: 0.7403 - lr: 0.0010\n",
      "Epoch 6/30\n",
      "3064/3064 [==============================] - 24s 8ms/step - loss: 0.5238 - root_mean_squared_error: 0.7237 - val_loss: 0.4837 - val_root_mean_squared_error: 0.6955 - lr: 0.0010\n",
      "Epoch 7/30\n",
      "3064/3064 [==============================] - 24s 8ms/step - loss: 0.5129 - root_mean_squared_error: 0.7162 - val_loss: 0.5029 - val_root_mean_squared_error: 0.7092 - lr: 0.0010\n",
      "Epoch 8/30\n",
      "3064/3064 [==============================] - 23s 8ms/step - loss: 0.5085 - root_mean_squared_error: 0.7131 - val_loss: 0.4857 - val_root_mean_squared_error: 0.6969 - lr: 0.0010\n",
      "Epoch 9/30\n",
      "3064/3064 [==============================] - 23s 7ms/step - loss: 0.5010 - root_mean_squared_error: 0.7078 - val_loss: 0.5033 - val_root_mean_squared_error: 0.7094 - lr: 0.0010\n",
      "Epoch 10/30\n",
      "3064/3064 [==============================] - 23s 8ms/step - loss: 0.4959 - root_mean_squared_error: 0.7042 - val_loss: 0.4870 - val_root_mean_squared_error: 0.6979 - lr: 0.0010\n",
      "Epoch 11/30\n",
      "3064/3064 [==============================] - 24s 8ms/step - loss: 0.4513 - root_mean_squared_error: 0.6718 - val_loss: 0.4524 - val_root_mean_squared_error: 0.6726 - lr: 1.0000e-04\n",
      "Epoch 12/30\n",
      "3064/3064 [==============================] - 25s 8ms/step - loss: 0.4462 - root_mean_squared_error: 0.6680 - val_loss: 0.4513 - val_root_mean_squared_error: 0.6718 - lr: 1.0000e-04\n",
      "Epoch 13/30\n",
      "3064/3064 [==============================] - 24s 8ms/step - loss: 0.4441 - root_mean_squared_error: 0.6664 - val_loss: 0.4508 - val_root_mean_squared_error: 0.6714 - lr: 1.0000e-04\n",
      "Epoch 14/30\n",
      "3064/3064 [==============================] - 23s 8ms/step - loss: 0.4426 - root_mean_squared_error: 0.6653 - val_loss: 0.4501 - val_root_mean_squared_error: 0.6709 - lr: 1.0000e-04\n",
      "Epoch 15/30\n",
      "3064/3064 [==============================] - 27s 9ms/step - loss: 0.4417 - root_mean_squared_error: 0.6646 - val_loss: 0.4501 - val_root_mean_squared_error: 0.6709 - lr: 1.0000e-04\n",
      "Epoch 16/30\n",
      "3064/3064 [==============================] - 25s 8ms/step - loss: 0.4407 - root_mean_squared_error: 0.6639 - val_loss: 0.4503 - val_root_mean_squared_error: 0.6710 - lr: 1.0000e-04\n",
      "Epoch 17/30\n",
      "3064/3064 [==============================] - 24s 8ms/step - loss: 0.4397 - root_mean_squared_error: 0.6631 - val_loss: 0.4494 - val_root_mean_squared_error: 0.6703 - lr: 1.0000e-04\n",
      "Epoch 18/30\n",
      "3064/3064 [==============================] - 25s 8ms/step - loss: 0.4390 - root_mean_squared_error: 0.6626 - val_loss: 0.4498 - val_root_mean_squared_error: 0.6707 - lr: 1.0000e-04\n",
      "Epoch 19/30\n",
      "3064/3064 [==============================] - 24s 8ms/step - loss: 0.4384 - root_mean_squared_error: 0.6621 - val_loss: 0.4498 - val_root_mean_squared_error: 0.6707 - lr: 1.0000e-04\n",
      "Epoch 20/30\n",
      "3064/3064 [==============================] - 25s 8ms/step - loss: 0.4377 - root_mean_squared_error: 0.6616 - val_loss: 0.4500 - val_root_mean_squared_error: 0.6708 - lr: 1.0000e-04\n",
      "Epoch 21/30\n",
      "3064/3064 [==============================] - 23s 8ms/step - loss: 0.4325 - root_mean_squared_error: 0.6576 - val_loss: 0.4487 - val_root_mean_squared_error: 0.6698 - lr: 1.0000e-05\n",
      "Epoch 22/30\n",
      "3064/3064 [==============================] - 23s 8ms/step - loss: 0.4316 - root_mean_squared_error: 0.6570 - val_loss: 0.4487 - val_root_mean_squared_error: 0.6698 - lr: 1.0000e-05\n",
      "Epoch 23/30\n",
      "3064/3064 [==============================] - 24s 8ms/step - loss: 0.4314 - root_mean_squared_error: 0.6568 - val_loss: 0.4487 - val_root_mean_squared_error: 0.6698 - lr: 1.0000e-05\n",
      "Epoch 24/30\n",
      "3064/3064 [==============================] - 23s 8ms/step - loss: 0.4312 - root_mean_squared_error: 0.6567 - val_loss: 0.4487 - val_root_mean_squared_error: 0.6698 - lr: 1.0000e-05\n",
      "Epoch 25/30\n",
      "3064/3064 [==============================] - 23s 8ms/step - loss: 0.4311 - root_mean_squared_error: 0.6566 - val_loss: 0.4487 - val_root_mean_squared_error: 0.6699 - lr: 1.0000e-05\n",
      "Epoch 26/30\n",
      "3064/3064 [==============================] - 24s 8ms/step - loss: 0.4310 - root_mean_squared_error: 0.6565 - val_loss: 0.4488 - val_root_mean_squared_error: 0.6699 - lr: 1.0000e-05\n",
      "Epoch 27/30\n",
      "3064/3064 [==============================] - 25s 8ms/step - loss: 0.4309 - root_mean_squared_error: 0.6564 - val_loss: 0.4487 - val_root_mean_squared_error: 0.6699 - lr: 1.0000e-05\n",
      "Epoch 28/30\n",
      "3064/3064 [==============================] - 24s 8ms/step - loss: 0.4308 - root_mean_squared_error: 0.6564 - val_loss: 0.4488 - val_root_mean_squared_error: 0.6699 - lr: 1.0000e-05\n",
      "Epoch 29/30\n",
      "3064/3064 [==============================] - 25s 8ms/step - loss: 0.4307 - root_mean_squared_error: 0.6563 - val_loss: 0.4488 - val_root_mean_squared_error: 0.6699 - lr: 1.0000e-05\n",
      "Epoch 30/30\n",
      "3064/3064 [==============================] - 26s 8ms/step - loss: 0.4306 - root_mean_squared_error: 0.6562 - val_loss: 0.4488 - val_root_mean_squared_error: 0.6699 - lr: 1.0000e-05\n"
     ]
    }
   ],
   "source": [
    "# Training\n",
    "history = rnn_model.fit(dataset_train,\n",
    "                    epochs=30,\n",
    "                    validation_data=dataset_val,\n",
    "                    callbacks=[es_callback,lrs_callback])"
   ]
  },
  {
   "cell_type": "code",
   "execution_count": 34,
   "metadata": {},
   "outputs": [
    {
     "name": "stdout",
     "output_type": "stream",
     "text": [
      "436/436 [==============================] - 1s 3ms/step - loss: 0.4410 - root_mean_squared_error: 0.6640\n",
      "T (degC)    0.084609\n",
      "dtype: float64\n"
     ]
    }
   ],
   "source": [
    "# Evaluate normalized RMSE\n",
    "eval_rmse = rnn_model.evaluate(dataset_test)[1]\n",
    "eval_nrmse = eval_rmse/y_test.std()\n",
    "print(eval_nrmse)"
   ]
  },
  {
   "cell_type": "code",
   "execution_count": 35,
   "metadata": {
    "colab": {
     "base_uri": "https://localhost:8080/",
     "height": 229
    },
    "id": "vJriJM4cfLV2",
    "outputId": "c9552277-c8ee-4b73-8cee-23031ac460e1"
   },
   "outputs": [
    {
     "data": {
      "text/plain": [
       "<matplotlib.legend.Legend at 0x1511526fd30>"
      ]
     },
     "execution_count": 35,
     "metadata": {},
     "output_type": "execute_result"
    },
    {
     "data": {
      "image/png": "[encoded data removed]",
      "text/plain": [
       "<Figure size 1500x450 with 1 Axes>"
      ]
     },
     "metadata": {
      "needs_background": "light"
     },
     "output_type": "display_data"
    }
   ],
   "source": [
    "import matplotlib.pyplot as plt\n",
    "\n",
    "plt.figure(figsize=(10,3), dpi=150)\n",
    "plt.plot(y_test[T:100+T].values)\n",
    "estimated = rnn_model.predict(dataset_test)\n",
    "plt.plot(estimated[:100])\n",
    "plt.legend(['Ground truth', 'Estimate'])"
   ]
  },
  {
   "cell_type": "code",
   "execution_count": null,
   "metadata": {},
   "outputs": [],
   "source": []
  }
 ],
 "metadata": {
  "accelerator": "GPU",
  "colab": {
   "collapsed_sections": [],
   "name": "GP2.ipynb",
   "provenance": []
  },
  "kernelspec": {
   "display_name": "Python 3 (ipykernel)",
   "language": "python",
   "name": "python3"
  },
  "language_info": {
   "codemirror_mode": {
    "name": "ipython",
    "version": 3
   },
   "file_extension": ".py",
   "mimetype": "text/x-python",
   "name": "python",
   "nbconvert_exporter": "python",
   "pygments_lexer": "ipython3",
   "version": "3.9.12"
  }
 },
 "nbformat": 4,
 "nbformat_minor": 1
}
