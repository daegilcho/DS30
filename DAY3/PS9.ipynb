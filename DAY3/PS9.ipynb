{
 "cells": [
  {
   "cell_type": "markdown",
   "metadata": {},
   "source": [
    "# Simplifed ResNet implementation"
   ]
  },
  {
   "cell_type": "markdown",
   "metadata": {},
   "source": [
    "## Loading CIFAR10 "
   ]
  },
  {
   "cell_type": "code",
   "execution_count": 1,
   "metadata": {
    "id": "sZB1c8YXDuJA"
   },
   "outputs": [],
   "source": [
    "import tensorflow as tf\n",
    "import tensorflow.keras as keras"
   ]
  },
  {
   "cell_type": "code",
   "execution_count": 2,
   "metadata": {
    "id": "0CMsmhSYENFu"
   },
   "outputs": [],
   "source": [
    "from tensorflow.keras.datasets import cifar10\n",
    "\n",
    "(X_train, y_train), (X_test, y_test) = cifar10.load_data()"
   ]
  },
  {
   "cell_type": "code",
   "execution_count": 3,
   "metadata": {
    "scrolled": true
   },
   "outputs": [
    {
     "name": "stdout",
     "output_type": "stream",
     "text": [
      "(50000, 32, 32, 3)\n",
      "(10000, 32, 32, 3)\n",
      "(50000, 1)\n",
      "(10000, 1)\n"
     ]
    }
   ],
   "source": [
    "print(X_train.shape)\n",
    "print(X_test.shape)\n",
    "print(y_train.shape)\n",
    "print(y_test.shape)"
   ]
  },
  {
   "cell_type": "code",
   "execution_count": 4,
   "metadata": {
    "id": "7pi4tux_Ez7v"
   },
   "outputs": [],
   "source": [
    "# normalization\n",
    "X_train, X_test = X_train/255.0, X_test/255.0"
   ]
  },
  {
   "cell_type": "markdown",
   "metadata": {},
   "source": [
    "## Construct Resnet"
   ]
  },
  {
   "cell_type": "code",
   "execution_count": 5,
   "metadata": {
    "id": "MIKf4Id3L18x"
   },
   "outputs": [],
   "source": [
    "from tensorflow.keras.models import Model\n",
    "from tensorflow.keras.layers import Input\n",
    "from tensorflow.keras.layers import BatchNormalization\n",
    "from tensorflow.keras.layers import ReLU\n",
    "from tensorflow.keras.layers import Conv2D, MaxPool2D\n",
    "from tensorflow.keras.layers import Add, AveragePooling2D \n",
    "from tensorflow.keras.layers import Flatten\n",
    "from tensorflow.keras.layers import Dense"
   ]
  },
  {
   "cell_type": "code",
   "execution_count": 6,
   "metadata": {
    "colab": {
     "base_uri": "https://localhost:8080/"
    },
    "id": "5s7NcgBwL1_w",
    "outputId": "e192b59d-ca9f-4eac-c1b2-754670301525"
   },
   "outputs": [
    {
     "name": "stdout",
     "output_type": "stream",
     "text": [
      "Model: \"model\"\n",
      "__________________________________________________________________________________________________\n",
      " Layer (type)                   Output Shape         Param #     Connected to                     \n",
      "==================================================================================================\n",
      " input_1 (InputLayer)           [(None, 32, 32, 3)]  0           []                               \n",
      "                                                                                                  \n",
      " conv2d (Conv2D)                (None, 32, 32, 32)   864         ['input_1[0][0]']                \n",
      "                                                                                                  \n",
      " batch_normalization (BatchNorm  (None, 32, 32, 32)  128         ['conv2d[0][0]']                 \n",
      " alization)                                                                                       \n",
      "                                                                                                  \n",
      " re_lu (ReLU)                   (None, 32, 32, 32)   0           ['batch_normalization[0][0]']    \n",
      "                                                                                                  \n",
      " conv2d_1 (Conv2D)              (None, 32, 32, 32)   9216        ['re_lu[0][0]']                  \n",
      "                                                                                                  \n",
      " batch_normalization_1 (BatchNo  (None, 32, 32, 32)  128         ['conv2d_1[0][0]']               \n",
      " rmalization)                                                                                     \n",
      "                                                                                                  \n",
      " re_lu_1 (ReLU)                 (None, 32, 32, 32)   0           ['batch_normalization_1[0][0]']  \n",
      "                                                                                                  \n",
      " max_pooling2d (MaxPooling2D)   (None, 16, 16, 32)   0           ['re_lu_1[0][0]']                \n",
      "                                                                                                  \n",
      " conv2d_2 (Conv2D)              (None, 16, 16, 64)   18432       ['max_pooling2d[0][0]']          \n",
      "                                                                                                  \n",
      " batch_normalization_2 (BatchNo  (None, 16, 16, 64)  256         ['conv2d_2[0][0]']               \n",
      " rmalization)                                                                                     \n",
      "                                                                                                  \n",
      " re_lu_2 (ReLU)                 (None, 16, 16, 64)   0           ['batch_normalization_2[0][0]']  \n",
      "                                                                                                  \n",
      " conv2d_3 (Conv2D)              (None, 16, 16, 64)   36864       ['re_lu_2[0][0]']                \n",
      "                                                                                                  \n",
      " batch_normalization_3 (BatchNo  (None, 16, 16, 64)  256         ['conv2d_3[0][0]']               \n",
      " rmalization)                                                                                     \n",
      "                                                                                                  \n",
      " re_lu_3 (ReLU)                 (None, 16, 16, 64)   0           ['batch_normalization_3[0][0]']  \n",
      "                                                                                                  \n",
      " conv2d_4 (Conv2D)              (None, 16, 16, 64)   36864       ['re_lu_3[0][0]']                \n",
      "                                                                                                  \n",
      " batch_normalization_4 (BatchNo  (None, 16, 16, 64)  256         ['conv2d_4[0][0]']               \n",
      " rmalization)                                                                                     \n",
      "                                                                                                  \n",
      " add (Add)                      (None, 16, 16, 64)   0           ['batch_normalization_4[0][0]',  \n",
      "                                                                  're_lu_2[0][0]']                \n",
      "                                                                                                  \n",
      " re_lu_4 (ReLU)                 (None, 16, 16, 64)   0           ['add[0][0]']                    \n",
      "                                                                                                  \n",
      " max_pooling2d_1 (MaxPooling2D)  (None, 8, 8, 64)    0           ['re_lu_4[0][0]']                \n",
      "                                                                                                  \n",
      " conv2d_5 (Conv2D)              (None, 8, 8, 128)    73728       ['max_pooling2d_1[0][0]']        \n",
      "                                                                                                  \n",
      " batch_normalization_5 (BatchNo  (None, 8, 8, 128)   512         ['conv2d_5[0][0]']               \n",
      " rmalization)                                                                                     \n",
      "                                                                                                  \n",
      " re_lu_5 (ReLU)                 (None, 8, 8, 128)    0           ['batch_normalization_5[0][0]']  \n",
      "                                                                                                  \n",
      " conv2d_6 (Conv2D)              (None, 8, 8, 128)    147456      ['re_lu_5[0][0]']                \n",
      "                                                                                                  \n",
      " batch_normalization_6 (BatchNo  (None, 8, 8, 128)   512         ['conv2d_6[0][0]']               \n",
      " rmalization)                                                                                     \n",
      "                                                                                                  \n",
      " re_lu_6 (ReLU)                 (None, 8, 8, 128)    0           ['batch_normalization_6[0][0]']  \n",
      "                                                                                                  \n",
      " conv2d_7 (Conv2D)              (None, 8, 8, 128)    147456      ['re_lu_6[0][0]']                \n",
      "                                                                                                  \n",
      " batch_normalization_7 (BatchNo  (None, 8, 8, 128)   512         ['conv2d_7[0][0]']               \n",
      " rmalization)                                                                                     \n",
      "                                                                                                  \n",
      " add_1 (Add)                    (None, 8, 8, 128)    0           ['batch_normalization_7[0][0]',  \n",
      "                                                                  're_lu_5[0][0]']                \n",
      "                                                                                                  \n",
      " re_lu_7 (ReLU)                 (None, 8, 8, 128)    0           ['add_1[0][0]']                  \n",
      "                                                                                                  \n",
      " average_pooling2d (AveragePool  (None, 1, 1, 128)   0           ['re_lu_7[0][0]']                \n",
      " ing2D)                                                                                           \n",
      "                                                                                                  \n",
      " flatten (Flatten)              (None, 128)          0           ['average_pooling2d[0][0]']      \n",
      "                                                                                                  \n",
      " re_lu_8 (ReLU)                 (None, 128)          0           ['flatten[0][0]']                \n",
      "                                                                                                  \n",
      " dense (Dense)                  (None, 10)           1290        ['re_lu_8[0][0]']                \n",
      "                                                                                                  \n",
      "==================================================================================================\n",
      "Total params: 474,730\n",
      "Trainable params: 473,450\n",
      "Non-trainable params: 1,280\n",
      "__________________________________________________________________________________________________\n"
     ]
    }
   ],
   "source": [
    "inputs = Input(shape=(32,32,3))\n",
    "x = Conv2D(32, kernel_size=(3,3), strides=(1,1), \n",
    "           padding='same', use_bias=False)(inputs)\n",
    "x = BatchNormalization()(x)\n",
    "x = ReLU()(x)\n",
    "\n",
    "x = Conv2D(32, kernel_size=(3,3), strides=(1,1),\n",
    "           padding='same', use_bias=False)(x)\n",
    "x = BatchNormalization()(x)\n",
    "x = ReLU()(x)\n",
    "\n",
    "x = MaxPool2D(pool_size=(2,2), strides=(2,2),\n",
    "              padding='valid')(x)\n",
    "x = Conv2D(64, kernel_size=(3,3), strides=(1,1),\n",
    "           padding='same', use_bias=False)(x)\n",
    "x = BatchNormalization()(x)\n",
    "x = ReLU()(x)\n",
    "\n",
    "# 1st skip connection\n",
    "skip = x\n",
    "x = Conv2D(64, kernel_size=(3,3), strides=(1,1),\n",
    "           padding='same', use_bias=False)(x)\n",
    "x = BatchNormalization()(x)\n",
    "x = ReLU()(x)\n",
    "x = Conv2D(64, kernel_size=(3,3), strides=(1,1),\n",
    "           padding='same', use_bias=False)(x)\n",
    "x = BatchNormalization()(x)\n",
    "\n",
    "x = Add()([x, skip])\n",
    "x = ReLU()(x)\n",
    "\n",
    "x = MaxPool2D(pool_size=(2,2), strides=(2,2),\n",
    "              padding='valid')(x)\n",
    "x = Conv2D(128, kernel_size=(3,3), strides=(1,1),\n",
    "           padding='same', use_bias=False)(x)\n",
    "x = BatchNormalization()(x)\n",
    "x = ReLU()(x)\n",
    "\n",
    "# 2nd skip connection\n",
    "skip = x\n",
    "x = Conv2D(128, kernel_size=(3,3), strides=(1,1),\n",
    "           padding='same', use_bias=False)(x)\n",
    "x = BatchNormalization()(x)\n",
    "x = ReLU()(x)\n",
    "x = Conv2D(128, kernel_size=(3,3), strides=(1,1),\n",
    "           padding='same', use_bias=False)(x)\n",
    "x = BatchNormalization()(x)\n",
    "\n",
    "x = Add()([x, skip])\n",
    "x = ReLU()(x)\n",
    "\n",
    "# Average Pooling\n",
    "x = AveragePooling2D(pool_size=(8,8))(x)\n",
    "x = Flatten()(x)\n",
    "x = ReLU()(x)\n",
    "outputs = Dense(10, activation='softmax')(x)\n",
    "\n",
    "Model_resnet = Model(inputs = inputs, outputs = outputs)\n",
    "\n",
    "Model_resnet.summary()\n"
   ]
  },
  {
   "cell_type": "markdown",
   "metadata": {},
   "source": [
    "## Compile"
   ]
  },
  {
   "cell_type": "code",
   "execution_count": 7,
   "metadata": {
    "id": "pPzHa2_nL2FJ"
   },
   "outputs": [],
   "source": [
    "from tensorflow.keras.optimizers import Adam\n",
    "\n",
    "opt = Adam(learning_rate = 0.001,\n",
    "          beta_1 = 0.9,\n",
    "          beta_2 = 0.999)\n",
    "\n",
    "Model_resnet.compile(optimizer = opt,\n",
    "                    loss='sparse_categorical_crossentropy',\n",
    "                    metrics=['acc'])"
   ]
  },
  {
   "cell_type": "code",
   "execution_count": 8,
   "metadata": {
    "colab": {
     "base_uri": "https://localhost:8080/"
    },
    "id": "H7Qu87p0L2Lq",
    "outputId": "195eaf0c-7ae5-4940-9196-fce269707edf"
   },
   "outputs": [
    {
     "name": "stdout",
     "output_type": "stream",
     "text": [
      "Epoch 1/20\n",
      "1563/1563 [==============================] - 167s 106ms/step - loss: 1.1841 - acc: 0.5765\n",
      "Epoch 2/20\n",
      "1563/1563 [==============================] - 165s 106ms/step - loss: 0.7682 - acc: 0.7334\n",
      "Epoch 3/20\n",
      "1563/1563 [==============================] - 156s 100ms/step - loss: 0.6131 - acc: 0.7877\n",
      "Epoch 4/20\n",
      "1563/1563 [==============================] - 158s 101ms/step - loss: 0.5165 - acc: 0.8221\n",
      "Epoch 5/20\n",
      "1563/1563 [==============================] - 159s 102ms/step - loss: 0.4438 - acc: 0.8481\n",
      "Epoch 6/20\n",
      "1563/1563 [==============================] - 159s 102ms/step - loss: 0.3821 - acc: 0.8667\n",
      "Epoch 7/20\n",
      "1563/1563 [==============================] - 175s 112ms/step - loss: 0.3312 - acc: 0.8855\n",
      "Epoch 8/20\n",
      "1563/1563 [==============================] - 184s 118ms/step - loss: 0.2840 - acc: 0.9001\n",
      "Epoch 9/20\n",
      "1563/1563 [==============================] - 181s 116ms/step - loss: 0.2387 - acc: 0.9168\n",
      "Epoch 10/20\n",
      "1563/1563 [==============================] - 182s 116ms/step - loss: 0.2043 - acc: 0.9291\n",
      "Epoch 11/20\n",
      "1563/1563 [==============================] - 183s 117ms/step - loss: 0.1725 - acc: 0.9375\n",
      "Epoch 12/20\n",
      "1563/1563 [==============================] - 183s 117ms/step - loss: 0.1501 - acc: 0.9466\n",
      "Epoch 13/20\n",
      "1563/1563 [==============================] - 190s 122ms/step - loss: 0.1279 - acc: 0.9553\n",
      "Epoch 14/20\n",
      "1563/1563 [==============================] - 180s 115ms/step - loss: 0.1181 - acc: 0.9580\n",
      "Epoch 15/20\n",
      "1563/1563 [==============================] - 182s 117ms/step - loss: 0.0978 - acc: 0.9647\n",
      "Epoch 16/20\n",
      "1563/1563 [==============================] - 182s 116ms/step - loss: 0.0960 - acc: 0.9664\n",
      "Epoch 17/20\n",
      "1563/1563 [==============================] - 182s 117ms/step - loss: 0.0860 - acc: 0.9693\n",
      "Epoch 18/20\n",
      "1563/1563 [==============================] - 193s 123ms/step - loss: 0.0757 - acc: 0.9731\n",
      "Epoch 19/20\n",
      "1563/1563 [==============================] - 188s 120ms/step - loss: 0.0737 - acc: 0.9736\n",
      "Epoch 20/20\n",
      "1563/1563 [==============================] - 181s 116ms/step - loss: 0.0678 - acc: 0.9767\n"
     ]
    },
    {
     "data": {
      "text/plain": [
       "<keras.callbacks.History at 0x18e9b520880>"
      ]
     },
     "execution_count": 8,
     "metadata": {},
     "output_type": "execute_result"
    }
   ],
   "source": [
    "# training \n",
    "Model_resnet.fit(X_train,y_train,epochs=20)"
   ]
  },
  {
   "cell_type": "code",
   "execution_count": 24,
   "metadata": {
    "colab": {
     "base_uri": "https://localhost:8080/"
    },
    "id": "NqS62hhBYWoX",
    "outputId": "6db9e7cf-812c-4c67-9cf6-a245f5453a01"
   },
   "outputs": [
    {
     "name": "stdout",
     "output_type": "stream",
     "text": [
      "313/313 [==============================] - 5s 16ms/step - loss: 0.8323 - acc: 0.8139\n",
      "[0.8322671055793762, 0.8138999938964844]\n"
     ]
    }
   ],
   "source": [
    "# Evaluation\n",
    "test_performance = Model_resnet.evaluate(X_test,y_test)\n",
    "print(test_performance)"
   ]
  }
 ],
 "metadata": {
  "accelerator": "GPU",
  "colab": {
   "collapsed_sections": [],
   "name": "Untitled10.ipynb",
   "provenance": []
  },
  "kernelspec": {
   "display_name": "Python 3 (ipykernel)",
   "language": "python",
   "name": "python3"
  },
  "language_info": {
   "codemirror_mode": {
    "name": "ipython",
    "version": 3
   },
   "file_extension": ".py",
   "mimetype": "text/x-python",
   "name": "python",
   "nbconvert_exporter": "python",
   "pygments_lexer": "ipython3",
   "version": "3.9.7"
  }
 },
 "nbformat": 4,
 "nbformat_minor": 1
}
