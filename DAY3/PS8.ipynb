{
 "cells": [
  {
   "cell_type": "markdown",
   "metadata": {},
   "source": [
    "# Simplified AlexNet implementation"
   ]
  },
  {
   "cell_type": "markdown",
   "metadata": {},
   "source": [
    "## Loading CIFAR10 "
   ]
  },
  {
   "cell_type": "code",
   "execution_count": 10,
   "metadata": {
    "id": "sZB1c8YXDuJA"
   },
   "outputs": [],
   "source": [
    "import tensorflow as tf\n",
    "import tensorflow.keras as keras"
   ]
  },
  {
   "cell_type": "code",
   "execution_count": 11,
   "metadata": {
    "id": "0CMsmhSYENFu"
   },
   "outputs": [],
   "source": [
    "from tensorflow.keras.datasets import cifar10\n",
    "\n",
    "(X_train, y_train), (X_test, y_test) = cifar10.load_data()"
   ]
  },
  {
   "cell_type": "code",
   "execution_count": 12,
   "metadata": {
    "scrolled": true
   },
   "outputs": [
    {
     "name": "stdout",
     "output_type": "stream",
     "text": [
      "(50000, 32, 32, 3)\n",
      "(10000, 32, 32, 3)\n",
      "(50000, 1)\n",
      "(10000, 1)\n"
     ]
    }
   ],
   "source": [
    "print(X_train.shape)\n",
    "print(X_test.shape)\n",
    "print(y_train.shape)\n",
    "print(y_test.shape)"
   ]
  },
  {
   "cell_type": "code",
   "execution_count": 13,
   "metadata": {
    "id": "7pi4tux_Ez7v"
   },
   "outputs": [],
   "source": [
    "# normalization\n",
    "X_train, X_test = X_train/255.0, X_test/255.0"
   ]
  },
  {
   "cell_type": "markdown",
   "metadata": {},
   "source": [
    "## Data visualization"
   ]
  },
  {
   "cell_type": "code",
   "execution_count": 14,
   "metadata": {
    "colab": {
     "base_uri": "https://localhost:8080/",
     "height": 266
    },
    "id": "EJGGWfjlFDVZ",
    "outputId": "919ba90d-8d60-4357-e975-3d10ad69d185"
   },
   "outputs": [
    {
     "data": {
      "image/png": "[encoded data removed]",
      "text/plain": [
       "<Figure size 750x750 with 1 Axes>"
      ]
     },
     "metadata": {
      "needs_background": "light"
     },
     "output_type": "display_data"
    }
   ],
   "source": [
    "import matplotlib.pyplot as plt\n",
    "\n",
    "plt.figure(figsize=(5,5), dpi=150)\n",
    "plt.imshow(X_train[0])\n",
    "plt.axis('off')\n",
    "plt.show()"
   ]
  },
  {
   "cell_type": "markdown",
   "metadata": {},
   "source": [
    "## Data visualization with legend"
   ]
  },
  {
   "cell_type": "code",
   "execution_count": 6,
   "metadata": {},
   "outputs": [
    {
     "name": "stdout",
     "output_type": "stream",
     "text": [
      "[6]\n",
      "frog\n"
     ]
    },
    {
     "data": {
      "image/png": "[encoded data removed]",
      "text/plain": [
       "<Figure size 432x288 with 1 Axes>"
      ]
     },
     "metadata": {
      "needs_background": "light"
     },
     "output_type": "display_data"
    }
   ],
   "source": [
    "import matplotlib.pyplot as plt\n",
    "\n",
    "label_dict = {0: 'airplane', 1: 'automobile', 2: 'bird',\n",
    "              3: 'cat',      4: 'deer',       5: 'dog',\n",
    "              6: 'frog',     7: 'horse',      8: 'ship',\n",
    "              9: 'truck'}\n",
    "print(y_train[0])\n",
    "print(label_dict[6])\n",
    "plt.imshow(X_train[0])\n",
    "plt.title(label_dict[6])\n",
    "plt.show()"
   ]
  },
  {
   "cell_type": "markdown",
   "metadata": {},
   "source": [
    "## Construct a model"
   ]
  },
  {
   "cell_type": "code",
   "execution_count": 7,
   "metadata": {
    "colab": {
     "base_uri": "https://localhost:8080/"
    },
    "id": "ipPDSUPhFRki",
    "outputId": "14b0bdc3-d2d8-4981-b280-58901cc9347f"
   },
   "outputs": [
    {
     "name": "stdout",
     "output_type": "stream",
     "text": [
      "Model: \"sequential\"\n",
      "_________________________________________________________________\n",
      " Layer (type)                Output Shape              Param #   \n",
      "=================================================================\n",
      " conv2d (Conv2D)             (None, 32, 32, 48)        1344      \n",
      "                                                                 \n",
      " max_pooling2d (MaxPooling2D  (None, 16, 16, 48)       0         \n",
      " )                                                               \n",
      "                                                                 \n",
      " conv2d_1 (Conv2D)           (None, 16, 16, 96)        41568     \n",
      "                                                                 \n",
      " max_pooling2d_1 (MaxPooling  (None, 8, 8, 96)         0         \n",
      " 2D)                                                             \n",
      "                                                                 \n",
      " conv2d_2 (Conv2D)           (None, 8, 8, 192)         166080    \n",
      "                                                                 \n",
      " conv2d_3 (Conv2D)           (None, 8, 8, 192)         331968    \n",
      "                                                                 \n",
      " conv2d_4 (Conv2D)           (None, 8, 8, 256)         442624    \n",
      "                                                                 \n",
      " max_pooling2d_2 (MaxPooling  (None, 4, 4, 256)        0         \n",
      " 2D)                                                             \n",
      "                                                                 \n",
      " flatten (Flatten)           (None, 4096)              0         \n",
      "                                                                 \n",
      " dense (Dense)               (None, 512)               2097664   \n",
      "                                                                 \n",
      " dense_1 (Dense)             (None, 256)               131328    \n",
      "                                                                 \n",
      " dense_2 (Dense)             (None, 10)                2570      \n",
      "                                                                 \n",
      "=================================================================\n",
      "Total params: 3,215,146\n",
      "Trainable params: 3,215,146\n",
      "Non-trainable params: 0\n",
      "_________________________________________________________________\n"
     ]
    }
   ],
   "source": [
    "## Simplifed Alexnet\n",
    "\n",
    "from keras.models import Sequential\n",
    "from keras.layers import Flatten, Dense\n",
    "from keras.layers import Conv2D\n",
    "from keras.layers import MaxPool2D\n",
    "\n",
    "model_alexnet = Sequential()\n",
    "\n",
    "# 1st stack: [conv]+[ReLU]+[pool]\n",
    "model_alexnet.add(Conv2D(input_shape = (32,32,3),\n",
    "                         kernel_size = (3,3),\n",
    "                         strides=(1,1),\n",
    "                         filters=48,\n",
    "                         padding='same',\n",
    "                         activation='relu'))\n",
    "model_alexnet.add(MaxPool2D(pool_size = (2,2),\n",
    "                            strides = (2,2),\n",
    "                            padding = 'valid'))\n",
    "\n",
    "# 2nd stack: [conv]+[ReLU]+[pool]\n",
    "model_alexnet.add(Conv2D(kernel_size = (3,3),\n",
    "                         strides=(1,1),\n",
    "                         filters=96,\n",
    "                         padding='same',\n",
    "                         activation='relu'))\n",
    "model_alexnet.add(MaxPool2D(pool_size = (2,2),\n",
    "                            strides = (2,2),\n",
    "                            padding = 'valid'))\n",
    "\n",
    "# 3rd stack: [conv]+[ReLU]\n",
    "model_alexnet.add(Conv2D(kernel_size = (3,3),\n",
    "                         strides=(1,1),\n",
    "                         filters=192,\n",
    "                         padding='same',\n",
    "                         activation='relu'))\n",
    "\n",
    "# 4th stack: [conv]+[ReLU]\n",
    "model_alexnet.add(Conv2D(kernel_size = (3,3),\n",
    "                         strides=(1,1),\n",
    "                         filters=192,\n",
    "                         padding='same',\n",
    "                         activation='relu'))\n",
    "\n",
    "# 5th stack: [conv]+[ReLU]+[pool]\n",
    "model_alexnet.add(Conv2D(kernel_size = (3,3),\n",
    "                         strides=(1,1),\n",
    "                         filters=256,\n",
    "                         padding='same',\n",
    "                         activation='relu'))\n",
    "model_alexnet.add(MaxPool2D(pool_size = (2,2),\n",
    "                            strides = (2,2),\n",
    "                            padding = 'valid'))\n",
    "\n",
    "# 6th layer: 512 fully connected\n",
    "model_alexnet.add(Flatten())\n",
    "model_alexnet.add(Dense(512,activation='relu'))\n",
    "\n",
    "# 7th layer: 256 fully connected\n",
    "model_alexnet.add(Dense(256,activation='relu'))\n",
    "\n",
    "# 8th layer: 10 output\n",
    "model_alexnet.add(Dense(10,activation='softmax'))\n",
    "\n",
    "model_alexnet.summary()"
   ]
  },
  {
   "cell_type": "markdown",
   "metadata": {},
   "source": [
    "## Compile"
   ]
  },
  {
   "cell_type": "code",
   "execution_count": 8,
   "metadata": {
    "id": "7MzW6VbcIhCB"
   },
   "outputs": [],
   "source": [
    "from tensorflow.keras.optimizers import Adam\n",
    "\n",
    "opt = Adam(learning_rate = 0.001,\n",
    "          beta_1 = 0.9,\n",
    "          beta_2 = 0.999)\n",
    "\n",
    "model_alexnet.compile(optimizer = opt,\n",
    "                    loss='sparse_categorical_crossentropy',\n",
    "                    metrics=['acc'])"
   ]
  },
  {
   "cell_type": "markdown",
   "metadata": {},
   "source": [
    "## Training"
   ]
  },
  {
   "cell_type": "code",
   "execution_count": 9,
   "metadata": {
    "colab": {
     "base_uri": "https://localhost:8080/"
    },
    "id": "sDIpOg15JWDk",
    "outputId": "5474451c-a457-428e-9197-bad26f1fdfb6",
    "scrolled": true
   },
   "outputs": [
    {
     "name": "stdout",
     "output_type": "stream",
     "text": [
      "Epoch 1/20\n",
      "1563/1563 [==============================] - 114s 72ms/step - loss: 1.5567 - acc: 0.4219\n",
      "Epoch 2/20\n",
      "1563/1563 [==============================] - 112s 71ms/step - loss: 1.0905 - acc: 0.6082\n",
      "Epoch 3/20\n",
      "1563/1563 [==============================] - 112s 72ms/step - loss: 0.8754 - acc: 0.6921\n",
      "Epoch 4/20\n",
      "1563/1563 [==============================] - 111s 71ms/step - loss: 0.7355 - acc: 0.7408\n",
      "Epoch 5/20\n",
      "1563/1563 [==============================] - 114s 73ms/step - loss: 0.6251 - acc: 0.7795\n",
      "Epoch 6/20\n",
      "1563/1563 [==============================] - 113s 72ms/step - loss: 0.5263 - acc: 0.8156\n",
      "Epoch 7/20\n",
      "1563/1563 [==============================] - 111s 71ms/step - loss: 0.4474 - acc: 0.8428\n",
      "Epoch 8/20\n",
      "1563/1563 [==============================] - 111s 71ms/step - loss: 0.3739 - acc: 0.8681\n",
      "Epoch 9/20\n",
      "1563/1563 [==============================] - 112s 72ms/step - loss: 0.3157 - acc: 0.8900\n",
      "Epoch 10/20\n",
      "1563/1563 [==============================] - 111s 71ms/step - loss: 0.2773 - acc: 0.9033\n",
      "Epoch 11/20\n",
      "1563/1563 [==============================] - 112s 72ms/step - loss: 0.2401 - acc: 0.9162\n",
      "Epoch 12/20\n",
      "1563/1563 [==============================] - 112s 72ms/step - loss: 0.2159 - acc: 0.9252\n",
      "Epoch 13/20\n",
      "1563/1563 [==============================] - 114s 73ms/step - loss: 0.1900 - acc: 0.9354\n",
      "Epoch 14/20\n",
      "1563/1563 [==============================] - 111s 71ms/step - loss: 0.1864 - acc: 0.9375\n",
      "Epoch 15/20\n",
      "1563/1563 [==============================] - 111s 71ms/step - loss: 0.1702 - acc: 0.9423\n",
      "Epoch 16/20\n",
      "1563/1563 [==============================] - 112s 71ms/step - loss: 0.1719 - acc: 0.9437\n",
      "Epoch 17/20\n",
      "1563/1563 [==============================] - 111s 71ms/step - loss: 0.1585 - acc: 0.9473\n",
      "Epoch 18/20\n",
      "1563/1563 [==============================] - 112s 72ms/step - loss: 0.1535 - acc: 0.9502\n",
      "Epoch 19/20\n",
      "1563/1563 [==============================] - 112s 72ms/step - loss: 0.1538 - acc: 0.9497\n",
      "Epoch 20/20\n",
      "1563/1563 [==============================] - 111s 71ms/step - loss: 0.1384 - acc: 0.9551\n"
     ]
    },
    {
     "data": {
      "text/plain": [
       "<keras.callbacks.History at 0x23151c1e160>"
      ]
     },
     "execution_count": 9,
     "metadata": {},
     "output_type": "execute_result"
    }
   ],
   "source": [
    "# Training\n",
    "model_alexnet.fit(X_train,y_train,epochs=20)"
   ]
  },
  {
   "cell_type": "code",
   "execution_count": 10,
   "metadata": {
    "colab": {
     "base_uri": "https://localhost:8080/"
    },
    "id": "HXWMVLVnJcHn",
    "outputId": "8f0789f6-077a-465b-a5f0-1fb2a7f27a1e"
   },
   "outputs": [
    {
     "name": "stdout",
     "output_type": "stream",
     "text": [
      "313/313 [==============================] - 7s 20ms/step - loss: 1.5235 - acc: 0.7277\n",
      "[1.523450493812561, 0.7276999950408936]\n"
     ]
    }
   ],
   "source": [
    "# Evaluation\n",
    "test_performance = model_alexnet.evaluate(X_test,y_test)\n",
    "print(test_performance)"
   ]
  }
 ],
 "metadata": {
  "accelerator": "GPU",
  "colab": {
   "collapsed_sections": [],
   "name": "Untitled10.ipynb",
   "provenance": []
  },
  "kernelspec": {
   "display_name": "Python 3 (ipykernel)",
   "language": "python",
   "name": "python3"
  },
  "language_info": {
   "codemirror_mode": {
    "name": "ipython",
    "version": 3
   },
   "file_extension": ".py",
   "mimetype": "text/x-python",
   "name": "python",
   "nbconvert_exporter": "python",
   "pygments_lexer": "ipython3",
   "version": "3.9.7"
  }
 },
 "nbformat": 4,
 "nbformat_minor": 1
}
