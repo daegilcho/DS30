{
 "cells": [
  {
   "cell_type": "markdown",
   "metadata": {
    "id": "8Fq4rvnM3yJ3"
   },
   "source": [
    "## LeNet-5 implementation"
   ]
  },
  {
   "cell_type": "code",
   "execution_count": 1,
   "metadata": {
    "id": "ZUpooVcdyAus"
   },
   "outputs": [],
   "source": [
    "import tensorflow as tf\n",
    "import tensorflow.keras as keras\n",
    "from tensorflow.keras.datasets import mnist"
   ]
  },
  {
   "cell_type": "markdown",
   "metadata": {},
   "source": [
    "## MNIST data loading"
   ]
  },
  {
   "cell_type": "code",
   "execution_count": 2,
   "metadata": {
    "id": "eEpjWoh5yA1W"
   },
   "outputs": [],
   "source": [
    "(X_train, y_train), (X_test, y_test) = mnist.load_data()\n",
    "X_train, X_test = X_train/255.0, X_test/255.0"
   ]
  },
  {
   "cell_type": "markdown",
   "metadata": {},
   "source": [
    "## Model construction"
   ]
  },
  {
   "cell_type": "code",
   "execution_count": 3,
   "metadata": {
    "id": "gzHyrlcfyBCh"
   },
   "outputs": [],
   "source": [
    "from tensorflow.keras.models import Sequential\n",
    "from tensorflow.keras.layers import Flatten, Dense\n",
    "from tensorflow.keras.layers import Conv2D\n",
    "from tensorflow.keras.layers import MaxPool2D"
   ]
  },
  {
   "cell_type": "code",
   "execution_count": 4,
   "metadata": {
    "colab": {
     "base_uri": "https://localhost:8080/"
    },
    "id": "2vDERgcEyBFc",
    "outputId": "c049e2f7-1cbb-4f93-cbf2-6b0a685ed744"
   },
   "outputs": [
    {
     "name": "stdout",
     "output_type": "stream",
     "text": [
      "Model: \"sequential\"\n",
      "_________________________________________________________________\n",
      " Layer (type)                Output Shape              Param #   \n",
      "=================================================================\n",
      " conv2d (Conv2D)             (None, 28, 28, 32)        832       \n",
      "                                                                 \n",
      " max_pooling2d (MaxPooling2D  (None, 14, 14, 32)       0         \n",
      " )                                                               \n",
      "                                                                 \n",
      " conv2d_1 (Conv2D)           (None, 14, 14, 48)        38448     \n",
      "                                                                 \n",
      " max_pooling2d_1 (MaxPooling  (None, 7, 7, 48)         0         \n",
      " 2D)                                                             \n",
      "                                                                 \n",
      " flatten (Flatten)           (None, 2352)              0         \n",
      "                                                                 \n",
      " dense (Dense)               (None, 256)               602368    \n",
      "                                                                 \n",
      " dense_1 (Dense)             (None, 84)                21588     \n",
      "                                                                 \n",
      " dense_2 (Dense)             (None, 10)                850       \n",
      "                                                                 \n",
      "=================================================================\n",
      "Total params: 664,086\n",
      "Trainable params: 664,086\n",
      "Non-trainable params: 0\n",
      "_________________________________________________________________\n"
     ]
    }
   ],
   "source": [
    "model_lenet = Sequential()\n",
    "\n",
    "#1st stack ([Conv]+[ReLU]+[Pool])\n",
    "model_lenet.add(Conv2D(input_shape=(28,28,1),\n",
    "                       kernel_size=(5,5),\n",
    "                       strides=(1,1),\n",
    "                       filters=32,\n",
    "                       padding='same',\n",
    "                       activation='relu'\n",
    "                      ))\n",
    "model_lenet.add(MaxPool2D(pool_size=(2,2),\n",
    "                          strides=(2,2),\n",
    "                          padding='valid'))\n",
    "\n",
    "#2nd stack ([Conv]+[ReLU]+[Pool])\n",
    "model_lenet.add(Conv2D(kernel_size=(5,5),\n",
    "                       strides=(1,1),\n",
    "                       filters=48,\n",
    "                       padding='same',\n",
    "                       activation='relu'\n",
    "                      ))\n",
    "model_lenet.add(MaxPool2D(pool_size=(2,2),\n",
    "                          strides=(2,2),\n",
    "                          padding='valid'))\n",
    "\n",
    "# Three fully Connected Layers\n",
    "model_lenet.add(Flatten())\n",
    "model_lenet.add(Dense(256,activation='relu' ))\n",
    "model_lenet.add(Dense(84,activation='relu'))\n",
    "model_lenet.add(Dense(10,activation='softmax'))\n",
    "\n",
    "model_lenet.summary()"
   ]
  },
  {
   "cell_type": "markdown",
   "metadata": {},
   "source": [
    "## Compile"
   ]
  },
  {
   "cell_type": "code",
   "execution_count": 5,
   "metadata": {
    "id": "h7zT0XDjyBIk"
   },
   "outputs": [],
   "source": [
    "from tensorflow.keras.optimizers import Adam\n",
    "\n",
    "opt = Adam(learning_rate = 0.001,\n",
    "          beta_1 = 0.9,\n",
    "          beta_2 = 0.999)\n",
    "\n",
    "model_lenet.compile(optimizer = opt,\n",
    "                    loss='sparse_categorical_crossentropy',\n",
    "                    metrics=['acc'])"
   ]
  },
  {
   "cell_type": "markdown",
   "metadata": {},
   "source": [
    "## Training & evaluation"
   ]
  },
  {
   "cell_type": "code",
   "execution_count": 6,
   "metadata": {
    "id": "Zim7Ass-8VNn"
   },
   "outputs": [],
   "source": [
    "# Conversion from 3D to 4D tensor\n",
    "X_train, X_test = X_train.reshape(-1,28,28,1), X_test.reshape(-1,28,28,1)"
   ]
  },
  {
   "cell_type": "code",
   "execution_count": 7,
   "metadata": {
    "colab": {
     "base_uri": "https://localhost:8080/"
    },
    "id": "j61vu3lzyBL4",
    "outputId": "de523158-37ee-4fda-eec0-59d3474ddc5a",
    "scrolled": true
   },
   "outputs": [
    {
     "name": "stdout",
     "output_type": "stream",
     "text": [
      "Epoch 1/10\n",
      "1875/1875 [==============================] - 40s 21ms/step - loss: 0.1150 - acc: 0.9643\n",
      "Epoch 2/10\n",
      "1875/1875 [==============================] - 38s 20ms/step - loss: 0.0395 - acc: 0.9877\n",
      "Epoch 3/10\n",
      "1875/1875 [==============================] - 39s 21ms/step - loss: 0.0285 - acc: 0.9911\n",
      "Epoch 4/10\n",
      "1875/1875 [==============================] - 38s 20ms/step - loss: 0.0207 - acc: 0.9935\n",
      "Epoch 5/10\n",
      "1875/1875 [==============================] - 38s 20ms/step - loss: 0.0185 - acc: 0.9943\n",
      "Epoch 6/10\n",
      "1875/1875 [==============================] - 38s 20ms/step - loss: 0.0142 - acc: 0.9957\n",
      "Epoch 7/10\n",
      "1875/1875 [==============================] - 39s 21ms/step - loss: 0.0129 - acc: 0.9962\n",
      "Epoch 8/10\n",
      "1875/1875 [==============================] - 40s 22ms/step - loss: 0.0101 - acc: 0.9971\n",
      "Epoch 9/10\n",
      "1875/1875 [==============================] - 41s 22ms/step - loss: 0.0083 - acc: 0.9974\n",
      "Epoch 10/10\n",
      "1875/1875 [==============================] - 39s 21ms/step - loss: 0.0082 - acc: 0.9978\n"
     ]
    },
    {
     "data": {
      "text/plain": [
       "<keras.callbacks.History at 0x2ade317fc70>"
      ]
     },
     "execution_count": 7,
     "metadata": {},
     "output_type": "execute_result"
    }
   ],
   "source": [
    "# Training\n",
    "model_lenet.fit(X_train,y_train,epochs=10)"
   ]
  },
  {
   "cell_type": "code",
   "execution_count": 8,
   "metadata": {
    "colab": {
     "base_uri": "https://localhost:8080/"
    },
    "id": "2-fB4EtayBPU",
    "outputId": "9e5b0e1e-6d73-4a67-f4fa-f5dd4be73365",
    "scrolled": true
   },
   "outputs": [
    {
     "name": "stdout",
     "output_type": "stream",
     "text": [
      "313/313 [==============================] - 1s 4ms/step - loss: 0.0510 - acc: 0.9890\n",
      "[0.05104943364858627, 0.9890000224113464]\n"
     ]
    }
   ],
   "source": [
    "# Evaluation\n",
    "test_performance = model_lenet.evaluate(X_test, y_test)\n",
    "print(test_performance)"
   ]
  }
 ],
 "metadata": {
  "accelerator": "GPU",
  "colab": {
   "name": "Untitled9.ipynb",
   "provenance": []
  },
  "kernelspec": {
   "display_name": "Python 3 (ipykernel)",
   "language": "python",
   "name": "python3"
  },
  "language_info": {
   "codemirror_mode": {
    "name": "ipython",
    "version": 3
   },
   "file_extension": ".py",
   "mimetype": "text/x-python",
   "name": "python",
   "nbconvert_exporter": "python",
   "pygments_lexer": "ipython3",
   "version": "3.9.7"
  }
 },
 "nbformat": 4,
 "nbformat_minor": 1
}
