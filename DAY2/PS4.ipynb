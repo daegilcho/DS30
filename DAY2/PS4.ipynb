{
 "cells": [
  {
   "cell_type": "markdown",
   "metadata": {
    "id": "Z1WjtI8Ul236"
   },
   "source": [
    "## Data organization"
   ]
  },
  {
   "cell_type": "markdown",
   "metadata": {
    "id": "hGDpTfM3LC2u"
   },
   "source": [
    "## Data loading"
   ]
  },
  {
   "cell_type": "code",
   "execution_count": 1,
   "metadata": {},
   "outputs": [
    {
     "name": "stdout",
     "output_type": "stream",
     "text": [
      "Requirement already satisfied: shap in c:\\programdata\\anaconda3\\lib\\site-packages (0.41.0)\n",
      "Requirement already satisfied: slicer==0.0.7 in c:\\programdata\\anaconda3\\lib\\site-packages (from shap) (0.0.7)\n",
      "Requirement already satisfied: packaging>20.9 in c:\\programdata\\anaconda3\\lib\\site-packages (from shap) (21.0)\n",
      "Requirement already satisfied: scipy in c:\\programdata\\anaconda3\\lib\\site-packages (from shap) (1.7.1)\n",
      "Requirement already satisfied: numpy in c:\\programdata\\anaconda3\\lib\\site-packages (from shap) (1.20.3)\n",
      "Requirement already satisfied: numba in c:\\programdata\\anaconda3\\lib\\site-packages (from shap) (0.54.1)\n",
      "Requirement already satisfied: pandas in c:\\programdata\\anaconda3\\lib\\site-packages (from shap) (1.3.4)\n",
      "Requirement already satisfied: cloudpickle in c:\\programdata\\anaconda3\\lib\\site-packages (from shap) (2.0.0)\n",
      "Requirement already satisfied: scikit-learn in c:\\programdata\\anaconda3\\lib\\site-packages (from shap) (0.24.2)\n",
      "Requirement already satisfied: tqdm>4.25.0 in c:\\programdata\\anaconda3\\lib\\site-packages (from shap) (4.62.3)\n",
      "Requirement already satisfied: pyparsing>=2.0.2 in c:\\programdata\\anaconda3\\lib\\site-packages (from packaging>20.9->shap) (3.0.4)\n",
      "Requirement already satisfied: colorama in c:\\programdata\\anaconda3\\lib\\site-packages (from tqdm>4.25.0->shap) (0.4.4)\n",
      "Requirement already satisfied: llvmlite<0.38,>=0.37.0rc1 in c:\\programdata\\anaconda3\\lib\\site-packages (from numba->shap) (0.37.0)\n",
      "Requirement already satisfied: setuptools in c:\\programdata\\anaconda3\\lib\\site-packages (from numba->shap) (58.0.4)\n",
      "Requirement already satisfied: python-dateutil>=2.7.3 in c:\\programdata\\anaconda3\\lib\\site-packages (from pandas->shap) (2.8.2)\n",
      "Requirement already satisfied: pytz>=2017.3 in c:\\programdata\\anaconda3\\lib\\site-packages (from pandas->shap) (2021.3)\n",
      "Requirement already satisfied: six>=1.5 in c:\\programdata\\anaconda3\\lib\\site-packages (from python-dateutil>=2.7.3->pandas->shap) (1.16.0)\n",
      "Requirement already satisfied: threadpoolctl>=2.0.0 in c:\\programdata\\anaconda3\\lib\\site-packages (from scikit-learn->shap) (2.2.0)\n",
      "Requirement already satisfied: joblib>=0.11 in c:\\programdata\\anaconda3\\lib\\site-packages (from scikit-learn->shap) (1.1.0)\n",
      "Note: you may need to restart the kernel to use updated packages.\n"
     ]
    },
    {
     "name": "stderr",
     "output_type": "stream",
     "text": [
      "WARNING: Ignoring invalid distribution -cikit-learn (c:\\programdata\\anaconda3\\lib\\site-packages)\n",
      "WARNING: Ignoring invalid distribution -cikit-learn (c:\\programdata\\anaconda3\\lib\\site-packages)\n",
      "WARNING: Ignoring invalid distribution -cikit-learn (c:\\programdata\\anaconda3\\lib\\site-packages)\n",
      "WARNING: Ignoring invalid distribution -cikit-learn (c:\\programdata\\anaconda3\\lib\\site-packages)\n",
      "WARNING: Ignoring invalid distribution -cikit-learn (c:\\programdata\\anaconda3\\lib\\site-packages)\n",
      "WARNING: Ignoring invalid distribution -cikit-learn (c:\\programdata\\anaconda3\\lib\\site-packages)\n"
     ]
    }
   ],
   "source": [
    "pip install shap"
   ]
  },
  {
   "cell_type": "code",
   "execution_count": 1,
   "metadata": {
    "scrolled": false
   },
   "outputs": [
    {
     "name": "stdout",
     "output_type": "stream",
     "text": [
      "(32561, 12)\n",
      "(32561,)\n",
      "<class 'pandas.core.frame.DataFrame'>\n",
      "<class 'numpy.ndarray'>\n"
     ]
    }
   ],
   "source": [
    "from shap.datasets import adult\n",
    "\n",
    "X, y = adult()\n",
    "print(X.shape)\n",
    "print(y.shape)\n",
    "print(type(X))\n",
    "print(type(y))"
   ]
  },
  {
   "cell_type": "code",
   "execution_count": 2,
   "metadata": {},
   "outputs": [
    {
     "name": "stdout",
     "output_type": "stream",
     "text": [
      "        Age  Workclass  Education-Num  Marital Status  Occupation  \\\n",
      "0      39.0          7           13.0               4           1   \n",
      "1      50.0          6           13.0               2           4   \n",
      "2      38.0          4            9.0               0           6   \n",
      "3      53.0          4            7.0               2           6   \n",
      "4      28.0          4           13.0               2          10   \n",
      "...     ...        ...            ...             ...         ...   \n",
      "32556  27.0          4           12.0               2          13   \n",
      "32557  40.0          4            9.0               2           7   \n",
      "32558  58.0          4            9.0               6           1   \n",
      "32559  22.0          4            9.0               4           1   \n",
      "32560  52.0          5            9.0               2           4   \n",
      "\n",
      "       Relationship  Race  Sex  Capital Gain  Capital Loss  Hours per week  \\\n",
      "0                 0     4    1        2174.0           0.0            40.0   \n",
      "1                 4     4    1           0.0           0.0            13.0   \n",
      "2                 0     4    1           0.0           0.0            40.0   \n",
      "3                 4     2    1           0.0           0.0            40.0   \n",
      "4                 5     2    0           0.0           0.0            40.0   \n",
      "...             ...   ...  ...           ...           ...             ...   \n",
      "32556             5     4    0           0.0           0.0            38.0   \n",
      "32557             4     4    1           0.0           0.0            40.0   \n",
      "32558             1     4    0           0.0           0.0            40.0   \n",
      "32559             3     4    1           0.0           0.0            20.0   \n",
      "32560             5     4    0       15024.0           0.0            40.0   \n",
      "\n",
      "       Country  \n",
      "0           39  \n",
      "1           39  \n",
      "2           39  \n",
      "3           39  \n",
      "4            5  \n",
      "...        ...  \n",
      "32556       39  \n",
      "32557       39  \n",
      "32558       39  \n",
      "32559       39  \n",
      "32560       39  \n",
      "\n",
      "[32561 rows x 12 columns]\n",
      "[False False False ... False False  True]\n"
     ]
    }
   ],
   "source": [
    "print(X)\n",
    "print(y)"
   ]
  },
  {
   "cell_type": "code",
   "execution_count": 3,
   "metadata": {},
   "outputs": [
    {
     "name": "stdout",
     "output_type": "stream",
     "text": [
      "0        39.0\n",
      "1        50.0\n",
      "2        38.0\n",
      "3        53.0\n",
      "4        28.0\n",
      "         ... \n",
      "32556    27.0\n",
      "32557    40.0\n",
      "32558    58.0\n",
      "32559    22.0\n",
      "32560    52.0\n",
      "Name: Age, Length: 32561, dtype: float32\n",
      "(32561,)\n",
      "[39. 50. 38. ... 58. 22. 52.]\n",
      "<class 'numpy.ndarray'>\n",
      "[[39.]\n",
      " [50.]\n",
      " [38.]\n",
      " ...\n",
      " [58.]\n",
      " [22.]\n",
      " [52.]]\n",
      "(32561, 1)\n"
     ]
    }
   ],
   "source": [
    "print(X['Age'])\n",
    "print(X['Age'].shape)\n",
    "print(X['Age'].values)\n",
    "print(type(X['Age'].values))\n",
    "print(X['Age'].values.reshape(-1,1))\n",
    "print(X['Age'].values.reshape(-1,1).shape)"
   ]
  },
  {
   "cell_type": "code",
   "execution_count": 4,
   "metadata": {},
   "outputs": [],
   "source": [
    "numerical_columns = ['Age','Education-Num','Capital Gain','Capital Loss','Hours per week'] \n",
    "categorical_columns = ['Workclass','Marital Status','Occupation','Relationship','Race','Sex','Country']"
   ]
  },
  {
   "cell_type": "markdown",
   "metadata": {},
   "source": [
    "## Conversion of categorical data"
   ]
  },
  {
   "cell_type": "code",
   "execution_count": 5,
   "metadata": {
    "id": "Q_5B5s6OTP1O"
   },
   "outputs": [],
   "source": [
    "import pandas as pd # for one-hot encoding\n",
    "from sklearn.preprocessing import StandardScaler # for normalization"
   ]
  },
  {
   "cell_type": "code",
   "execution_count": 6,
   "metadata": {
    "id": "5vLvF4HgTc_3",
    "scrolled": true
   },
   "outputs": [
    {
     "name": "stdout",
     "output_type": "stream",
     "text": [
      "            Age  Workclass  Education-Num  Marital Status  Occupation  \\\n",
      "0      0.030671          7       1.134739               4           1   \n",
      "1      0.837109          6       1.134739               2           4   \n",
      "2     -0.042642          4      -0.420060               0           6   \n",
      "3      1.057047          4      -1.197459               2           6   \n",
      "4     -0.775768          4       1.134739               2          10   \n",
      "...         ...        ...            ...             ...         ...   \n",
      "32556 -0.849080          4       0.746039               2          13   \n",
      "32557  0.103983          4      -0.420060               2           7   \n",
      "32558  1.423610          4      -0.420060               6           1   \n",
      "32559 -1.215643          4      -0.420060               4           1   \n",
      "32560  0.983734          5      -0.420060               2           4   \n",
      "\n",
      "       Relationship  Race  Sex  Capital Gain  Capital Loss  Hours per week  \\\n",
      "0                 0     4    1      0.148453      -0.21666       -0.035429   \n",
      "1                 4     4    1     -0.145920      -0.21666       -2.222153   \n",
      "2                 0     4    1     -0.145920      -0.21666       -0.035429   \n",
      "3                 4     2    1     -0.145920      -0.21666       -0.035429   \n",
      "4                 5     2    0     -0.145920      -0.21666       -0.035429   \n",
      "...             ...   ...  ...           ...           ...             ...   \n",
      "32556             5     4    0     -0.145920      -0.21666       -0.197409   \n",
      "32557             4     4    1     -0.145920      -0.21666       -0.035429   \n",
      "32558             1     4    0     -0.145920      -0.21666       -0.035429   \n",
      "32559             3     4    1     -0.145920      -0.21666       -1.655225   \n",
      "32560             5     4    0      1.888424      -0.21666       -0.035429   \n",
      "\n",
      "       Country  \n",
      "0           39  \n",
      "1           39  \n",
      "2           39  \n",
      "3           39  \n",
      "4            5  \n",
      "...        ...  \n",
      "32556       39  \n",
      "32557       39  \n",
      "32558       39  \n",
      "32559       39  \n",
      "32560       39  \n",
      "\n",
      "[32561 rows x 12 columns]\n",
      "<class 'pandas.core.frame.DataFrame'>\n"
     ]
    }
   ],
   "source": [
    "# Normalization of numerical data\n",
    "for column in numerical_columns:\n",
    "    scaler = StandardScaler()\n",
    "    X[column] = scaler.fit_transform(X[column].values.reshape(-1,1))\n",
    "    #X[column] = scaler.fit_transform(X[column])\n",
    "    \n",
    "      \n",
    "print(X)\n",
    "print(type(X))"
   ]
  },
  {
   "cell_type": "code",
   "execution_count": 7,
   "metadata": {},
   "outputs": [
    {
     "name": "stdout",
     "output_type": "stream",
     "text": [
      "            Age Workclass  Education-Num Marital Status Occupation  \\\n",
      "0      0.030671         7       1.134739              4          1   \n",
      "1      0.837109         6       1.134739              2          4   \n",
      "2     -0.042642         4      -0.420060              0          6   \n",
      "3      1.057047         4      -1.197459              2          6   \n",
      "4     -0.775768         4       1.134739              2         10   \n",
      "...         ...       ...            ...            ...        ...   \n",
      "32556 -0.849080         4       0.746039              2         13   \n",
      "32557  0.103983         4      -0.420060              2          7   \n",
      "32558  1.423610         4      -0.420060              6          1   \n",
      "32559 -1.215643         4      -0.420060              4          1   \n",
      "32560  0.983734         5      -0.420060              2          4   \n",
      "\n",
      "      Relationship Race Sex  Capital Gain  Capital Loss  Hours per week  \\\n",
      "0                0    4   1      0.148453      -0.21666       -0.035429   \n",
      "1                4    4   1     -0.145920      -0.21666       -2.222153   \n",
      "2                0    4   1     -0.145920      -0.21666       -0.035429   \n",
      "3                4    2   1     -0.145920      -0.21666       -0.035429   \n",
      "4                5    2   0     -0.145920      -0.21666       -0.035429   \n",
      "...            ...  ...  ..           ...           ...             ...   \n",
      "32556            5    4   0     -0.145920      -0.21666       -0.197409   \n",
      "32557            4    4   1     -0.145920      -0.21666       -0.035429   \n",
      "32558            1    4   0     -0.145920      -0.21666       -0.035429   \n",
      "32559            3    4   1     -0.145920      -0.21666       -1.655225   \n",
      "32560            5    4   0      1.888424      -0.21666       -0.035429   \n",
      "\n",
      "      Country  \n",
      "0          39  \n",
      "1          39  \n",
      "2          39  \n",
      "3          39  \n",
      "4           5  \n",
      "...       ...  \n",
      "32556      39  \n",
      "32557      39  \n",
      "32558      39  \n",
      "32559      39  \n",
      "32560      39  \n",
      "\n",
      "[32561 rows x 12 columns]\n",
      "[39, 39, 39, 39, 5, ..., 39, 39, 39, 39, 39]\n",
      "Length: 32561\n",
      "Categories (42, int64): [0, 1, 2, 3, ..., 38, 39, 40, 41]\n"
     ]
    }
   ],
   "source": [
    "# Data type change of categorical data \n",
    "# 진짜 categorical data 라는 것을 지정해주는 작업\n",
    "\n",
    "for column in categorical_columns:\n",
    "    X[column] = X[column].astype('category')\n",
    "\n",
    "print(X)\n",
    "print(X['Country'].values)"
   ]
  },
  {
   "cell_type": "code",
   "execution_count": 8,
   "metadata": {},
   "outputs": [
    {
     "name": "stdout",
     "output_type": "stream",
     "text": [
      "            Age  Education-Num  Capital Gain  Capital Loss  Hours per week  \\\n",
      "0      0.030671       1.134739      0.148453      -0.21666       -0.035429   \n",
      "1      0.837109       1.134739     -0.145920      -0.21666       -2.222153   \n",
      "2     -0.042642      -0.420060     -0.145920      -0.21666       -0.035429   \n",
      "3      1.057047      -1.197459     -0.145920      -0.21666       -0.035429   \n",
      "4     -0.775768       1.134739     -0.145920      -0.21666       -0.035429   \n",
      "...         ...            ...           ...           ...             ...   \n",
      "32556 -0.849080       0.746039     -0.145920      -0.21666       -0.197409   \n",
      "32557  0.103983      -0.420060     -0.145920      -0.21666       -0.035429   \n",
      "32558  1.423610      -0.420060     -0.145920      -0.21666       -0.035429   \n",
      "32559 -1.215643      -0.420060     -0.145920      -0.21666       -1.655225   \n",
      "32560  0.983734      -0.420060      1.888424      -0.21666       -0.035429   \n",
      "\n",
      "       Workclass_0  Workclass_1  Workclass_2  Workclass_3  Workclass_4  ...  \\\n",
      "0                0            0            0            0            0  ...   \n",
      "1                0            0            0            0            0  ...   \n",
      "2                0            0            0            0            1  ...   \n",
      "3                0            0            0            0            1  ...   \n",
      "4                0            0            0            0            1  ...   \n",
      "...            ...          ...          ...          ...          ...  ...   \n",
      "32556            0            0            0            0            1  ...   \n",
      "32557            0            0            0            0            1  ...   \n",
      "32558            0            0            0            0            1  ...   \n",
      "32559            0            0            0            0            1  ...   \n",
      "32560            0            0            0            0            0  ...   \n",
      "\n",
      "       Country_32  Country_33  Country_34  Country_35  Country_36  Country_37  \\\n",
      "0               0           0           0           0           0           0   \n",
      "1               0           0           0           0           0           0   \n",
      "2               0           0           0           0           0           0   \n",
      "3               0           0           0           0           0           0   \n",
      "4               0           0           0           0           0           0   \n",
      "...           ...         ...         ...         ...         ...         ...   \n",
      "32556           0           0           0           0           0           0   \n",
      "32557           0           0           0           0           0           0   \n",
      "32558           0           0           0           0           0           0   \n",
      "32559           0           0           0           0           0           0   \n",
      "32560           0           0           0           0           0           0   \n",
      "\n",
      "       Country_38  Country_39  Country_40  Country_41  \n",
      "0               0           1           0           0  \n",
      "1               0           1           0           0  \n",
      "2               0           1           0           0  \n",
      "3               0           1           0           0  \n",
      "4               0           0           0           0  \n",
      "...           ...         ...         ...         ...  \n",
      "32556           0           1           0           0  \n",
      "32557           0           1           0           0  \n",
      "32558           0           1           0           0  \n",
      "32559           0           1           0           0  \n",
      "32560           0           1           0           0  \n",
      "\n",
      "[32561 rows x 91 columns]\n"
     ]
    }
   ],
   "source": [
    "X = pd.get_dummies(X)\n",
    "print(X)"
   ]
  },
  {
   "cell_type": "code",
   "execution_count": 9,
   "metadata": {},
   "outputs": [],
   "source": [
    "# One-hot encoding of categorical data\n",
    "X = pd.get_dummies(X) \n",
    "\n",
    "# Conversion of data frame to numpy\n",
    "X = X.values\n",
    "\n",
    "# Converision: {False, True} --> {0., 1.}\n",
    "y = y.astype(float) "
   ]
  },
  {
   "cell_type": "code",
   "execution_count": 10,
   "metadata": {},
   "outputs": [
    {
     "name": "stdout",
     "output_type": "stream",
     "text": [
      "(32561, 91)\n",
      "(32561,)\n",
      "1.0\n"
     ]
    }
   ],
   "source": [
    "print(X.shape)\n",
    "print(y.shape)\n",
    "#print(X)\n",
    "#print(y)\n",
    "print(max(X[:,42]))"
   ]
  },
  {
   "cell_type": "markdown",
   "metadata": {
    "id": "IeQLJH7zLC2w"
   },
   "source": [
    "## train-val-test split"
   ]
  },
  {
   "cell_type": "code",
   "execution_count": 11,
   "metadata": {
    "id": "kPYLDdTRYifd"
   },
   "outputs": [
    {
     "name": "stdout",
     "output_type": "stream",
     "text": [
      "(26048, 91)\n",
      "(3256, 91)\n",
      "(3257, 91)\n",
      "[0.24082463]\n",
      "[0.24078624]\n",
      "[0.24071231]\n"
     ]
    }
   ],
   "source": [
    "from sklearn.model_selection import train_test_split\n",
    "\n",
    "X_,X_test,y_,y_test = train_test_split(X,y,test_size=1/10,stratify=y)\n",
    "#X_,X_test,y_,y_test = train_test_split(X,y,test_size=1/10)\n",
    "\n",
    "X_train,X_val,y_train,y_val = train_test_split(X_,y_,test_size=1/9,stratify=y_)\n",
    "#X_train,X_val,y_train,y_val = train_test_split(X_,y_,test_size=1/9)\n",
    "\n",
    "print(X_train.shape)\n",
    "print(X_val.shape)\n",
    "print(X_test.shape)\n",
    "print(sum(y_train)/y_train.shape)\n",
    "print(sum(y_val)/y_val.shape)\n",
    "print(sum(y_test)/y_test.shape)"
   ]
  },
  {
   "cell_type": "markdown",
   "metadata": {
    "id": "djRPVIhuLC2x"
   },
   "source": [
    "## Logistic regression"
   ]
  },
  {
   "cell_type": "code",
   "execution_count": 12,
   "metadata": {
    "id": "KtW0R3i0ZDQ0"
   },
   "outputs": [],
   "source": [
    "from sklearn.linear_model import LogisticRegression"
   ]
  },
  {
   "cell_type": "code",
   "execution_count": 13,
   "metadata": {
    "colab": {
     "base_uri": "https://localhost:8080/"
    },
    "id": "vBUAilB0ZbMO",
    "outputId": "ddb6f150-efc4-4668-8b78-1baf0b58ce76",
    "scrolled": false
   },
   "outputs": [
    {
     "name": "stdout",
     "output_type": "stream",
     "text": [
      "0.8507371007371007\n"
     ]
    },
    {
     "name": "stderr",
     "output_type": "stream",
     "text": [
      "lbfgs failed to converge (status=1):\n",
      "STOP: TOTAL NO. of ITERATIONS REACHED LIMIT.\n",
      "\n",
      "Increase the number of iterations (max_iter) or scale the data as shown in:\n",
      "    https://scikit-learn.org/stable/modules/preprocessing.html\n",
      "Please also refer to the documentation for alternative solver options:\n",
      "    https://scikit-learn.org/stable/modules/linear_model.html#logistic-regression\n"
     ]
    }
   ],
   "source": [
    "model_LR = LogisticRegression()\n",
    "\n",
    "# training\n",
    "model_LR.fit(X_train, y_train)\n",
    "\n",
    "# evaulation\n",
    "val_acc = model_LR.score(X_val, y_val) \n",
    "\n",
    "print(val_acc)"
   ]
  },
  {
   "cell_type": "code",
   "execution_count": 14,
   "metadata": {},
   "outputs": [
    {
     "data": {
      "text/plain": [
       "['LR_sample.joblib']"
      ]
     },
     "execution_count": 14,
     "metadata": {},
     "output_type": "execute_result"
    }
   ],
   "source": [
    "from joblib import dump\n",
    "\n",
    "dump(model_LR, 'LR_sample.joblib')"
   ]
  },
  {
   "cell_type": "code",
   "execution_count": 15,
   "metadata": {},
   "outputs": [],
   "source": [
    "from joblib import load\n",
    "\n",
    "loaded_model_LR = load('LR_sample.joblib')"
   ]
  },
  {
   "cell_type": "code",
   "execution_count": null,
   "metadata": {},
   "outputs": [],
   "source": []
  }
 ],
 "metadata": {
  "accelerator": "GPU",
  "colab": {
   "collapsed_sections": [],
   "name": "DM10_day2.ipynb",
   "provenance": []
  },
  "kernelspec": {
   "display_name": "Python 3 (ipykernel)",
   "language": "python",
   "name": "python3"
  },
  "language_info": {
   "codemirror_mode": {
    "name": "ipython",
    "version": 3
   },
   "file_extension": ".py",
   "mimetype": "text/x-python",
   "name": "python",
   "nbconvert_exporter": "python",
   "pygments_lexer": "ipython3",
   "version": "3.9.12"
  }
 },
 "nbformat": 4,
 "nbformat_minor": 1
}
