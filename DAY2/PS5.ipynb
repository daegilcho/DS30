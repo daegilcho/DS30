{
 "cells": [
  {
   "cell_type": "code",
   "execution_count": 1,
   "metadata": {
    "scrolled": true
   },
   "outputs": [
    {
     "name": "stdout",
     "output_type": "stream",
     "text": [
      "        Age  Workclass  Education-Num  Marital Status  Occupation  \\\n",
      "0      39.0          7           13.0               4           1   \n",
      "1      50.0          6           13.0               2           4   \n",
      "2      38.0          4            9.0               0           6   \n",
      "3      53.0          4            7.0               2           6   \n",
      "4      28.0          4           13.0               2          10   \n",
      "...     ...        ...            ...             ...         ...   \n",
      "32556  27.0          4           12.0               2          13   \n",
      "32557  40.0          4            9.0               2           7   \n",
      "32558  58.0          4            9.0               6           1   \n",
      "32559  22.0          4            9.0               4           1   \n",
      "32560  52.0          5            9.0               2           4   \n",
      "\n",
      "       Relationship  Race  Sex  Capital Gain  Capital Loss  Hours per week  \\\n",
      "0                 0     4    1        2174.0           0.0            40.0   \n",
      "1                 4     4    1           0.0           0.0            13.0   \n",
      "2                 0     4    1           0.0           0.0            40.0   \n",
      "3                 4     2    1           0.0           0.0            40.0   \n",
      "4                 5     2    0           0.0           0.0            40.0   \n",
      "...             ...   ...  ...           ...           ...             ...   \n",
      "32556             5     4    0           0.0           0.0            38.0   \n",
      "32557             4     4    1           0.0           0.0            40.0   \n",
      "32558             1     4    0           0.0           0.0            40.0   \n",
      "32559             3     4    1           0.0           0.0            20.0   \n",
      "32560             5     4    0       15024.0           0.0            40.0   \n",
      "\n",
      "       Country  \n",
      "0           39  \n",
      "1           39  \n",
      "2           39  \n",
      "3           39  \n",
      "4            5  \n",
      "...        ...  \n",
      "32556       39  \n",
      "32557       39  \n",
      "32558       39  \n",
      "32559       39  \n",
      "32560       39  \n",
      "\n",
      "[32561 rows x 12 columns]\n",
      "[False False False ... False False  True]\n"
     ]
    }
   ],
   "source": [
    "from shap.datasets import adult\n",
    "\n",
    "X, y = adult()\n",
    "\n",
    "print(X)\n",
    "print(y)"
   ]
  },
  {
   "cell_type": "code",
   "execution_count": 2,
   "metadata": {},
   "outputs": [],
   "source": [
    "numerical_columns = ['Age','Education-Num','Capital Gain','Capital Loss','Hours per week'] \n",
    "categorical_columns = ['Workclass','Marital Status','Occupation','Relationship','Race','Sex','Country'] \n"
   ]
  },
  {
   "cell_type": "markdown",
   "metadata": {},
   "source": [
    "## Conversion of categorical data"
   ]
  },
  {
   "cell_type": "code",
   "execution_count": 3,
   "metadata": {
    "id": "Q_5B5s6OTP1O"
   },
   "outputs": [],
   "source": [
    "import pandas as pd # for one-hot encoding\n",
    "\n",
    "from sklearn.preprocessing import StandardScaler # for normalization"
   ]
  },
  {
   "cell_type": "code",
   "execution_count": 4,
   "metadata": {
    "id": "5vLvF4HgTc_3",
    "scrolled": true
   },
   "outputs": [
    {
     "name": "stdout",
     "output_type": "stream",
     "text": [
      "            Age  Workclass  Education-Num  Marital Status  Occupation  \\\n",
      "0      0.030671          7       1.134739               4           1   \n",
      "1      0.837109          6       1.134739               2           4   \n",
      "2     -0.042642          4      -0.420060               0           6   \n",
      "3      1.057047          4      -1.197459               2           6   \n",
      "4     -0.775768          4       1.134739               2          10   \n",
      "...         ...        ...            ...             ...         ...   \n",
      "32556 -0.849080          4       0.746039               2          13   \n",
      "32557  0.103983          4      -0.420060               2           7   \n",
      "32558  1.423610          4      -0.420060               6           1   \n",
      "32559 -1.215643          4      -0.420060               4           1   \n",
      "32560  0.983734          5      -0.420060               2           4   \n",
      "\n",
      "       Relationship  Race  Sex  Capital Gain  Capital Loss  Hours per week  \\\n",
      "0                 0     4    1      0.148453      -0.21666       -0.035429   \n",
      "1                 4     4    1     -0.145920      -0.21666       -2.222153   \n",
      "2                 0     4    1     -0.145920      -0.21666       -0.035429   \n",
      "3                 4     2    1     -0.145920      -0.21666       -0.035429   \n",
      "4                 5     2    0     -0.145920      -0.21666       -0.035429   \n",
      "...             ...   ...  ...           ...           ...             ...   \n",
      "32556             5     4    0     -0.145920      -0.21666       -0.197409   \n",
      "32557             4     4    1     -0.145920      -0.21666       -0.035429   \n",
      "32558             1     4    0     -0.145920      -0.21666       -0.035429   \n",
      "32559             3     4    1     -0.145920      -0.21666       -1.655225   \n",
      "32560             5     4    0      1.888424      -0.21666       -0.035429   \n",
      "\n",
      "       Country  \n",
      "0           39  \n",
      "1           39  \n",
      "2           39  \n",
      "3           39  \n",
      "4            5  \n",
      "...        ...  \n",
      "32556       39  \n",
      "32557       39  \n",
      "32558       39  \n",
      "32559       39  \n",
      "32560       39  \n",
      "\n",
      "[32561 rows x 12 columns]\n"
     ]
    }
   ],
   "source": [
    "# Normalization of numerical data\n",
    "for column in numerical_columns:\n",
    "    scaler = StandardScaler()\n",
    "    X[column] = scaler.fit_transform(X[column].values.reshape(-1,1))\n",
    "\n",
    "print(X)"
   ]
  },
  {
   "cell_type": "code",
   "execution_count": 5,
   "metadata": {},
   "outputs": [
    {
     "name": "stdout",
     "output_type": "stream",
     "text": [
      "            Age Workclass  Education-Num Marital Status Occupation  \\\n",
      "0      0.030671         7       1.134739              4          1   \n",
      "1      0.837109         6       1.134739              2          4   \n",
      "2     -0.042642         4      -0.420060              0          6   \n",
      "3      1.057047         4      -1.197459              2          6   \n",
      "4     -0.775768         4       1.134739              2         10   \n",
      "...         ...       ...            ...            ...        ...   \n",
      "32556 -0.849080         4       0.746039              2         13   \n",
      "32557  0.103983         4      -0.420060              2          7   \n",
      "32558  1.423610         4      -0.420060              6          1   \n",
      "32559 -1.215643         4      -0.420060              4          1   \n",
      "32560  0.983734         5      -0.420060              2          4   \n",
      "\n",
      "      Relationship Race Sex  Capital Gain  Capital Loss  Hours per week  \\\n",
      "0                0    4   1      0.148453      -0.21666       -0.035429   \n",
      "1                4    4   1     -0.145920      -0.21666       -2.222153   \n",
      "2                0    4   1     -0.145920      -0.21666       -0.035429   \n",
      "3                4    2   1     -0.145920      -0.21666       -0.035429   \n",
      "4                5    2   0     -0.145920      -0.21666       -0.035429   \n",
      "...            ...  ...  ..           ...           ...             ...   \n",
      "32556            5    4   0     -0.145920      -0.21666       -0.197409   \n",
      "32557            4    4   1     -0.145920      -0.21666       -0.035429   \n",
      "32558            1    4   0     -0.145920      -0.21666       -0.035429   \n",
      "32559            3    4   1     -0.145920      -0.21666       -1.655225   \n",
      "32560            5    4   0      1.888424      -0.21666       -0.035429   \n",
      "\n",
      "      Country  \n",
      "0          39  \n",
      "1          39  \n",
      "2          39  \n",
      "3          39  \n",
      "4           5  \n",
      "...       ...  \n",
      "32556      39  \n",
      "32557      39  \n",
      "32558      39  \n",
      "32559      39  \n",
      "32560      39  \n",
      "\n",
      "[32561 rows x 12 columns]\n"
     ]
    }
   ],
   "source": [
    "# Data type change of categorical data  \n",
    "for column in categorical_columns:\n",
    "    X[column] = X[column].astype('category')\n",
    "\n",
    "print(X)"
   ]
  },
  {
   "cell_type": "code",
   "execution_count": 6,
   "metadata": {},
   "outputs": [],
   "source": [
    "# One-hot encoding of categorical data\n",
    "X = pd.get_dummies(X) \n",
    "\n",
    "# Conversion of data frame to numpy\n",
    "X = X.values\n",
    "\n",
    "# Converision: {False, True} --> {0., 1.}\n",
    "y = y.astype(float) "
   ]
  },
  {
   "cell_type": "code",
   "execution_count": 7,
   "metadata": {},
   "outputs": [
    {
     "name": "stdout",
     "output_type": "stream",
     "text": [
      "(32561, 91)\n",
      "(32561,)\n",
      "[0. 0. 0. ... 0. 0. 1.]\n"
     ]
    }
   ],
   "source": [
    "print(X.shape)\n",
    "print(y.shape)\n",
    "print(y)"
   ]
  },
  {
   "cell_type": "markdown",
   "metadata": {
    "id": "IeQLJH7zLC2w"
   },
   "source": [
    "## train-val-test split"
   ]
  },
  {
   "cell_type": "code",
   "execution_count": 8,
   "metadata": {
    "id": "kPYLDdTRYifd"
   },
   "outputs": [
    {
     "name": "stdout",
     "output_type": "stream",
     "text": [
      "(26048, 91)\n",
      "(3256, 91)\n",
      "(3257, 91)\n"
     ]
    }
   ],
   "source": [
    "from sklearn.model_selection import train_test_split\n",
    "\n",
    "X_,X_test,y_,y_test = train_test_split(X,y,test_size=1/10,stratify=y)\n",
    "X_train,X_val,y_train,y_val = train_test_split(X_,y_,test_size=1/9,stratify=y_)\n",
    "\n",
    "print(X_train.shape)\n",
    "print(X_val.shape)\n",
    "print(X_test.shape)"
   ]
  },
  {
   "cell_type": "markdown",
   "metadata": {
    "id": "djRPVIhuLC2x"
   },
   "source": [
    "## Logistic regression"
   ]
  },
  {
   "cell_type": "code",
   "execution_count": 9,
   "metadata": {
    "id": "KtW0R3i0ZDQ0"
   },
   "outputs": [],
   "source": [
    "from sklearn.linear_model import LogisticRegression"
   ]
  },
  {
   "cell_type": "code",
   "execution_count": 10,
   "metadata": {
    "colab": {
     "base_uri": "https://localhost:8080/"
    },
    "id": "vBUAilB0ZbMO",
    "outputId": "ddb6f150-efc4-4668-8b78-1baf0b58ce76",
    "scrolled": true
   },
   "outputs": [
    {
     "name": "stdout",
     "output_type": "stream",
     "text": [
      "0.8541154791154791\n"
     ]
    },
    {
     "name": "stderr",
     "output_type": "stream",
     "text": [
      "lbfgs failed to converge (status=1):\n",
      "STOP: TOTAL NO. of ITERATIONS REACHED LIMIT.\n",
      "\n",
      "Increase the number of iterations (max_iter) or scale the data as shown in:\n",
      "    https://scikit-learn.org/stable/modules/preprocessing.html\n",
      "Please also refer to the documentation for alternative solver options:\n",
      "    https://scikit-learn.org/stable/modules/linear_model.html#logistic-regression\n"
     ]
    }
   ],
   "source": [
    "model_LR = LogisticRegression()\n",
    "\n",
    "# training\n",
    "model_LR.fit(X_train, y_train)\n",
    "\n",
    "# evaulation\n",
    "val_acc = model_LR.score(X_val, y_val) \n",
    "\n",
    "print(val_acc)"
   ]
  },
  {
   "cell_type": "code",
   "execution_count": 11,
   "metadata": {},
   "outputs": [
    {
     "data": {
      "text/plain": [
       "['LR_sample.joblib']"
      ]
     },
     "execution_count": 11,
     "metadata": {},
     "output_type": "execute_result"
    }
   ],
   "source": [
    "from joblib import dump\n",
    "\n",
    "dump(model_LR, 'LR_sample.joblib')"
   ]
  },
  {
   "cell_type": "code",
   "execution_count": 12,
   "metadata": {},
   "outputs": [
    {
     "data": {
      "text/plain": [
       "LogisticRegression()"
      ]
     },
     "execution_count": 12,
     "metadata": {},
     "output_type": "execute_result"
    }
   ],
   "source": [
    "from joblib import load\n",
    "\n",
    "load('LR_sample.joblib')"
   ]
  },
  {
   "cell_type": "markdown",
   "metadata": {},
   "source": [
    "## A 2-layer DNN"
   ]
  },
  {
   "cell_type": "code",
   "execution_count": 13,
   "metadata": {},
   "outputs": [
    {
     "name": "stdout",
     "output_type": "stream",
     "text": [
      "Epoch 1/10\n",
      "814/814 [==============================] - 3s 2ms/step - loss: 0.3232 - acc: 0.8516\n",
      "Epoch 2/10\n",
      "814/814 [==============================] - 2s 2ms/step - loss: 0.3138 - acc: 0.8529\n",
      "Epoch 3/10\n",
      "814/814 [==============================] - 2s 2ms/step - loss: 0.3065 - acc: 0.8579\n",
      "Epoch 4/10\n",
      "814/814 [==============================] - 2s 3ms/step - loss: 0.3027 - acc: 0.8590\n",
      "Epoch 5/10\n",
      "814/814 [==============================] - 2s 3ms/step - loss: 0.2979 - acc: 0.8612\n",
      "Epoch 6/10\n",
      "814/814 [==============================] - 2s 3ms/step - loss: 0.2940 - acc: 0.8613\n",
      "Epoch 7/10\n",
      "814/814 [==============================] - 2s 3ms/step - loss: 0.2905 - acc: 0.8660\n",
      "Epoch 8/10\n",
      "814/814 [==============================] - 2s 2ms/step - loss: 0.2864 - acc: 0.8664\n",
      "Epoch 9/10\n",
      "814/814 [==============================] - 2s 3ms/step - loss: 0.2831 - acc: 0.8674\n",
      "Epoch 10/10\n",
      "814/814 [==============================] - 2s 3ms/step - loss: 0.2817 - acc: 0.8689\n"
     ]
    },
    {
     "data": {
      "text/plain": [
       "<keras.callbacks.History at 0x1a10329ba30>"
      ]
     },
     "execution_count": 13,
     "metadata": {},
     "output_type": "execute_result"
    }
   ],
   "source": [
    "from tensorflow.keras.models import Sequential\n",
    "from tensorflow.keras.layers import Dense\n",
    "from tensorflow.keras.optimizers import Adam\n",
    "\n",
    "model = Sequential()\n",
    "model.add(Dense(128, activation='relu'))\n",
    "model.add(Dense(1, activation='sigmoid'))\n",
    "\n",
    "opt = Adam(learning_rate=0.01,\n",
    "          beta_1 = 0.9,\n",
    "          beta_2 = 0.999)\n",
    "\n",
    "\n",
    "#model.compile(optimizer=opt,\n",
    "#             loss='binary_crossentropy')\n",
    "\n",
    "\n",
    "model.compile(optimizer=opt,\n",
    "             loss='binary_crossentropy',\n",
    "             metrics=['acc'])\n",
    "\n",
    "model.fit(X_train,y_train, epochs=10)"
   ]
  },
  {
   "cell_type": "code",
   "execution_count": 14,
   "metadata": {},
   "outputs": [
    {
     "name": "stdout",
     "output_type": "stream",
     "text": [
      "102/102 [==============================] - 1s 4ms/step - loss: 0.3328 - acc: 0.8600\n",
      "[0.3327931761741638, 0.859950840473175]\n"
     ]
    }
   ],
   "source": [
    "val_hist = model.evaluate(X_val,y_val)\n",
    "\n",
    "print(val_hist)"
   ]
  },
  {
   "cell_type": "markdown",
   "metadata": {},
   "source": [
    "## Regularization"
   ]
  },
  {
   "cell_type": "code",
   "execution_count": 15,
   "metadata": {},
   "outputs": [],
   "source": [
    "from tensorflow.keras.regularizers import l2\n",
    "\n",
    "model = Sequential()\n",
    "\n",
    "model.add(Dense(128,\n",
    "          kernel_regularizer=l2(0.01),\n",
    "          bias_regularizer=l2(0.01)))"
   ]
  },
  {
   "cell_type": "markdown",
   "metadata": {},
   "source": [
    "## Early stopping"
   ]
  },
  {
   "cell_type": "code",
   "execution_count": 16,
   "metadata": {},
   "outputs": [
    {
     "name": "stdout",
     "output_type": "stream",
     "text": [
      "Epoch 1/100\n",
      "814/814 [==============================] - 4s 4ms/step - loss: 0.4216 - val_loss: 0.3996\n",
      "Epoch 2/100\n",
      "814/814 [==============================] - 3s 3ms/step - loss: 0.4030 - val_loss: 0.4026\n",
      "Epoch 3/100\n",
      "814/814 [==============================] - 2s 2ms/step - loss: 0.4030 - val_loss: 0.3996\n",
      "Epoch 4/100\n",
      "814/814 [==============================] - 2s 2ms/step - loss: 0.3999 - val_loss: 0.4011\n",
      "Epoch 5/100\n",
      "814/814 [==============================] - 2s 2ms/step - loss: 0.4002 - val_loss: 0.4001\n",
      "Epoch 6/100\n",
      "814/814 [==============================] - 2s 3ms/step - loss: 0.3978 - val_loss: 0.4024\n",
      "Epoch 7/100\n",
      "814/814 [==============================] - 2s 2ms/step - loss: 0.3986 - val_loss: 0.3934\n",
      "Epoch 8/100\n",
      "814/814 [==============================] - 2s 3ms/step - loss: 0.3986 - val_loss: 0.3961\n",
      "Epoch 9/100\n",
      "814/814 [==============================] - 2s 2ms/step - loss: 0.3975 - val_loss: 0.4015\n",
      "Epoch 10/100\n",
      "814/814 [==============================] - 2s 3ms/step - loss: 0.3978 - val_loss: 0.3999\n",
      "Epoch 11/100\n",
      "814/814 [==============================] - 2s 3ms/step - loss: 0.3978 - val_loss: 0.3975\n",
      "Epoch 12/100\n",
      "814/814 [==============================] - 2s 3ms/step - loss: 0.3985 - val_loss: 0.3974\n",
      "Epoch 13/100\n",
      "814/814 [==============================] - 2s 3ms/step - loss: 0.3966 - val_loss: 0.3942\n",
      "Epoch 14/100\n",
      "814/814 [==============================] - 2s 2ms/step - loss: 0.3981 - val_loss: 0.3993\n",
      "Epoch 15/100\n",
      "814/814 [==============================] - 2s 2ms/step - loss: 0.3978 - val_loss: 0.3936\n",
      "Epoch 16/100\n",
      "814/814 [==============================] - 2s 2ms/step - loss: 0.3972 - val_loss: 0.3985\n",
      "Epoch 17/100\n",
      "814/814 [==============================] - 2s 3ms/step - loss: 0.3979 - val_loss: 0.3960\n",
      "Epoch 18/100\n",
      "814/814 [==============================] - 3s 3ms/step - loss: 0.4002 - val_loss: 0.3960\n",
      "Epoch 19/100\n",
      "814/814 [==============================] - 2s 2ms/step - loss: 0.3981 - val_loss: 0.4107\n",
      "Epoch 20/100\n",
      "814/814 [==============================] - 2s 3ms/step - loss: 0.4000 - val_loss: 0.4014\n",
      "Epoch 21/100\n",
      "814/814 [==============================] - 2s 3ms/step - loss: 0.3972 - val_loss: 0.3948\n",
      "Epoch 22/100\n",
      "814/814 [==============================] - 2s 2ms/step - loss: 0.3963 - val_loss: 0.3941\n"
     ]
    }
   ],
   "source": [
    "from tensorflow.keras.models import Sequential\n",
    "from tensorflow.keras.layers import Dense\n",
    "from tensorflow.keras.optimizers import Adam\n",
    "from tensorflow.keras.callbacks import EarlyStopping\n",
    "\n",
    "model = Sequential()\n",
    "model.add(Dense(128,kernel_regularizer=l2(0.01),\n",
    "          bias_regularizer=l2(0.01),      \n",
    "          activation='relu'))\n",
    "model.add(Dense(1,kernel_regularizer=l2(0.01),\n",
    "          bias_regularizer=l2(0.01),        \n",
    "          activation='sigmoid'))\n",
    "opt = Adam(learning_rate=0.01,beta_1 = 0.9,beta_2 = 0.999)\n",
    "model.compile(optimizer=opt,\n",
    "             loss='binary_crossentropy')\n",
    "\n",
    "#model.compile(optimizer=opt,\n",
    "#             loss='binary_crossentropy',\n",
    "#             metrics=['acc'])\n",
    "\n",
    "#es_callback = EarlyStopping(monitor='val_acc', patience=15) \n",
    "#es_callback = EarlyStopping(monitor='val_loss', patience=15) \n",
    "es_callback = EarlyStopping(monitor='val_loss', patience=15) \n",
    "\n",
    "\n",
    "hist = model.fit(X_train, y_train, \n",
    "                 validation_data=(X_val, y_val), \n",
    "                 epochs=100,callbacks=[es_callback]) "
   ]
  },
  {
   "cell_type": "code",
   "execution_count": 17,
   "metadata": {},
   "outputs": [
    {
     "data": {
      "image/png": "[encoded data removed]",
      "text/plain": [
       "<Figure size 432x288 with 1 Axes>"
      ]
     },
     "metadata": {
      "needs_background": "light"
     },
     "output_type": "display_data"
    }
   ],
   "source": [
    "train_loss = hist.history['loss']\n",
    "val_loss = hist.history['val_loss']\n",
    "#train_acc = hist.history['acc']\n",
    "#val_acc = hist.history['val_acc']\n",
    "\n",
    "import matplotlib.pyplot as plt\n",
    "\n",
    "plt.plot(train_loss,label='train loss')\n",
    "plt.plot(val_loss,label='val loss')\n",
    "plt.legend()\n",
    "plt.show()"
   ]
  },
  {
   "cell_type": "markdown",
   "metadata": {},
   "source": [
    "## Dropout"
   ]
  },
  {
   "cell_type": "code",
   "execution_count": 18,
   "metadata": {},
   "outputs": [],
   "source": [
    "from tensorflow.keras.layers import Dropout\n",
    "\n",
    "model = Sequential()\n",
    "model.add(Dense(128,kernel_regularizer=l2(0.01),\n",
    "          bias_regularizer=l2(0.01),      \n",
    "          activation='relu'))\n",
    "\n",
    "model.add(Dropout(0.9))"
   ]
  },
  {
   "cell_type": "markdown",
   "metadata": {},
   "source": [
    "## Weight initialization"
   ]
  },
  {
   "cell_type": "code",
   "execution_count": 19,
   "metadata": {},
   "outputs": [],
   "source": [
    "from tensorflow.keras.initializers import HeNormal\n",
    "\n",
    "init = HeNormal()\n",
    "\n",
    "model.add(Dense(128,kernel_regularizer=l2(0.01),\n",
    "          bias_regularizer=l2(0.01),\n",
    "          kernel_initializer=init,\n",
    "          activation='relu'))"
   ]
  },
  {
   "cell_type": "markdown",
   "metadata": {},
   "source": [
    "## Batch normalization"
   ]
  },
  {
   "cell_type": "code",
   "execution_count": 20,
   "metadata": {},
   "outputs": [],
   "source": [
    "from tensorflow.keras.layers import BatchNormalization\n",
    "from tensorflow.keras.layers import ReLU\n",
    "\n",
    "init = HeNormal()\n",
    "\n",
    "model.add(Dense(128,kernel_regularizer=l2(0.01),\n",
    "          bias_regularizer=l2(0.01),\n",
    "          kernel_initializer=init))\n",
    "\n",
    "model.add(BatchNormalization())\n",
    "\n",
    "model.add(ReLU())"
   ]
  },
  {
   "cell_type": "markdown",
   "metadata": {},
   "source": [
    "## Learning rate decaying"
   ]
  },
  {
   "cell_type": "code",
   "execution_count": 21,
   "metadata": {},
   "outputs": [
    {
     "name": "stdout",
     "output_type": "stream",
     "text": [
      "Epoch 1/100\n",
      "814/814 [==============================] - 3s 3ms/step - loss: 0.4951 - val_loss: 0.4659 - lr: 0.0100\n",
      "Epoch 2/100\n",
      "814/814 [==============================] - 2s 3ms/step - loss: 0.4420 - val_loss: 0.4038 - lr: 0.0100\n",
      "Epoch 3/100\n",
      "814/814 [==============================] - 2s 3ms/step - loss: 0.4307 - val_loss: 0.4165 - lr: 0.0100\n",
      "Epoch 4/100\n",
      "814/814 [==============================] - 3s 3ms/step - loss: 0.4267 - val_loss: 0.4006 - lr: 0.0100\n",
      "Epoch 5/100\n",
      "814/814 [==============================] - 2s 3ms/step - loss: 0.4259 - val_loss: 0.4203 - lr: 0.0100\n",
      "Epoch 6/100\n",
      "814/814 [==============================] - 2s 3ms/step - loss: 0.4253 - val_loss: 0.4111 - lr: 0.0100\n",
      "Epoch 7/100\n",
      "814/814 [==============================] - 2s 3ms/step - loss: 0.4245 - val_loss: 0.3966 - lr: 0.0100\n",
      "Epoch 8/100\n",
      "814/814 [==============================] - 3s 3ms/step - loss: 0.4228 - val_loss: 0.3943 - lr: 0.0100\n",
      "Epoch 9/100\n",
      "814/814 [==============================] - 3s 3ms/step - loss: 0.4227 - val_loss: 0.3920 - lr: 0.0100\n",
      "Epoch 10/100\n",
      "814/814 [==============================] - 3s 3ms/step - loss: 0.4204 - val_loss: 0.4045 - lr: 0.0100\n",
      "Epoch 11/100\n",
      "814/814 [==============================] - 3s 4ms/step - loss: 0.4207 - val_loss: 0.4148 - lr: 0.0100\n",
      "Epoch 12/100\n",
      "814/814 [==============================] - 3s 3ms/step - loss: 0.4207 - val_loss: 0.3959 - lr: 0.0100\n",
      "Epoch 13/100\n",
      "814/814 [==============================] - 3s 3ms/step - loss: 0.4214 - val_loss: 0.4031 - lr: 0.0100\n",
      "Epoch 14/100\n",
      "814/814 [==============================] - 3s 3ms/step - loss: 0.4186 - val_loss: 0.4039 - lr: 0.0100\n",
      "Epoch 15/100\n",
      "814/814 [==============================] - 2s 3ms/step - loss: 0.4201 - val_loss: 0.3973 - lr: 0.0100\n",
      "Epoch 16/100\n",
      "814/814 [==============================] - 3s 4ms/step - loss: 0.4164 - val_loss: 0.3890 - lr: 0.0100\n",
      "Epoch 17/100\n",
      "814/814 [==============================] - 3s 3ms/step - loss: 0.4185 - val_loss: 0.4017 - lr: 0.0100\n",
      "Epoch 18/100\n",
      "814/814 [==============================] - 2s 3ms/step - loss: 0.4198 - val_loss: 0.3992 - lr: 0.0100\n",
      "Epoch 19/100\n",
      "814/814 [==============================] - 2s 3ms/step - loss: 0.4193 - val_loss: 0.3931 - lr: 0.0100\n",
      "Epoch 20/100\n",
      "814/814 [==============================] - 3s 3ms/step - loss: 0.4203 - val_loss: 0.3863 - lr: 0.0100\n",
      "Epoch 21/100\n",
      "814/814 [==============================] - 3s 4ms/step - loss: 0.3694 - val_loss: 0.3417 - lr: 1.0000e-03\n",
      "Epoch 22/100\n",
      "814/814 [==============================] - 3s 4ms/step - loss: 0.3557 - val_loss: 0.3389 - lr: 1.0000e-03\n",
      "Epoch 23/100\n",
      "814/814 [==============================] - 3s 4ms/step - loss: 0.3487 - val_loss: 0.3373 - lr: 1.0000e-03\n",
      "Epoch 24/100\n",
      "814/814 [==============================] - 3s 3ms/step - loss: 0.3488 - val_loss: 0.3351 - lr: 1.0000e-03\n",
      "Epoch 25/100\n",
      "814/814 [==============================] - 3s 4ms/step - loss: 0.3455 - val_loss: 0.3318 - lr: 1.0000e-03\n",
      "Epoch 26/100\n",
      "814/814 [==============================] - 3s 4ms/step - loss: 0.3476 - val_loss: 0.3328 - lr: 1.0000e-03\n",
      "Epoch 27/100\n",
      "814/814 [==============================] - 3s 4ms/step - loss: 0.3471 - val_loss: 0.3327 - lr: 1.0000e-03\n",
      "Epoch 28/100\n",
      "814/814 [==============================] - 3s 3ms/step - loss: 0.3477 - val_loss: 0.3393 - lr: 1.0000e-03\n",
      "Epoch 29/100\n",
      "814/814 [==============================] - 3s 4ms/step - loss: 0.3475 - val_loss: 0.3408 - lr: 1.0000e-03\n",
      "Epoch 30/100\n",
      "814/814 [==============================] - 4s 4ms/step - loss: 0.3467 - val_loss: 0.3379 - lr: 1.0000e-03\n",
      "Epoch 31/100\n",
      "814/814 [==============================] - 3s 3ms/step - loss: 0.3486 - val_loss: 0.3344 - lr: 1.0000e-03\n",
      "Epoch 32/100\n",
      "814/814 [==============================] - 3s 4ms/step - loss: 0.3470 - val_loss: 0.3319 - lr: 1.0000e-03\n",
      "Epoch 33/100\n",
      "814/814 [==============================] - 2s 3ms/step - loss: 0.3447 - val_loss: 0.3334 - lr: 1.0000e-03\n",
      "Epoch 34/100\n",
      "814/814 [==============================] - 3s 3ms/step - loss: 0.3474 - val_loss: 0.3366 - lr: 1.0000e-03\n",
      "Epoch 35/100\n",
      "814/814 [==============================] - 3s 3ms/step - loss: 0.3471 - val_loss: 0.3358 - lr: 1.0000e-03\n",
      "Epoch 36/100\n",
      "814/814 [==============================] - 2s 3ms/step - loss: 0.3481 - val_loss: 0.3347 - lr: 1.0000e-03\n",
      "Epoch 37/100\n",
      "814/814 [==============================] - 2s 3ms/step - loss: 0.3476 - val_loss: 0.3300 - lr: 1.0000e-03\n",
      "Epoch 38/100\n",
      "814/814 [==============================] - 3s 3ms/step - loss: 0.3475 - val_loss: 0.3356 - lr: 1.0000e-03\n",
      "Epoch 39/100\n",
      "814/814 [==============================] - 2s 2ms/step - loss: 0.3478 - val_loss: 0.3344 - lr: 1.0000e-03\n",
      "Epoch 40/100\n",
      "814/814 [==============================] - 3s 3ms/step - loss: 0.3463 - val_loss: 0.3370 - lr: 1.0000e-03\n",
      "Epoch 41/100\n",
      "814/814 [==============================] - 2s 3ms/step - loss: 0.3403 - val_loss: 0.3296 - lr: 1.0000e-04\n",
      "Epoch 42/100\n",
      "814/814 [==============================] - 3s 4ms/step - loss: 0.3388 - val_loss: 0.3290 - lr: 1.0000e-04\n",
      "Epoch 43/100\n",
      "814/814 [==============================] - 3s 4ms/step - loss: 0.3372 - val_loss: 0.3275 - lr: 1.0000e-04\n",
      "Epoch 44/100\n",
      "814/814 [==============================] - 3s 4ms/step - loss: 0.3345 - val_loss: 0.3266 - lr: 1.0000e-04\n",
      "Epoch 45/100\n",
      "814/814 [==============================] - 3s 4ms/step - loss: 0.3292 - val_loss: 0.3270 - lr: 1.0000e-04\n",
      "Epoch 46/100\n",
      "814/814 [==============================] - 3s 4ms/step - loss: 0.3307 - val_loss: 0.3248 - lr: 1.0000e-04\n",
      "Epoch 47/100\n",
      "814/814 [==============================] - 3s 4ms/step - loss: 0.3317 - val_loss: 0.3250 - lr: 1.0000e-04\n",
      "Epoch 48/100\n",
      "814/814 [==============================] - 3s 3ms/step - loss: 0.3315 - val_loss: 0.3237 - lr: 1.0000e-04\n",
      "Epoch 49/100\n",
      "814/814 [==============================] - 3s 3ms/step - loss: 0.3316 - val_loss: 0.3243 - lr: 1.0000e-04\n",
      "Epoch 50/100\n",
      "814/814 [==============================] - 3s 4ms/step - loss: 0.3311 - val_loss: 0.3255 - lr: 1.0000e-04\n",
      "Epoch 51/100\n",
      "814/814 [==============================] - 3s 3ms/step - loss: 0.3298 - val_loss: 0.3232 - lr: 1.0000e-04\n",
      "Epoch 52/100\n",
      "814/814 [==============================] - 3s 4ms/step - loss: 0.3276 - val_loss: 0.3222 - lr: 1.0000e-04\n",
      "Epoch 53/100\n",
      "814/814 [==============================] - 3s 3ms/step - loss: 0.3289 - val_loss: 0.3236 - lr: 1.0000e-04\n",
      "Epoch 54/100\n",
      "814/814 [==============================] - 3s 4ms/step - loss: 0.3294 - val_loss: 0.3214 - lr: 1.0000e-04\n",
      "Epoch 55/100\n",
      "814/814 [==============================] - 3s 4ms/step - loss: 0.3288 - val_loss: 0.3223 - lr: 1.0000e-04\n",
      "Epoch 56/100\n",
      "814/814 [==============================] - 3s 3ms/step - loss: 0.3297 - val_loss: 0.3215 - lr: 1.0000e-04\n",
      "Epoch 57/100\n",
      "814/814 [==============================] - 3s 4ms/step - loss: 0.3294 - val_loss: 0.3231 - lr: 1.0000e-04\n",
      "Epoch 58/100\n",
      "814/814 [==============================] - 3s 3ms/step - loss: 0.3271 - val_loss: 0.3204 - lr: 1.0000e-04\n",
      "Epoch 59/100\n",
      "814/814 [==============================] - 3s 4ms/step - loss: 0.3256 - val_loss: 0.3211 - lr: 1.0000e-04\n",
      "Epoch 60/100\n",
      "814/814 [==============================] - 2s 3ms/step - loss: 0.3267 - val_loss: 0.3205 - lr: 1.0000e-04\n",
      "Epoch 61/100\n",
      "814/814 [==============================] - 3s 3ms/step - loss: 0.3253 - val_loss: 0.3200 - lr: 1.0000e-05\n",
      "Epoch 62/100\n",
      "814/814 [==============================] - 3s 4ms/step - loss: 0.3269 - val_loss: 0.3222 - lr: 1.0000e-05\n",
      "Epoch 63/100\n",
      "814/814 [==============================] - 3s 4ms/step - loss: 0.3228 - val_loss: 0.3213 - lr: 1.0000e-05\n",
      "Epoch 64/100\n",
      "814/814 [==============================] - 3s 3ms/step - loss: 0.3237 - val_loss: 0.3213 - lr: 1.0000e-05\n",
      "Epoch 65/100\n",
      "814/814 [==============================] - 3s 3ms/step - loss: 0.3260 - val_loss: 0.3216 - lr: 1.0000e-05\n",
      "Epoch 66/100\n",
      "814/814 [==============================] - 3s 4ms/step - loss: 0.3249 - val_loss: 0.3204 - lr: 1.0000e-05\n",
      "Epoch 67/100\n",
      "814/814 [==============================] - 3s 4ms/step - loss: 0.3249 - val_loss: 0.3209 - lr: 1.0000e-05\n",
      "Epoch 68/100\n",
      "814/814 [==============================] - 3s 4ms/step - loss: 0.3240 - val_loss: 0.3198 - lr: 1.0000e-05\n",
      "Epoch 69/100\n",
      "814/814 [==============================] - 3s 4ms/step - loss: 0.3260 - val_loss: 0.3218 - lr: 1.0000e-05\n",
      "Epoch 70/100\n"
     ]
    },
    {
     "name": "stdout",
     "output_type": "stream",
     "text": [
      "814/814 [==============================] - 3s 3ms/step - loss: 0.3249 - val_loss: 0.3210 - lr: 1.0000e-05\n",
      "Epoch 71/100\n",
      "814/814 [==============================] - 3s 3ms/step - loss: 0.3267 - val_loss: 0.3205 - lr: 1.0000e-05\n",
      "Epoch 72/100\n",
      "814/814 [==============================] - 3s 4ms/step - loss: 0.3216 - val_loss: 0.3220 - lr: 1.0000e-05\n",
      "Epoch 73/100\n",
      "814/814 [==============================] - 2s 3ms/step - loss: 0.3207 - val_loss: 0.3200 - lr: 1.0000e-05\n",
      "Epoch 74/100\n",
      "814/814 [==============================] - 3s 4ms/step - loss: 0.3244 - val_loss: 0.3211 - lr: 1.0000e-05\n",
      "Epoch 75/100\n",
      "814/814 [==============================] - 3s 3ms/step - loss: 0.3245 - val_loss: 0.3216 - lr: 1.0000e-05\n",
      "Epoch 76/100\n",
      "814/814 [==============================] - 3s 3ms/step - loss: 0.3236 - val_loss: 0.3193 - lr: 1.0000e-05\n",
      "Epoch 77/100\n",
      "814/814 [==============================] - 3s 4ms/step - loss: 0.3239 - val_loss: 0.3218 - lr: 1.0000e-05\n",
      "Epoch 78/100\n",
      "814/814 [==============================] - 3s 4ms/step - loss: 0.3217 - val_loss: 0.3202 - lr: 1.0000e-05\n",
      "Epoch 79/100\n",
      "814/814 [==============================] - 3s 3ms/step - loss: 0.3226 - val_loss: 0.3205 - lr: 1.0000e-05\n",
      "Epoch 80/100\n",
      "814/814 [==============================] - 3s 4ms/step - loss: 0.3245 - val_loss: 0.3216 - lr: 1.0000e-05\n",
      "Epoch 81/100\n",
      "814/814 [==============================] - 3s 3ms/step - loss: 0.3230 - val_loss: 0.3213 - lr: 1.0000e-05\n",
      "Epoch 82/100\n",
      "814/814 [==============================] - 2s 3ms/step - loss: 0.3256 - val_loss: 0.3223 - lr: 1.0000e-05\n",
      "Epoch 83/100\n",
      "814/814 [==============================] - 2s 3ms/step - loss: 0.3233 - val_loss: 0.3198 - lr: 1.0000e-05\n",
      "Epoch 84/100\n",
      "814/814 [==============================] - 2s 3ms/step - loss: 0.3244 - val_loss: 0.3201 - lr: 1.0000e-05\n",
      "Epoch 85/100\n",
      "814/814 [==============================] - 3s 3ms/step - loss: 0.3245 - val_loss: 0.3209 - lr: 1.0000e-05\n",
      "Epoch 86/100\n",
      "814/814 [==============================] - 3s 4ms/step - loss: 0.3244 - val_loss: 0.3198 - lr: 1.0000e-05\n",
      "Epoch 87/100\n",
      "814/814 [==============================] - 3s 3ms/step - loss: 0.3227 - val_loss: 0.3203 - lr: 1.0000e-05\n",
      "Epoch 88/100\n",
      "814/814 [==============================] - 3s 3ms/step - loss: 0.3235 - val_loss: 0.3217 - lr: 1.0000e-05\n",
      "Epoch 89/100\n",
      "814/814 [==============================] - 3s 4ms/step - loss: 0.3250 - val_loss: 0.3197 - lr: 1.0000e-05\n",
      "Epoch 90/100\n",
      "814/814 [==============================] - 3s 3ms/step - loss: 0.3236 - val_loss: 0.3193 - lr: 1.0000e-05\n",
      "Epoch 91/100\n",
      "814/814 [==============================] - 3s 3ms/step - loss: 0.3244 - val_loss: 0.3199 - lr: 1.0000e-05\n"
     ]
    }
   ],
   "source": [
    "from tensorflow.keras.initializers import HeNormal\n",
    "from tensorflow.keras.layers import BatchNormalization\n",
    "from tensorflow.keras.layers import ReLU\n",
    "from tensorflow.keras.layers import Dropout\n",
    "from tensorflow.keras.callbacks import EarlyStopping\n",
    "from tensorflow.keras.callbacks import LearningRateScheduler\n",
    "\n",
    "init = HeNormal()\n",
    "\n",
    "model = Sequential()\n",
    "model.add(Dense(128,kernel_regularizer=l2(0.01),\n",
    "          bias_regularizer=l2(0.01),\n",
    "          kernel_initializer=init))\n",
    "model.add(BatchNormalization())\n",
    "model.add(ReLU())\n",
    "model.add(Dropout(0.5))\n",
    "model.add(Dense(1,activation='sigmoid'))\n",
    "\n",
    "opt = Adam(learning_rate=0.01,beta_1 = 0.9,beta_2 = 0.999)\n",
    "#model.compile(optimizer=opt,\n",
    "#             loss='binary_crossentropy',\n",
    "#             metrics=['acc'])\n",
    "model.compile(optimizer=opt,\n",
    "             loss='binary_crossentropy')\n",
    "\n",
    "es_callback = EarlyStopping(monitor='val_loss', patience=15) \n",
    "#es_callback = EarlyStopping(monitor='val_acc', patience=15) \n",
    "\n",
    "def scheduler(epoch, lr):\n",
    "    if epoch in [20,40,60]:\n",
    "        lr = 0.1*lr\n",
    "    else:\n",
    "        lr = lr\n",
    "    return lr\n",
    "\n",
    "ls_callback = LearningRateScheduler(scheduler) \n",
    "\n",
    "\n",
    "hist = model.fit(X_train, y_train, \n",
    "                 validation_data=(X_val, y_val), \n",
    "                 epochs=100, callbacks=[es_callback,ls_callback]) "
   ]
  },
  {
   "cell_type": "code",
   "execution_count": 22,
   "metadata": {},
   "outputs": [
    {
     "data": {
      "image/png": "[encoded data removed]",
      "text/plain": [
       "<Figure size 432x288 with 1 Axes>"
      ]
     },
     "metadata": {
      "needs_background": "light"
     },
     "output_type": "display_data"
    }
   ],
   "source": [
    "train_loss = hist.history['loss']\n",
    "val_loss = hist.history['val_loss']\n",
    "#train_acc = hist.history['acc']\n",
    "#val_acc = hist.history['val_acc']\n",
    "\n",
    "import matplotlib.pyplot as plt\n",
    "\n",
    "plt.plot(train_loss,label='train loss')\n",
    "plt.plot(val_loss,label='val loss')\n",
    "plt.legend()\n",
    "plt.show()"
   ]
  },
  {
   "cell_type": "code",
   "execution_count": null,
   "metadata": {},
   "outputs": [],
   "source": []
  }
 ],
 "metadata": {
  "accelerator": "GPU",
  "colab": {
   "collapsed_sections": [],
   "name": "DM10_day2.ipynb",
   "provenance": []
  },
  "kernelspec": {
   "display_name": "Python 3 (ipykernel)",
   "language": "python",
   "name": "python3"
  },
  "language_info": {
   "codemirror_mode": {
    "name": "ipython",
    "version": 3
   },
   "file_extension": ".py",
   "mimetype": "text/x-python",
   "name": "python",
   "nbconvert_exporter": "python",
   "pygments_lexer": "ipython3",
   "version": "3.9.12"
  }
 },
 "nbformat": 4,
 "nbformat_minor": 1
}
